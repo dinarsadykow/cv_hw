{
  "cells": [
    {
      "cell_type": "markdown",
      "metadata": {
        "id": "view-in-github",
        "colab_type": "text"
      },
      "source": [
        "<a href=\"https://colab.research.google.com/github/dinarsadykow/cv_hw/blob/main/kaggle_OTTO.ipynb\" target=\"_parent\"><img src=\"https://colab.research.google.com/assets/colab-badge.svg\" alt=\"Open In Colab\"/></a>"
      ]
    },
    {
      "cell_type": "markdown",
      "metadata": {
        "id": "99tBbzAt1HNU"
      },
      "source": [
        "# OTTO – Multi-Objective Recommender System\n",
        "https://www.kaggle.com/competitions/otto-recommender-system/data"
      ]
    },
    {
      "cell_type": "code",
      "execution_count": 15,
      "metadata": {
        "id": "XudeYzl5117x"
      },
      "outputs": [],
      "source": [
        "# # ------------------------------------------------------\n",
        "# # Kaggle Download Data\n",
        "\n",
        "# import json\n",
        "\n",
        "# !mkdir ~/.kaggle\n",
        "# !touch ~/.kaggle/kaggle.json\n",
        "\n",
        "# # api_token = {\"username\":\"123\",\"key\":\"456\"}\n",
        "# api_token = json.load( open('/content/drive/MyDrive/kaggle.json','r') )\n",
        "\n",
        "# with open('/root/.kaggle/kaggle.json', 'w') as file:\n",
        "#     json.dump(api_token, file)\n",
        "\n",
        "# !chmod 600 ~/.kaggle/kaggle.json\n",
        "\n",
        "# !kaggle competitions download -c otto-recommender-system\n",
        "# !unzip /content/otto-recommender-system.zip\n",
        "\n",
        "# # ------------------------------------------------------\n",
        "# # pySpark Tutorial from https://towardsdatascience.com/pyspark-on-google-colab-101-d31830b238be\n",
        "\n",
        "# !apt-get install openjdk-11-jdk-headless -qq > /dev/null\n",
        "# !wget -q https://archive.apache.org/dist/spark/spark-3.1.2/spark-3.1.2-bin-hadoop2.7.tgz\n",
        "# !tar xf spark-3.1.2-bin-hadoop2.7.tgz\n",
        "# !pip install -q findspark\n",
        "\n",
        "# !pip install pickle5\n",
        "# !pip install pyspark_dist_explore"
      ]
    },
    {
      "cell_type": "code",
      "source": [],
      "metadata": {
        "id": "s4wdIn0Mz76e"
      },
      "execution_count": null,
      "outputs": []
    },
    {
      "cell_type": "code",
      "execution_count": 1,
      "metadata": {
        "id": "c5ElN1ix1DYB"
      },
      "outputs": [],
      "source": [
        "import os\n",
        "os.environ[\"JAVA_HOME\"] = \"/usr/lib/jvm/java-11-openjdk-amd64\"\n",
        "os.environ[\"SPARK_HOME\"] = \"/content/spark-3.1.2-bin-hadoop2.7\"\n",
        "os.environ[\"PYSPARK_SUBMIT_ARGS\"]='--num-executors 4 --executor-memory 4g --driver-memory 3g pyspark-shell'\n",
        "\n",
        "import findspark\n",
        "findspark.init()\n",
        "\n",
        "from pyspark.sql import SparkSession\n",
        "from pyspark.sql.types import StructType, StructField, IntegerType, LongType\n",
        "\n",
        "spark = (\n",
        "      SparkSession.builder\\\n",
        "        .master(\"local\")\\\n",
        "        .appName(\"sdr\")\\\n",
        "        .config('spark.ui.port', '4050')\\\n",
        "        .config(\"spark.driver.maxResultSize\", \"4g\")\\\n",
        "        #.config(\"spark.sql.crossJoin.enabled\", \"true\")\\\n",
        "        .getOrCreate()\n",
        "      )"
      ]
    },
    {
      "cell_type": "code",
      "execution_count": 2,
      "metadata": {
        "id": "h6ReRiq-2yUf"
      },
      "outputs": [],
      "source": [
        "from pyspark.ml.feature import Tokenizer, HashingTF, IDF\n",
        "\n",
        "from pyspark.ml import Pipeline\n",
        "import pyspark.sql.functions as F\n",
        "import pyspark.sql.types as T\n",
        "\n",
        "from pyspark.ml.linalg import DenseVector\n",
        "from pyspark.ml.linalg import Vectors\n",
        "from pyspark.ml.linalg import VectorUDT\n",
        "\n",
        "from pyspark.ml.feature import StringIndexer\n",
        "from pyspark.ml.feature import OneHotEncoder\n",
        "from pyspark.ml.feature import CountVectorizer\n",
        "from pyspark.ml.feature import VectorAssembler\n",
        "from pyspark.ml import Pipeline\n",
        "from pyspark.ml.evaluation import BinaryClassificationEvaluator\n",
        "from pyspark.ml.classification import LogisticRegression\n",
        "from pyspark.ml.classification import RandomForestClassifier\n",
        "from pyspark.ml.classification import GBTClassifier\n",
        "\n",
        "import gc\n",
        "import re\n",
        "from datetime import datetime\n",
        "\n",
        "import pickle5 as pickle\n",
        "import json\n",
        "\n",
        "from pyspark_dist_explore import hist\n",
        "import matplotlib.pyplot as plt"
      ]
    },
    {
      "cell_type": "code",
      "execution_count": null,
      "metadata": {
        "id": "l4tpp3GtDWEC"
      },
      "outputs": [],
      "source": []
    },
    {
      "cell_type": "markdown",
      "source": [
        "# Files\n",
        "\n",
        "### - train.jsonl - the training data, which contains full session data\n",
        "\n",
        "- session - the unique session id\n",
        "- events - the time ordered sequence of events in the session\n",
        "-- aid - the article id (product code) of the associated event\n",
        "-- ts - the Unix timestamp of the event\n",
        "-- type - the event type, i.e., whether a product was clicked, added to the user's cart, or ordered during the session\n",
        "\n",
        "\n",
        "### - test.jsonl - the test data, which contains truncated session data\n",
        "your task is to predict the next aid clicked after the session truncation, as well as the the remaining aids that are added to carts and orders; you may predict up to 20 values for each \n",
        "session type\n",
        "\n",
        "\n",
        "### - sample_submission.csv - a sample submission file in the correct format"
      ],
      "metadata": {
        "id": "XDI9-zKQm93V"
      }
    },
    {
      "cell_type": "markdown",
      "source": [
        "# Load Train Data"
      ],
      "metadata": {
        "id": "-kKn-mvxtJRR"
      }
    },
    {
      "cell_type": "code",
      "execution_count": null,
      "metadata": {
        "colab": {
          "background_save": true,
          "base_uri": "https://localhost:8080/"
        },
        "id": "5zNLcwym2yXS",
        "outputId": "51768d7e-2c39-4827-ef37-56e9db9c0a56"
      },
      "outputs": [
        {
          "name": "stdout",
          "output_type": "stream",
          "text": [
            "root\n",
            " |-- session: long (nullable = true)\n",
            " |-- aid: array (nullable = true)\n",
            " |    |-- element: long (containsNull = true)\n",
            " |-- ts: array (nullable = true)\n",
            " |    |-- element: long (containsNull = true)\n",
            " |-- type: array (nullable = true)\n",
            " |    |-- element: string (containsNull = true)\n",
            "\n",
            "+-------+--------------------+--------------------+--------------------+\n",
            "|session|                 aid|                  ts|                type|\n",
            "+-------+--------------------+--------------------+--------------------+\n",
            "|      0|[1517085, 1563459...|[1659304800025, 1...|[clicks, clicks, ...|\n",
            "|      1|[424964, 1492293,...|[1659304800025, 1...|[carts, clicks, c...|\n",
            "|      2|[763743, 137492, ...|[1659304800038, 1...|[clicks, clicks, ...|\n",
            "|      3|[1425967, 1425967...|[1659304800095, 1...|[carts, clicks, c...|\n",
            "|      4|[613619, 298827, ...|[1659304800119, 1...|[clicks, clicks, ...|\n",
            "|      5|[1098089, 1354785...|[1659304800133, 1...|[clicks, clicks, ...|\n",
            "|      6|[137164, 956148, ...|[1659304800134, 1...|[clicks, clicks, ...|\n",
            "|      7|[87774, 1241611, ...|[1659304800134, 1...|[clicks, clicks, ...|\n",
            "|      8|[1814223, 324620,...|[1659304800136, 1...|[clicks, clicks, ...|\n",
            "|      9|[847707, 847707, ...|[1659304800144, 1...|[clicks, carts, c...|\n",
            "|     10|[271630, 967918, ...|[1659304800151, 1...|[clicks, clicks, ...|\n",
            "|     11|[1110510, 1110510...|[1659304800172, 1...|[clicks, clicks, ...|\n",
            "|     12|[832890, 832890, ...|[1659304800200, 1...|[clicks, carts, o...|\n",
            "|     13|[1674493, 1674493...|[1659304800201, 1...|[clicks, clicks, ...|\n",
            "|     14|[414349, 414349, ...|[1659304800234, 1...|[clicks, carts, c...|\n",
            "|     15|[1464271, 1464271...|[1659304800257, 1...|[clicks, carts, c...|\n",
            "|     16|[1143723, 1003508...|[1659304800274, 1...|[carts, clicks, c...|\n",
            "|     17|[120548, 1842471,...|[1659304800325, 1...|[clicks, clicks, ...|\n",
            "|     18|[841121, 1688963,...|[1659304800326, 1...|[clicks, clicks, ...|\n",
            "|     19|[1248752, 1446002...|[1659304800333, 1...|[clicks, clicks, ...|\n",
            "+-------+--------------------+--------------------+--------------------+\n",
            "only showing top 20 rows\n",
            "\n"
          ]
        }
      ],
      "source": [
        "sDF_train = spark.read.json( 'train.jsonl' )\n",
        "sDF_train = ( sDF_train.select(\n",
        "                        'session' \n",
        "                        , 'events.aid'\n",
        "                        , 'events.ts'\n",
        "                        , 'events.type'\n",
        "                      )\n",
        "              )\n",
        "\n",
        "sDF_train.printSchema()\n",
        "sDF_train.show()"
      ]
    },
    {
      "cell_type": "code",
      "execution_count": null,
      "metadata": {
        "colab": {
          "background_save": true
        },
        "id": "JSsPEi4zfln1"
      },
      "outputs": [],
      "source": []
    },
    {
      "cell_type": "code",
      "execution_count": null,
      "metadata": {
        "colab": {
          "background_save": true
        },
        "id": "2c24unzbezxL"
      },
      "outputs": [],
      "source": [
        "def SaveReadParquet( sparkDF_input\n",
        "                    , f_name = 'sDF_example_name'\n",
        "                    #, my_dir = '/content/drive/MyDrive/Colab Notebooks/Kaggle/' \n",
        "                    , my_dir = '/content/'\n",
        "                    ):\n",
        "    write_name = f'{my_dir}{f_name}.parquet'\n",
        "    sparkDF_input.write.mode('overwrite').parquet( write_name )\n",
        "    print( write_name )\n",
        "    return spark.read.parquet( write_name )"
      ]
    },
    {
      "cell_type": "code",
      "execution_count": null,
      "metadata": {
        "colab": {
          "background_save": true
        },
        "id": "LYZ0tbTrflYL"
      },
      "outputs": [],
      "source": []
    },
    {
      "cell_type": "code",
      "execution_count": null,
      "metadata": {
        "colab": {
          "background_save": true,
          "base_uri": "https://localhost:8080/"
        },
        "id": "qXm-gP66SOQs",
        "outputId": "54295d03-6d4e-4a8f-e6eb-317f0cdfda6a"
      },
      "outputs": [
        {
          "name": "stdout",
          "output_type": "stream",
          "text": [
            "+-------+---+-------+\n",
            "|session|pos|    aid|\n",
            "+-------+---+-------+\n",
            "|      0|  0|1517085|\n",
            "|      0|  1|1563459|\n",
            "|      0|  2|1309446|\n",
            "|      0|  3|  16246|\n",
            "|      0|  4|1781822|\n",
            "|      0|  5|1152674|\n",
            "|      0|  6|1649869|\n",
            "|      0|  7| 461689|\n",
            "|      0|  8| 305831|\n",
            "|      0|  9| 461689|\n",
            "|      0| 10| 362233|\n",
            "|      0| 11|1649869|\n",
            "|      0| 12|1649869|\n",
            "|      0| 13| 984597|\n",
            "|      0| 14|1649869|\n",
            "|      0| 15| 803544|\n",
            "|      0| 16|1110941|\n",
            "|      0| 17|1190046|\n",
            "|      0| 18|1760685|\n",
            "|      0| 19| 631008|\n",
            "+-------+---+-------+\n",
            "only showing top 20 rows\n",
            "\n",
            "CPU times: user 4.69 ms, sys: 2.18 ms, total: 6.87 ms\n",
            "Wall time: 737 ms\n"
          ]
        }
      ],
      "source": [
        "%%time\n",
        "\n",
        "sDF_train2 = sDF_train\\\n",
        "    .select( 'session' , F.posexplode('aid') ) \\\n",
        "    .withColumnRenamed('col','aid')\n",
        "    \n",
        "sDF_train2.show()"
      ]
    },
    {
      "cell_type": "code",
      "execution_count": null,
      "metadata": {
        "colab": {
          "background_save": true
        },
        "id": "mZQKaJjke1a3",
        "outputId": "aed5d62b-9a73-4b1b-8ea3-e29f33d8326d"
      },
      "outputs": [
        {
          "name": "stdout",
          "output_type": "stream",
          "text": [
            "/content/sDF_train2.parquet\n",
            "CPU times: user 1.42 s, sys: 150 ms, total: 1.57 s\n",
            "Wall time: 8min 3s\n"
          ]
        }
      ],
      "source": [
        "%%time\n",
        "\n",
        "sDF_train2 = SaveReadParquet(sDF_train2,'sDF_train2')"
      ]
    },
    {
      "cell_type": "code",
      "execution_count": null,
      "metadata": {
        "colab": {
          "background_save": true
        },
        "id": "SOkICwGifkrz"
      },
      "outputs": [],
      "source": []
    },
    {
      "cell_type": "code",
      "source": [],
      "metadata": {
        "id": "6OorDQ9poXSj"
      },
      "execution_count": null,
      "outputs": []
    },
    {
      "cell_type": "code",
      "source": [],
      "metadata": {
        "id": "reWfvJ57oXVO"
      },
      "execution_count": null,
      "outputs": []
    },
    {
      "cell_type": "code",
      "execution_count": null,
      "metadata": {
        "colab": {
          "background_save": true,
          "base_uri": "https://localhost:8080/"
        },
        "id": "wLPCY_rYSJB1",
        "outputId": "f5292f4d-65dc-407c-ef22-f761c02ae6ff"
      },
      "outputs": [
        {
          "name": "stdout",
          "output_type": "stream",
          "text": [
            "+-------+---+----+\n",
            "|session|pos|type|\n",
            "+-------+---+----+\n",
            "|      0|  0|   0|\n",
            "|      0|  1|   0|\n",
            "|      0|  2|   0|\n",
            "|      0|  3|   0|\n",
            "|      0|  4|   0|\n",
            "|      0|  5|   0|\n",
            "|      0|  6|   1|\n",
            "|      0|  7|   1|\n",
            "|      0|  8|   2|\n",
            "|      0|  9|   2|\n",
            "|      0| 10|   0|\n",
            "|      0| 11|   0|\n",
            "|      0| 12|   0|\n",
            "|      0| 13|   0|\n",
            "|      0| 14|   0|\n",
            "|      0| 15|   0|\n",
            "|      0| 16|   0|\n",
            "|      0| 17|   0|\n",
            "|      0| 18|   0|\n",
            "|      0| 19|   0|\n",
            "+-------+---+----+\n",
            "only showing top 20 rows\n",
            "\n"
          ]
        }
      ],
      "source": [
        "type_labels_dic = {'clicks':0, 'carts':1, 'orders':2}\n",
        "\n",
        "@F.udf( T.StringType() )\n",
        "def type_labels(x):\n",
        "    return type_labels_dic[x]\n",
        "\n",
        "sDF_train4 = sDF_train\\\n",
        "    .select( 'session' , F.posexplode('type') ) \\\n",
        "    .withColumnRenamed( 'col', 'type' ) \\\n",
        "    .withColumn( 'type', type_labels(F.col('type') ) )\n",
        "\n",
        "sDF_train4.show()"
      ]
    },
    {
      "cell_type": "code",
      "execution_count": null,
      "metadata": {
        "colab": {
          "background_save": true
        },
        "id": "gcNuuc6se8Wi",
        "outputId": "5fa64244-38cf-4627-a828-043ea1f0a662"
      },
      "outputs": [
        {
          "name": "stdout",
          "output_type": "stream",
          "text": [
            "/content/sDF_train4.parquet\n",
            "CPU times: user 2.74 s, sys: 278 ms, total: 3.02 s\n",
            "Wall time: 16min 43s\n"
          ]
        }
      ],
      "source": [
        "%%time\n",
        "\n",
        "sDF_train4 = SaveReadParquet(sDF_train4,'sDF_train4')"
      ]
    },
    {
      "cell_type": "code",
      "execution_count": null,
      "metadata": {
        "colab": {
          "background_save": true
        },
        "id": "l39TtttUfnFa"
      },
      "outputs": [],
      "source": []
    },
    {
      "cell_type": "code",
      "execution_count": null,
      "metadata": {
        "colab": {
          "background_save": true
        },
        "id": "Vzc8G4K_SRG-",
        "outputId": "69b35a39-e6e7-47c6-dff5-1d9e8ea29f09"
      },
      "outputs": [
        {
          "name": "stdout",
          "output_type": "stream",
          "text": [
            "root\n",
            " |-- session: long (nullable = true)\n",
            " |-- pos: integer (nullable = false)\n",
            " |-- ts: double (nullable = true)\n",
            "\n",
            "CPU times: user 4.7 ms, sys: 2.36 ms, total: 7.05 ms\n",
            "Wall time: 126 ms\n"
          ]
        }
      ],
      "source": [
        "%%time\n",
        "\n",
        "sDF_train3 = sDF_train\\\n",
        "    .select( 'session' , F.posexplode('ts') ) \\\n",
        "    .withColumnRenamed('col','ts') \\\n",
        "    .withColumn('ts', F.col('ts') / F.lit(1000) ) \\\n",
        "    .withColumn('ts', F.round( F.col('ts') ) )\n",
        "\n",
        "sDF_train3.printSchema()"
      ]
    },
    {
      "cell_type": "code",
      "source": [],
      "metadata": {
        "id": "TgUXTYvhoZyh"
      },
      "execution_count": null,
      "outputs": []
    },
    {
      "cell_type": "code",
      "execution_count": null,
      "metadata": {
        "colab": {
          "background_save": true
        },
        "id": "FknoDE1-fDhz",
        "outputId": "d15f9fb1-3334-4e85-fc53-2b168925225c"
      },
      "outputs": [
        {
          "name": "stdout",
          "output_type": "stream",
          "text": [
            "/content/sDF_train3.parquet\n",
            "CPU times: user 1.63 s, sys: 148 ms, total: 1.78 s\n",
            "Wall time: 9min 34s\n"
          ]
        }
      ],
      "source": [
        "%%time\n",
        "\n",
        "sDF_train3 = SaveReadParquet(sDF_train3,'sDF_train3')"
      ]
    },
    {
      "cell_type": "code",
      "execution_count": null,
      "metadata": {
        "colab": {
          "background_save": true
        },
        "id": "v_hUyXlHfn-u"
      },
      "outputs": [],
      "source": []
    },
    {
      "cell_type": "code",
      "execution_count": null,
      "metadata": {
        "colab": {
          "background_save": true
        },
        "id": "lOUIQTTfJDNh",
        "outputId": "a943461e-0a9b-454d-92d2-148dd000763c"
      },
      "outputs": [
        {
          "name": "stdout",
          "output_type": "stream",
          "text": [
            "root\n",
            " |-- session: long (nullable = true)\n",
            " |-- pos: integer (nullable = true)\n",
            " |-- aid: long (nullable = true)\n",
            " |-- ts: double (nullable = true)\n",
            " |-- type: string (nullable = true)\n",
            "\n",
            "CPU times: user 9.4 ms, sys: 0 ns, total: 9.4 ms\n",
            "Wall time: 144 ms\n"
          ]
        }
      ],
      "source": [
        "%%time\n",
        "\n",
        "sDF_train5 = sDF_train2 \\\n",
        "    .join( sDF_train3, on=['session','pos'],how='inner') \\\n",
        "    .join( sDF_train4, on=['session','pos'],how='inner') \n",
        "\n",
        "sDF_train5.printSchema()"
      ]
    },
    {
      "cell_type": "code",
      "source": [],
      "metadata": {
        "id": "MYHtlFODocwP"
      },
      "execution_count": null,
      "outputs": []
    },
    {
      "cell_type": "code",
      "source": [],
      "metadata": {
        "id": "--Nxp0j5oczg"
      },
      "execution_count": null,
      "outputs": []
    },
    {
      "cell_type": "code",
      "execution_count": null,
      "metadata": {
        "id": "04CAxWhL2P1M"
      },
      "outputs": [],
      "source": [
        "%%time\n",
        "    \n",
        "sDF_train5 = SaveReadParquet( sDF_train5, 'sDF_train5' )"
      ]
    },
    {
      "cell_type": "code",
      "execution_count": null,
      "metadata": {
        "id": "03Y3mp_BEw8K",
        "colab": {
          "base_uri": "https://localhost:8080/"
        },
        "outputId": "faa7a407-22ad-4f54-d04e-3c4375bc1055"
      },
      "outputs": [
        {
          "output_type": "stream",
          "name": "stdout",
          "text": [
            "+-------+---+-------+-------------+----+\n",
            "|session|pos|    aid|           ts|type|\n",
            "+-------+---+-------+-------------+----+\n",
            "|      0|  6|1649869|1.659369894E9|   1|\n",
            "|      0|112|1443747|1.660628405E9|   0|\n",
            "|      0|203| 974651|1.661550342E9|   1|\n",
            "|      0|268| 543308|1.661682228E9|   0|\n",
            "|      3| 16|1089061| 1.65939068E9|   0|\n",
            "|      6| 47|1479126|    1.65935E9|   0|\n",
            "|      6| 73|1747070|1.659352644E9|   0|\n",
            "|      6|100|  60590|1.659391566E9|   0|\n",
            "|      7|  4|1727444|1.659304888E9|   0|\n",
            "|     14| 15| 354050|1.659306059E9|   0|\n",
            "|     14| 84| 588838|1.659531835E9|   0|\n",
            "|     14|180| 311992|1.659568261E9|   0|\n",
            "|     14|349| 494715|1.661025531E9|   0|\n",
            "|     19| 91|1312778|1.659646045E9|   0|\n",
            "|     21| 21| 482707|1.659308077E9|   1|\n",
            "|     21|204| 484647|1.659709127E9|   0|\n",
            "|     21|305|1781373|1.660486968E9|   0|\n",
            "|     21|312|1842105|1.660566916E9|   0|\n",
            "|     21|363| 927708| 1.66076356E9|   0|\n",
            "|     23|  8| 826995|1.659842156E9|   1|\n",
            "+-------+---+-------+-------------+----+\n",
            "only showing top 20 rows\n",
            "\n"
          ]
        }
      ],
      "source": [
        "sDF_train5.show()"
      ]
    },
    {
      "cell_type": "code",
      "source": [
        "sDF_train5.count()"
      ],
      "metadata": {
        "colab": {
          "base_uri": "https://localhost:8080/"
        },
        "id": "7Y48IG43JXfk",
        "outputId": "8309ce8a-657a-4a41-c8ad-1a079924de00"
      },
      "execution_count": 25,
      "outputs": [
        {
          "output_type": "execute_result",
          "data": {
            "text/plain": [
              "216716096"
            ]
          },
          "metadata": {},
          "execution_count": 25
        }
      ]
    },
    {
      "cell_type": "code",
      "source": [],
      "metadata": {
        "id": "gU52LYnjn1VH"
      },
      "execution_count": null,
      "outputs": []
    },
    {
      "cell_type": "markdown",
      "source": [
        "# Load Test Data"
      ],
      "metadata": {
        "id": "cYUTMXEItFVk"
      }
    },
    {
      "cell_type": "code",
      "source": [
        "# sDF_test = spark.read.json( 'test.jsonl' )\n",
        "sDF_test = ( sDF_test.select(\n",
        "                        'session' \n",
        "                        , 'events.aid'\n",
        "                        , 'events.ts'\n",
        "                        , 'events.type'\n",
        "                      )\n",
        "              )\n",
        "\n",
        "sDF_test.printSchema()\n",
        "sDF_test.show()"
      ],
      "metadata": {
        "id": "8W1W63D7Jy-g",
        "colab": {
          "base_uri": "https://localhost:8080/"
        },
        "outputId": "d11fb37c-53ec-451b-9f6a-3c69e9857e33"
      },
      "execution_count": 27,
      "outputs": [
        {
          "output_type": "stream",
          "name": "stdout",
          "text": [
            "root\n",
            " |-- session: long (nullable = true)\n",
            " |-- aid: array (nullable = true)\n",
            " |    |-- element: long (containsNull = true)\n",
            " |-- ts: array (nullable = true)\n",
            " |    |-- element: long (containsNull = true)\n",
            " |-- type: array (nullable = true)\n",
            " |    |-- element: string (containsNull = true)\n",
            "\n",
            "+--------+--------------------+--------------------+--------------------+\n",
            "| session|                 aid|                  ts|                type|\n",
            "+--------+--------------------+--------------------+--------------------+\n",
            "|12899779|             [59625]|     [1661724000278]|            [clicks]|\n",
            "|12899780|[1142000, 582732,...|[1661724000378, 1...|[clicks, clicks, ...|\n",
            "|12899781|[141736, 199008, ...|[1661724000559, 1...|[clicks, clicks, ...|\n",
            "|12899782|[1669402, 1494780...|[1661724000568, 1...|[clicks, clicks, ...|\n",
            "|12899783|[255297, 1114789,...|[1661724000572, 1...|[clicks, clicks, ...|\n",
            "|12899784|[1036375, 1269952...|[1661724000604, 1...|[clicks, clicks, ...|\n",
            "|12899785|[1784451, 1169631...|[1661724000809, 1...|[clicks, clicks, ...|\n",
            "|12899786|    [955252, 955252]|[1661724001174, 1...|     [clicks, carts]|\n",
            "|12899787|[1682750, 1682750...|[1661724001617, 1...|[clicks, carts, c...|\n",
            "|12899788|[245131, 39846, 1...|[1661724001619, 1...|[clicks, clicks, ...|\n",
            "|12899789|[525156, 631398, ...|[1661724002025, 1...|[clicks, clicks, ...|\n",
            "|12899790|[1219653, 1830166...|[1661724002843, 1...|[carts, clicks, c...|\n",
            "|12899791|[915175, 915175, ...|[1661724002984, 1...|[clicks, clicks, ...|\n",
            "|12899792|[1537160, 1537160...|[1661724003149, 1...|[clicks, clicks, ...|\n",
            "|12899793|[1181781, 1585431...|[1661724003444, 1...|[clicks, clicks, ...|\n",
            "|12899794|  [1746099, 1242729]|[1661724003737, 1...|    [clicks, clicks]|\n",
            "|12899795|    [207754, 641250]|[1661724003946, 1...|    [clicks, clicks]|\n",
            "|12899796|              [4503]|     [1661724004002]|            [clicks]|\n",
            "|12899797|   [1335784, 156020]|[1661724004003, 1...|    [clicks, clicks]|\n",
            "|12899798|[379440, 1441157,...|[1661724004013, 1...|[clicks, clicks, ...|\n",
            "+--------+--------------------+--------------------+--------------------+\n",
            "only showing top 20 rows\n",
            "\n"
          ]
        }
      ]
    },
    {
      "cell_type": "code",
      "source": [
        "%%time\n",
        "\n",
        "sDF_test2 = sDF_test\\\n",
        "    .select( 'session' , F.posexplode('aid') ) \\\n",
        "    .withColumnRenamed('col','aid')\n",
        "    \n",
        "sDF_test2.show()"
      ],
      "metadata": {
        "colab": {
          "base_uri": "https://localhost:8080/"
        },
        "id": "3hdWiPgJogpy",
        "outputId": "3c86a5da-9d9c-492d-da4f-81acfc4191d1"
      },
      "execution_count": 28,
      "outputs": [
        {
          "output_type": "stream",
          "name": "stdout",
          "text": [
            "+--------+---+-------+\n",
            "| session|pos|    aid|\n",
            "+--------+---+-------+\n",
            "|12899779|  0|  59625|\n",
            "|12899780|  0|1142000|\n",
            "|12899780|  1| 582732|\n",
            "|12899780|  2| 973453|\n",
            "|12899780|  3| 736515|\n",
            "|12899780|  4|1142000|\n",
            "|12899781|  0| 141736|\n",
            "|12899781|  1| 199008|\n",
            "|12899781|  2|  57315|\n",
            "|12899781|  3| 194067|\n",
            "|12899781|  4| 199008|\n",
            "|12899781|  5| 199008|\n",
            "|12899781|  6| 199008|\n",
            "|12899781|  7| 199008|\n",
            "|12899781|  8| 199008|\n",
            "|12899781|  9| 199008|\n",
            "|12899781| 10| 918667|\n",
            "|12899782|  0|1669402|\n",
            "|12899782|  1|1494780|\n",
            "|12899782|  2|1494780|\n",
            "+--------+---+-------+\n",
            "only showing top 20 rows\n",
            "\n",
            "CPU times: user 3.35 ms, sys: 2.16 ms, total: 5.51 ms\n",
            "Wall time: 295 ms\n"
          ]
        }
      ]
    },
    {
      "cell_type": "code",
      "source": [
        "%%time\n",
        "    \n",
        "sDF_test2 = SaveReadParquet( sDF_test2, 'sDF_test2' )"
      ],
      "metadata": {
        "colab": {
          "base_uri": "https://localhost:8080/"
        },
        "id": "TdM9aB-uo7H8",
        "outputId": "0b6d0207-6904-4eb9-a9b8-5c3af034ecf0"
      },
      "execution_count": 29,
      "outputs": [
        {
          "output_type": "stream",
          "name": "stdout",
          "text": [
            "/content/sDF_test2.parquet\n",
            "CPU times: user 115 ms, sys: 15.5 ms, total: 130 ms\n",
            "Wall time: 18.6 s\n"
          ]
        }
      ]
    },
    {
      "cell_type": "code",
      "source": [
        "%%time\n",
        "\n",
        "sDF_test3 = sDF_test\\\n",
        "    .select( 'session' , F.posexplode('ts') ) \\\n",
        "    .withColumnRenamed('col','ts') \\\n",
        "    .withColumn('ts', F.col('ts') / F.lit(1000) ) \\\n",
        "    .withColumn('ts', F.round( F.col('ts') ) )\n",
        "\n",
        "sDF_test3.printSchema()"
      ],
      "metadata": {
        "colab": {
          "base_uri": "https://localhost:8080/"
        },
        "id": "0uFXRgPmogsd",
        "outputId": "396ee697-4639-479d-f348-d3ea47aabd50"
      },
      "execution_count": 30,
      "outputs": [
        {
          "output_type": "stream",
          "name": "stdout",
          "text": [
            "root\n",
            " |-- session: long (nullable = true)\n",
            " |-- pos: integer (nullable = false)\n",
            " |-- ts: double (nullable = true)\n",
            "\n",
            "CPU times: user 8.24 ms, sys: 3.52 ms, total: 11.8 ms\n",
            "Wall time: 74 ms\n"
          ]
        }
      ]
    },
    {
      "cell_type": "code",
      "source": [
        "%%time\n",
        "    \n",
        "sDF_test3 = SaveReadParquet( sDF_test3, 'sDF_test3' )"
      ],
      "metadata": {
        "colab": {
          "base_uri": "https://localhost:8080/"
        },
        "id": "VGLVOO75o73N",
        "outputId": "c4c65a77-cb8a-4b12-ce8f-d37c45f3a280"
      },
      "execution_count": 31,
      "outputs": [
        {
          "output_type": "stream",
          "name": "stdout",
          "text": [
            "/content/sDF_test3.parquet\n",
            "CPU times: user 152 ms, sys: 22.4 ms, total: 174 ms\n",
            "Wall time: 25.3 s\n"
          ]
        }
      ]
    },
    {
      "cell_type": "code",
      "source": [
        "type_labels_dic = {'clicks':0, 'carts':1, 'orders':2}\n",
        "\n",
        "@F.udf( T.StringType() )\n",
        "def type_labels(x):\n",
        "    return type_labels_dic[x]\n",
        "\n",
        "sDF_test4 = sDF_test\\\n",
        "    .select( 'session' , F.posexplode('type') ) \\\n",
        "    .withColumnRenamed( 'col', 'type' ) \\\n",
        "    .withColumn( 'type', type_labels(F.col('type') ) )\n",
        "\n",
        "sDF_test4.show()"
      ],
      "metadata": {
        "colab": {
          "base_uri": "https://localhost:8080/"
        },
        "id": "ecuVfuFyogur",
        "outputId": "b91e86fd-1698-490e-8c16-7f92dc94b8ce"
      },
      "execution_count": 32,
      "outputs": [
        {
          "output_type": "stream",
          "name": "stdout",
          "text": [
            "+--------+---+----+\n",
            "| session|pos|type|\n",
            "+--------+---+----+\n",
            "|12899779|  0|   0|\n",
            "|12899780|  0|   0|\n",
            "|12899780|  1|   0|\n",
            "|12899780|  2|   0|\n",
            "|12899780|  3|   0|\n",
            "|12899780|  4|   0|\n",
            "|12899781|  0|   0|\n",
            "|12899781|  1|   0|\n",
            "|12899781|  2|   0|\n",
            "|12899781|  3|   0|\n",
            "|12899781|  4|   0|\n",
            "|12899781|  5|   0|\n",
            "|12899781|  6|   1|\n",
            "|12899781|  7|   0|\n",
            "|12899781|  8|   0|\n",
            "|12899781|  9|   0|\n",
            "|12899781| 10|   0|\n",
            "|12899782|  0|   0|\n",
            "|12899782|  1|   0|\n",
            "|12899782|  2|   0|\n",
            "+--------+---+----+\n",
            "only showing top 20 rows\n",
            "\n"
          ]
        }
      ]
    },
    {
      "cell_type": "code",
      "source": [
        "%%time\n",
        "    \n",
        "sDF_test4 = SaveReadParquet( sDF_test4, 'sDF_test4' )"
      ],
      "metadata": {
        "colab": {
          "base_uri": "https://localhost:8080/"
        },
        "id": "O-YIAGUQo8rX",
        "outputId": "291f78d0-aee0-43d9-fdee-74fd508f47f7"
      },
      "execution_count": 33,
      "outputs": [
        {
          "output_type": "stream",
          "name": "stdout",
          "text": [
            "/content/sDF_test4.parquet\n",
            "CPU times: user 220 ms, sys: 24.3 ms, total: 245 ms\n",
            "Wall time: 36.2 s\n"
          ]
        }
      ]
    },
    {
      "cell_type": "code",
      "source": [
        "%%time\n",
        "\n",
        "sDF_test5 = sDF_test2 \\\n",
        "    .join( sDF_test3, on=['session','pos'],how='inner') \\\n",
        "    .join( sDF_test4, on=['session','pos'],how='inner') \n",
        "\n",
        "sDF_test5.printSchema()"
      ],
      "metadata": {
        "colab": {
          "base_uri": "https://localhost:8080/"
        },
        "id": "UmjrF6bLogxc",
        "outputId": "1a1feff1-9680-4084-905e-e772516cf8b4"
      },
      "execution_count": 34,
      "outputs": [
        {
          "output_type": "stream",
          "name": "stdout",
          "text": [
            "root\n",
            " |-- session: long (nullable = true)\n",
            " |-- pos: integer (nullable = true)\n",
            " |-- aid: long (nullable = true)\n",
            " |-- ts: double (nullable = true)\n",
            " |-- type: string (nullable = true)\n",
            "\n",
            "CPU times: user 5.91 ms, sys: 1.09 ms, total: 7 ms\n",
            "Wall time: 54.9 ms\n"
          ]
        }
      ]
    },
    {
      "cell_type": "code",
      "source": [
        "%%time\n",
        "    \n",
        "sDF_test5 = SaveReadParquet( sDF_test5, 'sDF_test5' )"
      ],
      "metadata": {
        "colab": {
          "base_uri": "https://localhost:8080/"
        },
        "id": "Ks2iHLbWog2u",
        "outputId": "e4018365-5154-405f-a9dd-c2c3ccd2c821"
      },
      "execution_count": 35,
      "outputs": [
        {
          "output_type": "stream",
          "name": "stdout",
          "text": [
            "/content/sDF_test5.parquet\n",
            "CPU times: user 302 ms, sys: 33.4 ms, total: 335 ms\n",
            "Wall time: 49.4 s\n"
          ]
        }
      ]
    },
    {
      "cell_type": "code",
      "source": [
        "%%time\n",
        "    \n",
        "sDF_test5 = SaveReadParquet( sDF_test5\n",
        "                        , 'sDF_test5'\n",
        "                        , my_dir = '/content/drive/MyDrive/Colab Notebooks/Kaggle/'  )"
      ],
      "metadata": {
        "colab": {
          "base_uri": "https://localhost:8080/"
        },
        "id": "LWHKj7GJn0nw",
        "outputId": "7d4413eb-dcd5-4c99-e7f7-9529331385d6"
      },
      "execution_count": 36,
      "outputs": [
        {
          "output_type": "stream",
          "name": "stdout",
          "text": [
            "/content/drive/MyDrive/Colab Notebooks/Kaggle/sDF_test5.parquet\n",
            "CPU times: user 74.6 ms, sys: 18.8 ms, total: 93.4 ms\n",
            "Wall time: 13.3 s\n"
          ]
        }
      ]
    },
    {
      "cell_type": "code",
      "source": [
        "sDF_test5.show()"
      ],
      "metadata": {
        "colab": {
          "base_uri": "https://localhost:8080/"
        },
        "id": "gp5UbVuap6Dc",
        "outputId": "d645d57b-7da4-4b07-a744-1cd1972ee68a"
      },
      "execution_count": 37,
      "outputs": [
        {
          "output_type": "stream",
          "name": "stdout",
          "text": [
            "+--------+---+-------+-------------+----+\n",
            "| session|pos|    aid|           ts|type|\n",
            "+--------+---+-------+-------------+----+\n",
            "|12899789|  1| 631398|1.661724204E9|   0|\n",
            "|12899791|  3|1365651| 1.66172411E9|   0|\n",
            "|12899793|  2|1792644|1.661724057E9|   0|\n",
            "|12899832|  8|1509329|1.661724668E9|   0|\n",
            "|12899842|  0|  46318|1.661724013E9|   0|\n",
            "|12899850| 98|1004556|1.661791542E9|   0|\n",
            "|12899852| 19| 701401|1.661730833E9|   0|\n",
            "|12899852|112|  90712|1.661811416E9|   0|\n",
            "|12899860|  4|1293588|1.661776478E9|   2|\n",
            "|12899906| 13| 938051|1.661724525E9|   1|\n",
            "|12899907| 20| 443295|1.661725332E9|   1|\n",
            "|12899919| 48|1637761|1.662297442E9|   0|\n",
            "|12899919| 52|1488793|1.662297631E9|   1|\n",
            "|12899946| 22|1490773|1.661724294E9|   0|\n",
            "|12899950| 31| 560261|1.661725337E9|   1|\n",
            "|12900014|  4|1722760|1.661724179E9|   0|\n",
            "|12900016|  5|1102414|1.661724139E9|   0|\n",
            "|12900016| 31| 244618|1.661768665E9|   0|\n",
            "|12900021| 10|1587914|1.661724221E9|   0|\n",
            "|12900026|  0|1705606|1.661724067E9|   0|\n",
            "+--------+---+-------+-------------+----+\n",
            "only showing top 20 rows\n",
            "\n"
          ]
        }
      ]
    },
    {
      "cell_type": "markdown",
      "source": [
        "# Load Data from Parquet"
      ],
      "metadata": {
        "id": "ZImoCAb7w8UB"
      }
    },
    {
      "cell_type": "code",
      "source": [
        "%%time\n",
        "\n",
        "sDF_train5 = spark.read.parquet( 'sDF_train5.parquet' )\n",
        "sDF_test5 = spark.read.parquet( 'sDF_test5.parquet' )\n",
        "\n",
        "sDF_train5.show()\n",
        "sDF_test5.show()"
      ],
      "metadata": {
        "colab": {
          "base_uri": "https://localhost:8080/"
        },
        "id": "xZviXVCCrsVo",
        "outputId": "a159ed57-3136-4eac-a2cc-3ced4b67d1a6"
      },
      "execution_count": 4,
      "outputs": [
        {
          "output_type": "stream",
          "name": "stdout",
          "text": [
            "+-------+---+-------+-------------+----+\n",
            "|session|pos|    aid|           ts|type|\n",
            "+-------+---+-------+-------------+----+\n",
            "|      0|  6|1649869|1.659369894E9|   1|\n",
            "|      0|112|1443747|1.660628405E9|   0|\n",
            "|      0|203| 974651|1.661550342E9|   1|\n",
            "|      0|268| 543308|1.661682228E9|   0|\n",
            "|      3| 16|1089061| 1.65939068E9|   0|\n",
            "|      6| 47|1479126|    1.65935E9|   0|\n",
            "|      6| 73|1747070|1.659352644E9|   0|\n",
            "|      6|100|  60590|1.659391566E9|   0|\n",
            "|      7|  4|1727444|1.659304888E9|   0|\n",
            "|     14| 15| 354050|1.659306059E9|   0|\n",
            "|     14| 84| 588838|1.659531835E9|   0|\n",
            "|     14|180| 311992|1.659568261E9|   0|\n",
            "|     14|349| 494715|1.661025531E9|   0|\n",
            "|     19| 91|1312778|1.659646045E9|   0|\n",
            "|     21| 21| 482707|1.659308077E9|   1|\n",
            "|     21|204| 484647|1.659709127E9|   0|\n",
            "|     21|305|1781373|1.660486968E9|   0|\n",
            "|     21|312|1842105|1.660566916E9|   0|\n",
            "|     21|363| 927708| 1.66076356E9|   0|\n",
            "|     23|  8| 826995|1.659842156E9|   1|\n",
            "+-------+---+-------+-------------+----+\n",
            "only showing top 20 rows\n",
            "\n",
            "+--------+---+-------+-------------+----+\n",
            "| session|pos|    aid|           ts|type|\n",
            "+--------+---+-------+-------------+----+\n",
            "|12899789|  1| 631398|1.661724204E9|   0|\n",
            "|12899791|  3|1365651| 1.66172411E9|   0|\n",
            "|12899793|  2|1792644|1.661724057E9|   0|\n",
            "|12899832|  8|1509329|1.661724668E9|   0|\n",
            "|12899842|  0|  46318|1.661724013E9|   0|\n",
            "|12899850| 98|1004556|1.661791542E9|   0|\n",
            "|12899852| 19| 701401|1.661730833E9|   0|\n",
            "|12899852|112|  90712|1.661811416E9|   0|\n",
            "|12899860|  4|1293588|1.661776478E9|   2|\n",
            "|12899906| 13| 938051|1.661724525E9|   1|\n",
            "|12899907| 20| 443295|1.661725332E9|   1|\n",
            "|12899919| 48|1637761|1.662297442E9|   0|\n",
            "|12899919| 52|1488793|1.662297631E9|   1|\n",
            "|12899946| 22|1490773|1.661724294E9|   0|\n",
            "|12899950| 31| 560261|1.661725337E9|   1|\n",
            "|12900014|  4|1722760|1.661724179E9|   0|\n",
            "|12900016|  5|1102414|1.661724139E9|   0|\n",
            "|12900016| 31| 244618|1.661768665E9|   0|\n",
            "|12900021| 10|1587914|1.661724221E9|   0|\n",
            "|12900026|  0|1705606|1.661724067E9|   0|\n",
            "+--------+---+-------+-------------+----+\n",
            "only showing top 20 rows\n",
            "\n",
            "CPU times: user 34.6 ms, sys: 1.92 ms, total: 36.6 ms\n",
            "Wall time: 3.59 s\n"
          ]
        }
      ]
    },
    {
      "cell_type": "markdown",
      "source": [
        "# View Data"
      ],
      "metadata": {
        "id": "i6scAdDRtCAe"
      }
    },
    {
      "cell_type": "code",
      "source": [
        "# Train Data\n",
        "val_count = sDF_train4.agg(  F.countDistinct('session').alias('session_cnt') ).collect()[0][0]\n",
        "\n",
        "sDF_train4 \\\n",
        "    .groupBy('pos').agg(  F.countDistinct('session').alias('session_cnt') ) \\\n",
        "    .orderBy( F.col(\"session_cnt\").desc() ) \\\n",
        "    .withColumn( 'session_share', F.col('session_cnt') / F.lit(val_count) * F.lit(100) ) \\\n",
        "    .withColumn( 'session_share', F.round( F.col('session_share') ) ) \\\n",
        "    .show()"
      ],
      "metadata": {
        "colab": {
          "base_uri": "https://localhost:8080/"
        },
        "id": "1e_1AQ_ftXOo",
        "outputId": "df8b63e2-c455-4567-a2b6-aec7163bc1cf"
      },
      "execution_count": 61,
      "outputs": [
        {
          "output_type": "stream",
          "name": "stdout",
          "text": [
            "+---+-----------+-------------+\n",
            "|pos|session_cnt|session_share|\n",
            "+---+-----------+-------------+\n",
            "|  1|   12899779|        100.0|\n",
            "|  0|   12899779|        100.0|\n",
            "|  2|   10405594|         81.0|\n",
            "|  3|    8791396|         68.0|\n",
            "|  4|    7624389|         59.0|\n",
            "|  5|    6751602|         52.0|\n",
            "|  6|    6061859|         47.0|\n",
            "|  7|    5506372|         43.0|\n",
            "|  8|    5046120|         39.0|\n",
            "|  9|    4655041|         36.0|\n",
            "| 10|    4321310|         33.0|\n",
            "| 11|    4030948|         31.0|\n",
            "| 12|    3775810|         29.0|\n",
            "| 13|    3549973|         28.0|\n",
            "| 14|    3347229|         26.0|\n",
            "| 15|    3164777|         25.0|\n",
            "| 16|    3000164|         23.0|\n",
            "| 17|    2850652|         22.0|\n",
            "| 18|    2714134|         21.0|\n",
            "| 19|    2588977|         20.0|\n",
            "+---+-----------+-------------+\n",
            "only showing top 20 rows\n",
            "\n"
          ]
        }
      ]
    },
    {
      "cell_type": "code",
      "source": [
        "# Test Data\n",
        "val_count = sDF_test4.agg(  F.countDistinct('session').alias('session_cnt') ).collect()[0][0]\n",
        "\n",
        "sDF_test4 \\\n",
        "    .groupBy('pos').agg(  F.countDistinct('session').alias('session_cnt') ) \\\n",
        "    .orderBy( F.col(\"session_cnt\").desc() ) \\\n",
        "    .withColumn( 'session_share', F.col('session_cnt') / F.lit(val_count) * F.lit(100) ) \\\n",
        "    .withColumn( 'session_share', F.round( F.col('session_share') ) ) \\\n",
        "    .show()"
      ],
      "metadata": {
        "colab": {
          "base_uri": "https://localhost:8080/"
        },
        "id": "Q9wM9GtcqDXh",
        "outputId": "588f5413-d672-464c-9330-01c1bc5c237f"
      },
      "execution_count": 59,
      "outputs": [
        {
          "output_type": "stream",
          "name": "stdout",
          "text": [
            "+---+-----------+-------------+\n",
            "|pos|session_cnt|session_share|\n",
            "+---+-----------+-------------+\n",
            "|  0|    1671803|        100.0|\n",
            "|  1|     921704|         55.0|\n",
            "|  2|     627261|         38.0|\n",
            "|  3|     466825|         28.0|\n",
            "|  4|     365488|         22.0|\n",
            "|  5|     296124|         18.0|\n",
            "|  6|     246182|         15.0|\n",
            "|  7|     208236|         12.0|\n",
            "|  8|     178631|         11.0|\n",
            "|  9|     155220|          9.0|\n",
            "| 10|     135808|          8.0|\n",
            "| 11|     120195|          7.0|\n",
            "| 12|     106772|          6.0|\n",
            "| 13|      95584|          6.0|\n",
            "| 14|      85956|          5.0|\n",
            "| 15|      77691|          5.0|\n",
            "| 16|      70553|          4.0|\n",
            "| 17|      64330|          4.0|\n",
            "| 18|      58737|          4.0|\n",
            "| 19|      53963|          3.0|\n",
            "+---+-----------+-------------+\n",
            "only showing top 20 rows\n",
            "\n"
          ]
        }
      ]
    },
    {
      "cell_type": "code",
      "source": [
        "shape_train = sDF_train5.count()\n",
        "shape_test = sDF_test5.count()\n",
        "\n",
        "( shape_train,\n",
        "   shape_test,\n",
        "   shape_test/shape_train )"
      ],
      "metadata": {
        "colab": {
          "base_uri": "https://localhost:8080/"
        },
        "id": "lCNXnYoKwDU6",
        "outputId": "183ae81a-ea97-4df3-c6d8-1103d81be567"
      },
      "execution_count": 7,
      "outputs": [
        {
          "output_type": "execute_result",
          "data": {
            "text/plain": [
              "(216716096, 6928123, 0.03196865912534711)"
            ]
          },
          "metadata": {},
          "execution_count": 7
        }
      ]
    },
    {
      "cell_type": "code",
      "source": [
        "session_train = sDF_train5.agg(  F.countDistinct('session').alias('session_cnt') ).collect()[0][0]\n",
        "session_test = sDF_test5.agg(  F.countDistinct('session').alias('session_cnt') ).collect()[0][0]\n",
        "\n",
        "( session_train,\n",
        "   session_test,\n",
        "   session_test/session_train )"
      ],
      "metadata": {
        "colab": {
          "base_uri": "https://localhost:8080/"
        },
        "id": "XlPS9zyOx7Qr",
        "outputId": "56e9924c-24e8-479e-c813-d47977a17447"
      },
      "execution_count": 8,
      "outputs": [
        {
          "output_type": "execute_result",
          "data": {
            "text/plain": [
              "(12899779, 1671803, 0.12959935205091497)"
            ]
          },
          "metadata": {},
          "execution_count": 8
        }
      ]
    },
    {
      "cell_type": "code",
      "source": [],
      "metadata": {
        "id": "12bw8pcB1oqV"
      },
      "execution_count": null,
      "outputs": []
    },
    {
      "cell_type": "code",
      "source": [
        "%%time\n",
        "\n",
        "fig, ax = plt.subplots()\n",
        "hist( ax\n",
        "      , sDF_train5 \\\n",
        "          .groupBy('session').agg(  F.count('aid').alias('aid_cnt') ) \\\n",
        "          .withColumn( 'aid_cnt_log', F.log( F.col('aid_cnt') ) )\n",
        "          .select('aid_cnt_log')\n",
        "      , bins = 20\n",
        "      , color=['red'])"
      ],
      "metadata": {
        "id": "bqMEolSo1VhN"
      },
      "execution_count": null,
      "outputs": []
    },
    {
      "cell_type": "code",
      "source": [
        "%%time\n",
        "\n",
        "fig, ax = plt.subplots()\n",
        "hist( ax\n",
        "      , sDF_test5 \\\n",
        "          .groupBy('session').agg(  F.count('aid').alias('aid_cnt') ) \\\n",
        "          .withColumn( 'aid_cnt_log', F.log( F.col('aid_cnt') ) )\n",
        "          .select('aid_cnt_log')\n",
        "      , bins = 20\n",
        "      , color=['red'])"
      ],
      "metadata": {
        "id": "ov46NldX2J-w"
      },
      "execution_count": null,
      "outputs": []
    },
    {
      "cell_type": "code",
      "source": [],
      "metadata": {
        "id": "7FAj_WW3vUFB"
      },
      "execution_count": null,
      "outputs": []
    },
    {
      "cell_type": "code",
      "source": [],
      "metadata": {
        "id": "0MM66IH_wDXm"
      },
      "execution_count": null,
      "outputs": []
    },
    {
      "cell_type": "code",
      "source": [],
      "metadata": {
        "id": "DCDuW1gSwDZ7"
      },
      "execution_count": 9,
      "outputs": []
    },
    {
      "cell_type": "code",
      "source": [
        "sDF_train5.groupBy('session').agg(  F.count('aid').alias('aid_cnt') ).show()#.apply(np.log1p).hist()"
      ],
      "metadata": {
        "id": "1LEQAdTk0132"
      },
      "execution_count": null,
      "outputs": []
    },
    {
      "cell_type": "code",
      "source": [],
      "metadata": {
        "id": "q4HgFN9wy7d_"
      },
      "execution_count": 14,
      "outputs": []
    },
    {
      "cell_type": "code",
      "source": [],
      "metadata": {
        "id": "5Nyi-pu7vUHb"
      },
      "execution_count": null,
      "outputs": []
    },
    {
      "cell_type": "code",
      "source": [],
      "metadata": {
        "id": "h0J-6BkcqhET"
      },
      "execution_count": null,
      "outputs": []
    }
  ],
  "metadata": {
    "colab": {
      "provenance": [],
      "mount_file_id": "1ORR7bRfVTQ14QGy-FhmHAy9mg7xeOsMa",
      "authorship_tag": "ABX9TyN2zEv9BFDgSFK8ly2V9XgZ",
      "include_colab_link": true
    },
    "kernelspec": {
      "display_name": "Python 3",
      "name": "python3"
    },
    "language_info": {
      "name": "python"
    }
  },
  "nbformat": 4,
  "nbformat_minor": 0
}