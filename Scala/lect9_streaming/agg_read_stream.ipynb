{
 "cells": [
  {
   "cell_type": "markdown",
   "metadata": {},
   "source": [
    "# 1. Load LIB"
   ]
  },
  {
   "cell_type": "code",
   "execution_count": 1,
   "metadata": {},
   "outputs": [],
   "source": [
    "import sys.process._\n",
    "import org.apache.spark.sql.streaming.Trigger\n",
    "import org.apache.spark.sql.DataFrame\n",
    "import org.apache.spark.sql.SparkSession\n",
    "\n",
    "import org.apache.spark.sql.streaming.Trigger\n",
    "import org.apache.spark.sql.DataFrame\n",
    "import org.apache.spark.sql.functions._\n",
    "import org.apache.spark.sql.Dataset\n"
   ]
  },
  {
   "cell_type": "code",
   "execution_count": 23,
   "metadata": {},
   "outputs": [],
   "source": []
  },
  {
   "cell_type": "markdown",
   "metadata": {},
   "source": [
    "# 2. Load function & params"
   ]
  },
  {
   "cell_type": "code",
   "execution_count": 2,
   "metadata": {},
   "outputs": [
    {
     "data": {
      "text/plain": [
       "killAll: ()Unit\n"
      ]
     },
     "metadata": {},
     "output_type": "display_data"
    }
   ],
   "source": [
    "def killAll() = {\n",
    "    SparkSession\n",
    "        .active\n",
    "        .streams\n",
    "        .active\n",
    "        .foreach { x =>\n",
    "                    val desc = x.lastProgress.sources.head.description\n",
    "                    x.stop\n",
    "                    println(s\"Stopped ${desc}\")\n",
    "        }               \n",
    "}"
   ]
  },
  {
   "cell_type": "code",
   "execution_count": 3,
   "metadata": {},
   "outputs": [
    {
     "data": {
      "text/plain": [
       "createConsoleSink: (df: org.apache.spark.sql.DataFrame)org.apache.spark.sql.streaming.DataStreamWriter[org.apache.spark.sql.Row]\n"
      ]
     },
     "metadata": {},
     "output_type": "display_data"
    }
   ],
   "source": [
    "def createConsoleSink(df: DataFrame) = {\n",
    "    df\n",
    "    .writeStream\n",
    "    .format(\"console\")\n",
    "    .trigger(Trigger.ProcessingTime(\"10 seconds\")) // раз в 10 секунд, а по умолчанию раз в 1 секунду\n",
    "    .option(\"truncate\", \"false\")\n",
    "    .option(\"numRows\", \"20\")\n",
    "}\n"
   ]
  },
  {
   "cell_type": "code",
   "execution_count": 4,
   "metadata": {},
   "outputs": [
    {
     "data": {
      "text/plain": [
       "createParquetSink: (df: org.apache.spark.sql.DataFrame, fileName: String)org.apache.spark.sql.streaming.DataStreamWriter[org.apache.spark.sql.Row]\n"
      ]
     },
     "metadata": {},
     "output_type": "display_data"
    }
   ],
   "source": [
    "def createParquetSink(df: DataFrame, \n",
    "                      fileName: String) = {\n",
    "    df\n",
    "    .writeStream\n",
    "    .format(\"parquet\")\n",
    "    .option(\"path\", s\"/tmp/$fileName\")\n",
    "    .option(\"checkpointLocation\", s\"/tmp/$fileName\")\n",
    "    //.trigger(Trigger.ProcessingTime(\"10 seconds\"))\n",
    "}"
   ]
  },
  {
   "cell_type": "code",
   "execution_count": 9,
   "metadata": {},
   "outputs": [
    {
     "name": "stdout",
     "output_type": "stream",
     "text": [
      "root\n",
      " |-- timestamp: timestamp (nullable = true)\n",
      " |-- value: long (nullable = true)\n",
      "\n"
     ]
    },
    {
     "data": {
      "text/plain": [
       "sdf_rate = [timestamp: timestamp, value: bigint]\n"
      ]
     },
     "metadata": {},
     "output_type": "display_data"
    },
    {
     "data": {
      "text/plain": [
       "[timestamp: timestamp, value: bigint]"
      ]
     },
     "execution_count": 9,
     "metadata": {},
     "output_type": "execute_result"
    }
   ],
   "source": [
    "val sdf_rate = spark\n",
    "    .readStream\n",
    "    .format(\"rate\")\n",
    "    .load\n",
    "sdf_rate.printSchema\n",
    "// sdf_rate.explain(true)"
   ]
  },
  {
   "cell_type": "code",
   "execution_count": 6,
   "metadata": {},
   "outputs": [
    {
     "data": {
      "text/plain": [
       "Waiting for a Spark session to start..."
      ]
     },
     "metadata": {},
     "output_type": "display_data"
    },
    {
     "name": "stdout",
     "output_type": "stream",
     "text": [
      "root\n",
      " |-- ident: string (nullable = true)\n",
      " |-- type: string (nullable = true)\n",
      " |-- name: string (nullable = true)\n",
      " |-- elevation_ft: integer (nullable = true)\n",
      " |-- continent: string (nullable = true)\n",
      " |-- iso_country: string (nullable = true)\n",
      " |-- iso_region: string (nullable = true)\n",
      " |-- municipality: string (nullable = true)\n",
      " |-- gps_code: string (nullable = true)\n",
      " |-- iata_code: string (nullable = true)\n",
      " |-- local_code: string (nullable = true)\n",
      " |-- coordinates: string (nullable = true)\n",
      "\n",
      "-RECORD 0------------------------------------------\n",
      " ident        | 00A                                \n",
      " type         | heliport                           \n",
      " name         | Total Rf Heliport                  \n",
      " elevation_ft | 11                                 \n",
      " continent    | NA                                 \n",
      " iso_country  | US                                 \n",
      " iso_region   | US-PA                              \n",
      " municipality | Bensalem                           \n",
      " gps_code     | 00A                                \n",
      " iata_code    | null                               \n",
      " local_code   | 00A                                \n",
      " coordinates  | -74.93360137939453, 40.07080078125 \n",
      "only showing top 1 row\n",
      "\n"
     ]
    },
    {
     "data": {
      "text/plain": [
       "csvOptions = Map(header -> true, inferSchema -> true)\n",
       "airports = [ident: string, type: string ... 10 more fields]\n"
      ]
     },
     "metadata": {},
     "output_type": "display_data"
    },
    {
     "data": {
      "text/plain": [
       "[ident: string, type: string ... 10 more fields]"
      ]
     },
     "execution_count": 6,
     "metadata": {},
     "output_type": "execute_result"
    }
   ],
   "source": [
    "val csvOptions = Map(\"header\" -> \"true\", \"inferSchema\" -> \"true\")\n",
    "val airports = spark.read.options(csvOptions).csv(\"airport-codes.csv\")\n",
    "\n",
    "airports.printSchema\n",
    "airports.show(numRows = 1, truncate = 100, vertical = true)"
   ]
  },
  {
   "cell_type": "code",
   "execution_count": null,
   "metadata": {},
   "outputs": [],
   "source": []
  },
  {
   "cell_type": "markdown",
   "metadata": {},
   "source": [
    "# 3. example1: Console Sink"
   ]
  },
  {
   "cell_type": "code",
   "execution_count": 10,
   "metadata": {},
   "outputs": [
    {
     "name": "stdout",
     "output_type": "stream",
     "text": [
      "-------------------------------------------\n",
      "Batch: 0\n",
      "-------------------------------------------\n",
      "+---------+-----+\n",
      "|timestamp|value|\n",
      "+---------+-----+\n",
      "+---------+-----+\n",
      "\n"
     ]
    },
    {
     "data": {
      "text/plain": [
       "sink_console = org.apache.spark.sql.streaming.DataStreamWriter@13f1c1c7\n",
       "sq_console = org.apache.spark.sql.execution.streaming.StreamingQueryWrapper@5623cac8\n"
      ]
     },
     "metadata": {},
     "output_type": "display_data"
    },
    {
     "data": {
      "text/plain": [
       "org.apache.spark.sql.execution.streaming.StreamingQueryWrapper@5623cac8"
      ]
     },
     "execution_count": 10,
     "metadata": {},
     "output_type": "execute_result"
    },
    {
     "name": "stdout",
     "output_type": "stream",
     "text": [
      "-------------------------------------------\n",
      "Batch: 1\n",
      "-------------------------------------------\n",
      "+-----------------------+-----+\n",
      "|timestamp              |value|\n",
      "+-----------------------+-----+\n",
      "|2023-03-12 13:59:42.223|0    |\n",
      "|2023-03-12 13:59:44.223|2    |\n",
      "|2023-03-12 13:59:46.223|4    |\n",
      "|2023-03-12 13:59:48.223|6    |\n",
      "|2023-03-12 13:59:43.223|1    |\n",
      "|2023-03-12 13:59:45.223|3    |\n",
      "|2023-03-12 13:59:47.223|5    |\n",
      "+-----------------------+-----+\n",
      "\n"
     ]
    }
   ],
   "source": [
    "val sink_console = createConsoleSink(sdf_rate)\n",
    "val sq_console = sink_console.start"
   ]
  },
  {
   "cell_type": "code",
   "execution_count": 11,
   "metadata": {},
   "outputs": [
    {
     "name": "stdout",
     "output_type": "stream",
     "text": [
      "Stopped RateStreamV2[rowsPerSecond=1, rampUpTimeSeconds=0, numPartitions=default\n"
     ]
    }
   ],
   "source": [
    "killAll()"
   ]
  },
  {
   "cell_type": "code",
   "execution_count": null,
   "metadata": {},
   "outputs": [],
   "source": []
  },
  {
   "cell_type": "markdown",
   "metadata": {},
   "source": [
    "# 4. example2: Parquet Sink1"
   ]
  },
  {
   "cell_type": "code",
   "execution_count": 13,
   "metadata": {},
   "outputs": [
    {
     "data": {
      "text/plain": [
       "sink_pq = org.apache.spark.sql.streaming.DataStreamWriter@7b6c920a\n",
       "sq_pq = org.apache.spark.sql.execution.streaming.StreamingQueryWrapper@5084a09d\n"
      ]
     },
     "metadata": {},
     "output_type": "display_data"
    },
    {
     "data": {
      "text/plain": [
       "org.apache.spark.sql.execution.streaming.StreamingQueryWrapper@5084a09d"
      ]
     },
     "execution_count": 13,
     "metadata": {},
     "output_type": "execute_result"
    }
   ],
   "source": [
    "val sink_pq = createParquetSink(sdf_rate, \"tmp_01.parquet\")\n",
    "val sq_pq = sink_pq.start"
   ]
  },
  {
   "cell_type": "code",
   "execution_count": 14,
   "metadata": {},
   "outputs": [
    {
     "name": "stdout",
     "output_type": "stream",
     "text": [
      "Stopped RateStreamV2[rowsPerSecond=1, rampUpTimeSeconds=0, numPartitions=default\n"
     ]
    }
   ],
   "source": [
    "killAll()"
   ]
  },
  {
   "cell_type": "code",
   "execution_count": 15,
   "metadata": {},
   "outputs": [
    {
     "data": {
      "text/plain": [
       "\"Found 55 items\n",
       "drwxr-xr-x   - dinar.sadykov hdfs          0 2023-03-12 14:00 /tmp/tmp_01.parquet/_spark_metadata\n",
       "drwxr-xr-x   - dinar.sadykov hdfs          0 2023-03-12 14:00 /tmp/tmp_01.parquet/commits\n",
       "-rw-r--r--   3 dinar.sadykov hdfs         45 2023-03-12 13:35 /tmp/tmp_01.parquet/metadata\n",
       "drwxr-xr-x   - dinar.sadykov hdfs          0 2023-03-12 14:00 /tmp/tmp_01.parquet/offsets\n",
       "-rw-r--r--   3 dinar.sadykov hdfs        790 2023-03-12 13:36 /tmp/tmp_01.parquet/part-00000-014d8859-c5e4-4f06-a3a4-bdd30cdc3379-c000.snappy.parquet\n",
       "-rw-r--r--   3 dinar.sadykov hdfs        790 2023-03-12 13:36 /tmp/tmp_01.parquet/part-00000-0ab1e079-7c1a-40d0-b4b4-af45e6198219-c000.snappy.parquet\n",
       "-rw-r--r--   3 dinar.sadykov hdfs        790 2023-03-12 14:00 /tmp/tmp_01.parquet/part-00000-17b...\n"
      ]
     },
     "metadata": {},
     "output_type": "display_data"
    }
   ],
   "source": [
    "\"hadoop fs -ls /tmp/tmp_01.parquet\".!!"
   ]
  },
  {
   "cell_type": "code",
   "execution_count": null,
   "metadata": {},
   "outputs": [],
   "source": []
  },
  {
   "cell_type": "code",
   "execution_count": 16,
   "metadata": {},
   "outputs": [
    {
     "name": "stdout",
     "output_type": "stream",
     "text": [
      "1471\n",
      "root\n",
      " |-- timestamp: timestamp (nullable = true)\n",
      " |-- value: long (nullable = true)\n",
      "\n",
      "+-----------------------+-----+\n",
      "|timestamp              |value|\n",
      "+-----------------------+-----+\n",
      "|2023-03-12 13:36:29.651|31   |\n",
      "|2023-03-12 13:36:31.651|33   |\n",
      "|2023-03-12 13:36:33.651|35   |\n",
      "|2023-03-12 13:36:35.651|37   |\n",
      "|2023-03-12 13:36:37.651|39   |\n",
      "+-----------------------+-----+\n",
      "only showing top 5 rows\n",
      "\n"
     ]
    },
    {
     "data": {
      "text/plain": [
       "rates = [timestamp: timestamp, value: bigint]\n"
      ]
     },
     "metadata": {},
     "output_type": "display_data"
    },
    {
     "data": {
      "text/plain": [
       "[timestamp: timestamp, value: bigint]"
      ]
     },
     "execution_count": 16,
     "metadata": {},
     "output_type": "execute_result"
    }
   ],
   "source": [
    "val rates = spark.read\n",
    "    .parquet(\"/tmp/tmp_01.parquet\")\n",
    "println(rates.count)\n",
    "rates.printSchema\n",
    "rates.show(5, false)"
   ]
  },
  {
   "cell_type": "code",
   "execution_count": null,
   "metadata": {},
   "outputs": [],
   "source": []
  },
  {
   "cell_type": "markdown",
   "metadata": {},
   "source": [
    "# 5. example3: Parquet Sink1 + ident"
   ]
  },
  {
   "cell_type": "code",
   "execution_count": 17,
   "metadata": {},
   "outputs": [
    {
     "data": {
      "text/plain": [
       "idents = Array(00A, 00AA, 00AK, 00AL, 00AR, 00AS, 00AZ, 00CA, 00CL, 00CN, 00CO, 00FA, 00FD, 00FL, 00GA, 00GE, 00HI, 00ID, 00IG, 00II, 00IL, 00IN, 00IS, 00KS, 00KY, 00LA, 00LL, 00LS, 00MD, 00MI, 00MN, 00MO, 00MT, 00N, 00NC, 00NJ, 00NK, 00NY, 00OH, 00OI, 00OK, 00OR, 00PA, 00PN, 00PS, 00S, 00SC, 00SD, 00TA, 00TE, 00TN, 00TS, 00TX, 00UT, 00VA, 00VI, 00W, 00WA, 00WI, 00WN, 00WV, 00WY, 00XS, 01A, 01AK, 01AL, 01AR, 01AZ, 01C, 01CA, 01CL, 01CN, 01CO, 01CT, 01FA, 01FD, 01FL, 01GA, 01GE, 01IA, 01ID, 01II, 01IL, 01IN, 01IS, 01J, 01K, 01KS, 01KY, 01LA, 01LL, 01LS, 01MA, 01MD, 01ME, 01MI, 01MN, 01MO, 01MT, 01NC, 01NE, 01NH, 01NJ, 01NM, 01NV, 01NY, 01OI, 01OK, 01OR, 01PA, 01PN, 01PS, 01SC, 01TA, 01TE, 01TN, 01TS, 01TX, 01U, 01UT, 01VA, 01WA, 01WI, 01WN, 01WT, 01WY, 01XA, 01XS, 02AK, 02...\n"
      ]
     },
     "metadata": {},
     "output_type": "display_data"
    },
    {
     "data": {
      "text/plain": [
       "Array(00A, 00AA, 00AK, 00AL, 00AR, 00AS, 00AZ, 00CA, 00CL, 00CN, 00CO, 00FA, 00FD, 00FL, 00GA, 00GE, 00HI, 00ID, 00IG, 00II, 00IL, 00IN, 00IS, 00KS, 00KY, 00LA, 00LL, 00LS, 00MD, 00MI, 00MN, 00MO, 00MT, 00N, 00NC, 00NJ, 00NK, 00NY, 00OH, 00OI, 00OK, 00OR, 00PA, 00PN, 00PS, 00S, 00SC, 00SD, 00TA, 00TE, 00TN, 00TS, 00TX, 00UT, 00VA, 00VI, 00W, 00WA, 00WI, 00WN, 00WV, 00WY, 00XS, 01A, 01AK, 01AL, 01AR, 01AZ, 01C, 01CA, 01CL, 01CN, 01CO, 01CT, 01FA, 01FD, 01FL, 01GA, 01GE, 01IA, 01ID, 01II, 01IL, 01IN, 01IS, 01J, 01K, 01KS, 01KY, 01LA, 01LL, 01LS, 01MA, 01MD, 01ME, 01MI, 01MN, 01MO, 01MT, 01NC, 01NE, 01NH, 01NJ, 01NM, 01NV, 01NY, 01OI, 01OK, 01OR, 01PA, 01PN, 01PS, 01SC, 01TA, 01TE, 01TN, 01TS, 01TX, 01U, 01UT, 01VA, 01WA, 01WI, 01WN, 01WT, 01WY, 01XA, 01XS, 02AK, 02..."
      ]
     },
     "execution_count": 17,
     "metadata": {},
     "output_type": "execute_result"
    }
   ],
   "source": [
    "val idents = airports.select(\"ident\").limit(200).distinct.as[String].collect\n",
    "\n",
    "val ident_sdf_rate = sdf_rate.withColumn(\"ident\"\n",
    "                              , shuffle(\n",
    "                                  array(\n",
    "                                      idents.map(lit(_)):_*)\n",
    "                              )(0))"
   ]
  },
  {
   "cell_type": "code",
   "execution_count": 18,
   "metadata": {},
   "outputs": [
    {
     "data": {
      "text/plain": [
       "ident_sq_pq_sink = org.apache.spark.sql.streaming.DataStreamWriter@13f6d0ba\n",
       "ident_sq_pq = org.apache.spark.sql.execution.streaming.StreamingQueryWrapper@1ece07ef\n"
      ]
     },
     "metadata": {},
     "output_type": "display_data"
    },
    {
     "data": {
      "text/plain": [
       "org.apache.spark.sql.execution.streaming.StreamingQueryWrapper@1ece07ef"
      ]
     },
     "execution_count": 18,
     "metadata": {},
     "output_type": "execute_result"
    }
   ],
   "source": [
    "val ident_sq_pq_sink = createParquetSink(ident_sdf_rate, \"tmp_02.parquet\")\n",
    "val ident_sq_pq = ident_sq_pq_sink.start"
   ]
  },
  {
   "cell_type": "code",
   "execution_count": 19,
   "metadata": {},
   "outputs": [
    {
     "name": "stdout",
     "output_type": "stream",
     "text": [
      "Stopped RateStreamV2[rowsPerSecond=1, rampUpTimeSeconds=0, numPartitions=default\n"
     ]
    }
   ],
   "source": [
    "killAll()"
   ]
  },
  {
   "cell_type": "code",
   "execution_count": 20,
   "metadata": {},
   "outputs": [
    {
     "name": "stdout",
     "output_type": "stream",
     "text": [
      "Found 102 items\n",
      "-rw-r--r--   3 dinar.sadykov hdfs        257 2023-03-12 13:50 /tmp/tmp_02.parquet/_spark_metadata/0\n",
      "-rw-r--r--   3 dinar.sadykov hdfs        258 2023-03-12 13:50 /tmp/tmp_02.parquet/_spark_metadata/1\n",
      "-rw-r--r--   3 dinar.sadykov hdfs        258 2023-03-12 13:50 /tmp/tmp_02.parquet/_spark_metadata/10\n",
      "-rw-r--r--   3 dinar.sadykov hdfs        258 2023-03-12 14:02 /tmp/tmp_02.parquet/_spark_metadata/100\n",
      "-rw-r--r--   3 dinar.sadykov hdfs        258 2023-03-12 14:02 /tmp/tmp_02.parquet/_spark_metadata/101\n",
      "-rw-r--r--   3 dinar.sadykov hdfs        258 2023-03-12 13:50 /tmp/tmp_02.parquet/_spark_metadata/11\n",
      "-rw-r--r--   3 dinar.sadykov hdfs        258 2023-03-12 13:50 /tmp/tmp_02.parquet/_spark_metadata/12\n",
      "-rw-r--r--   3 dinar.sadykov hdfs        258 2023-03-12 13:50 /tmp/tmp_02.parquet/_spark_metadata/13\n",
      "-rw-r--r--   3 dinar.sadykov hdfs        258 2023-03-12 13:50 /tmp/tmp_02.parquet/_spark_metadata/14\n",
      "-rw-r--r--   3 dinar.sadykov hdfs        258 2023-03-12 13:50 /tmp/tmp_02.parquet/_spark_metadata/15\n",
      "-rw-r--r--   3 dinar.sadykov hdfs        258 2023-03-12 13:50 /tmp/tmp_02.parquet/_spark_metadata/16\n",
      "-rw-r--r--   3 dinar.sadykov hdfs        257 2023-03-12 13:50 /tmp/tmp_02.parquet/_spark_metadata/17\n",
      "-rw-r--r--   3 dinar.sadykov hdfs        258 2023-03-12 13:50 /tmp/tmp_02.parquet/_spark_metadata/18\n",
      "-rw-r--r--   3 dinar.sadykov hdfs       5119 2023-03-12 13:50 /tmp/tmp_02.parquet/_spark_metadata/19.compact\n",
      "-rw-r--r--   3 dinar.sadykov hdfs        257 2023-03-12 13:50 /tmp/tmp_02.parquet/_spark_metadata/2\n",
      "-rw-r--r--   3 dinar.sadykov hdfs        258 2023-03-12 13:50 /tmp/tmp_02.parquet/_spark_metadata/20\n",
      "-rw-r--r--   3 dinar.sadykov hdfs        258 2023-03-12 13:50 /tmp/tmp_02.parquet/_spark_metadata/21\n",
      "-rw-r--r--   3 dinar.sadykov hdfs        258 2023-03-12 13:50 /tmp/tmp_02.parquet/_spark_metadata/22\n",
      "-rw-r--r--   3 dinar.sadykov hdfs        258 2023-03-12 13:50 /tmp/tmp_02.parquet/_spark_metadata/23\n",
      "-rw-r--r--   3 dinar.sadykov hdfs        258 2023-03-12 13:50 /tmp/tmp_02.parquet/_spark_metadata/24\n",
      "-rw-r--r--   3 dinar.sadykov hdfs        258 2023-03-12 13:50 /tmp/tmp_02.parquet/_spark_metadata/25\n",
      "-rw-r--r--   3 dinar.sadykov hdfs        258 2023-03-12 13:50 /tmp/tmp_02.parquet/_spark_metadata/26\n",
      "-rw-r--r--   3 dinar.sadykov hdfs        258 2023-03-12 13:50 /tmp/tmp_02.parquet/_spark_metadata/27\n",
      "-rw-r--r--   3 dinar.sadykov hdfs        258 2023-03-12 13:50 /tmp/tmp_02.parquet/_spark_metadata/28\n",
      "-rw-r--r--   3 dinar.sadykov hdfs       7679 2023-03-12 13:50 /tmp/tmp_02.parquet/_spark_metadata/29.compact\n",
      "-rw-r--r--   3 dinar.sadykov hdfs        258 2023-03-12 13:50 /tmp/tmp_02.parquet/_spark_metadata/3\n",
      "-rw-r--r--   3 dinar.sadykov hdfs        258 2023-03-12 13:50 /tmp/tmp_02.parquet/_spark_metadata/30\n",
      "-rw-r--r--   3 dinar.sadykov hdfs        258 2023-03-12 13:50 /tmp/tmp_02.parquet/_spark_metadata/31\n",
      "-rw-r--r--   3 dinar.sadykov hdfs        257 2023-03-12 13:50 /tmp/tmp_02.parquet/_spark_metadata/32\n",
      "-rw-r--r--   3 dinar.sadykov hdfs        258 2023-03-12 13:50 /tmp/tmp_02.parquet/_spark_metadata/33\n",
      "-rw-r--r--   3 dinar.sadykov hdfs        258 2023-03-12 13:50 /tmp/tmp_02.parquet/_spark_metadata/34\n",
      "-rw-r--r--   3 dinar.sadykov hdfs        258 2023-03-12 13:50 /tmp/tmp_02.parquet/_spark_metadata/35\n",
      "-rw-r--r--   3 dinar.sadykov hdfs        258 2023-03-12 13:50 /tmp/tmp_02.parquet/_spark_metadata/36\n",
      "-rw-r--r--   3 dinar.sadykov hdfs        258 2023-03-12 13:50 /tmp/tmp_02.parquet/_spark_metadata/37\n",
      "-rw-r--r--   3 dinar.sadykov hdfs        258 2023-03-12 13:50 /tmp/tmp_02.parquet/_spark_metadata/38\n",
      "-rw-r--r--   3 dinar.sadykov hdfs      10237 2023-03-12 13:51 /tmp/tmp_02.parquet/_spark_metadata/39.compact\n",
      "-rw-r--r--   3 dinar.sadykov hdfs        258 2023-03-12 13:50 /tmp/tmp_02.parquet/_spark_metadata/4\n",
      "-rw-r--r--   3 dinar.sadykov hdfs        258 2023-03-12 13:51 /tmp/tmp_02.parquet/_spark_metadata/40\n",
      "-rw-r--r--   3 dinar.sadykov hdfs        514 2023-03-12 14:01 /tmp/tmp_02.parquet/_spark_metadata/41\n",
      "-rw-r--r--   3 dinar.sadykov hdfs        258 2023-03-12 14:01 /tmp/tmp_02.parquet/_spark_metadata/42\n",
      "-rw-r--r--   3 dinar.sadykov hdfs        258 2023-03-12 14:01 /tmp/tmp_02.parquet/_spark_metadata/43\n",
      "-rw-r--r--   3 dinar.sadykov hdfs        258 2023-03-12 14:01 /tmp/tmp_02.parquet/_spark_metadata/44\n",
      "-rw-r--r--   3 dinar.sadykov hdfs        258 2023-03-12 14:01 /tmp/tmp_02.parquet/_spark_metadata/45\n",
      "-rw-r--r--   3 dinar.sadykov hdfs        258 2023-03-12 14:01 /tmp/tmp_02.parquet/_spark_metadata/46\n",
      "-rw-r--r--   3 dinar.sadykov hdfs        258 2023-03-12 14:01 /tmp/tmp_02.parquet/_spark_metadata/47\n",
      "-rw-r--r--   3 dinar.sadykov hdfs        258 2023-03-12 14:01 /tmp/tmp_02.parquet/_spark_metadata/48\n",
      "-rw-r--r--   3 dinar.sadykov hdfs      13053 2023-03-12 14:01 /tmp/tmp_02.parquet/_spark_metadata/49.compact\n",
      "-rw-r--r--   3 dinar.sadykov hdfs        258 2023-03-12 13:50 /tmp/tmp_02.parquet/_spark_metadata/5\n",
      "-rw-r--r--   3 dinar.sadykov hdfs        257 2023-03-12 14:01 /tmp/tmp_02.parquet/_spark_metadata/50\n",
      "-rw-r--r--   3 dinar.sadykov hdfs        258 2023-03-12 14:01 /tmp/tmp_02.parquet/_spark_metadata/51\n",
      "-rw-r--r--   3 dinar.sadykov hdfs        257 2023-03-12 14:01 /tmp/tmp_02.parquet/_spark_metadata/52\n",
      "-rw-r--r--   3 dinar.sadykov hdfs        258 2023-03-12 14:01 /tmp/tmp_02.parquet/_spark_metadata/53\n",
      "-rw-r--r--   3 dinar.sadykov hdfs        258 2023-03-12 14:01 /tmp/tmp_02.parquet/_spark_metadata/54\n",
      "-rw-r--r--   3 dinar.sadykov hdfs        258 2023-03-12 14:01 /tmp/tmp_02.parquet/_spark_metadata/55\n",
      "-rw-r--r--   3 dinar.sadykov hdfs        258 2023-03-12 14:01 /tmp/tmp_02.parquet/_spark_metadata/56\n",
      "-rw-r--r--   3 dinar.sadykov hdfs        258 2023-03-12 14:01 /tmp/tmp_02.parquet/_spark_metadata/57\n",
      "-rw-r--r--   3 dinar.sadykov hdfs        258 2023-03-12 14:01 /tmp/tmp_02.parquet/_spark_metadata/58\n",
      "-rw-r--r--   3 dinar.sadykov hdfs      15611 2023-03-12 14:01 /tmp/tmp_02.parquet/_spark_metadata/59.compact\n",
      "-rw-r--r--   3 dinar.sadykov hdfs        258 2023-03-12 13:50 /tmp/tmp_02.parquet/_spark_metadata/6\n",
      "-rw-r--r--   3 dinar.sadykov hdfs        258 2023-03-12 14:01 /tmp/tmp_02.parquet/_spark_metadata/60\n",
      "-rw-r--r--   3 dinar.sadykov hdfs        258 2023-03-12 14:01 /tmp/tmp_02.parquet/_spark_metadata/61\n",
      "-rw-r--r--   3 dinar.sadykov hdfs        258 2023-03-12 14:01 /tmp/tmp_02.parquet/_spark_metadata/62\n",
      "-rw-r--r--   3 dinar.sadykov hdfs        258 2023-03-12 14:01 /tmp/tmp_02.parquet/_spark_metadata/63\n",
      "-rw-r--r--   3 dinar.sadykov hdfs        258 2023-03-12 14:01 /tmp/tmp_02.parquet/_spark_metadata/64\n",
      "-rw-r--r--   3 dinar.sadykov hdfs        258 2023-03-12 14:01 /tmp/tmp_02.parquet/_spark_metadata/65\n",
      "-rw-r--r--   3 dinar.sadykov hdfs        258 2023-03-12 14:01 /tmp/tmp_02.parquet/_spark_metadata/66\n",
      "-rw-r--r--   3 dinar.sadykov hdfs        258 2023-03-12 14:01 /tmp/tmp_02.parquet/_spark_metadata/67\n",
      "-rw-r--r--   3 dinar.sadykov hdfs        258 2023-03-12 14:01 /tmp/tmp_02.parquet/_spark_metadata/68\n",
      "-rw-r--r--   3 dinar.sadykov hdfs      18171 2023-03-12 14:01 /tmp/tmp_02.parquet/_spark_metadata/69.compact\n",
      "-rw-r--r--   3 dinar.sadykov hdfs        258 2023-03-12 13:50 /tmp/tmp_02.parquet/_spark_metadata/7\n",
      "-rw-r--r--   3 dinar.sadykov hdfs        258 2023-03-12 14:01 /tmp/tmp_02.parquet/_spark_metadata/70\n",
      "-rw-r--r--   3 dinar.sadykov hdfs        257 2023-03-12 14:01 /tmp/tmp_02.parquet/_spark_metadata/71\n",
      "-rw-r--r--   3 dinar.sadykov hdfs        257 2023-03-12 14:01 /tmp/tmp_02.parquet/_spark_metadata/72\n",
      "-rw-r--r--   3 dinar.sadykov hdfs        258 2023-03-12 14:01 /tmp/tmp_02.parquet/_spark_metadata/73\n",
      "-rw-r--r--   3 dinar.sadykov hdfs        258 2023-03-12 14:01 /tmp/tmp_02.parquet/_spark_metadata/74\n",
      "-rw-r--r--   3 dinar.sadykov hdfs        258 2023-03-12 14:01 /tmp/tmp_02.parquet/_spark_metadata/75\n",
      "-rw-r--r--   3 dinar.sadykov hdfs        258 2023-03-12 14:01 /tmp/tmp_02.parquet/_spark_metadata/76\n",
      "-rw-r--r--   3 dinar.sadykov hdfs        258 2023-03-12 14:01 /tmp/tmp_02.parquet/_spark_metadata/77\n",
      "-rw-r--r--   3 dinar.sadykov hdfs        258 2023-03-12 14:01 /tmp/tmp_02.parquet/_spark_metadata/78\n",
      "-rw-r--r--   3 dinar.sadykov hdfs      20729 2023-03-12 14:01 /tmp/tmp_02.parquet/_spark_metadata/79.compact\n",
      "-rw-r--r--   3 dinar.sadykov hdfs        258 2023-03-12 13:50 /tmp/tmp_02.parquet/_spark_metadata/8\n",
      "-rw-r--r--   3 dinar.sadykov hdfs        258 2023-03-12 14:01 /tmp/tmp_02.parquet/_spark_metadata/80\n",
      "-rw-r--r--   3 dinar.sadykov hdfs        257 2023-03-12 14:01 /tmp/tmp_02.parquet/_spark_metadata/81\n",
      "-rw-r--r--   3 dinar.sadykov hdfs        257 2023-03-12 14:01 /tmp/tmp_02.parquet/_spark_metadata/82\n",
      "-rw-r--r--   3 dinar.sadykov hdfs        258 2023-03-12 14:01 /tmp/tmp_02.parquet/_spark_metadata/83\n",
      "-rw-r--r--   3 dinar.sadykov hdfs        258 2023-03-12 14:01 /tmp/tmp_02.parquet/_spark_metadata/84\n",
      "-rw-r--r--   3 dinar.sadykov hdfs        258 2023-03-12 14:01 /tmp/tmp_02.parquet/_spark_metadata/85\n",
      "-rw-r--r--   3 dinar.sadykov hdfs        258 2023-03-12 14:01 /tmp/tmp_02.parquet/_spark_metadata/86\n",
      "-rw-r--r--   3 dinar.sadykov hdfs        258 2023-03-12 14:01 /tmp/tmp_02.parquet/_spark_metadata/87\n",
      "-rw-r--r--   3 dinar.sadykov hdfs        258 2023-03-12 14:01 /tmp/tmp_02.parquet/_spark_metadata/88\n",
      "-rw-r--r--   3 dinar.sadykov hdfs      23287 2023-03-12 14:01 /tmp/tmp_02.parquet/_spark_metadata/89.compact\n",
      "-rw-r--r--   3 dinar.sadykov hdfs       2560 2023-03-12 13:50 /tmp/tmp_02.parquet/_spark_metadata/9.compact\n",
      "-rw-r--r--   3 dinar.sadykov hdfs        258 2023-03-12 14:01 /tmp/tmp_02.parquet/_spark_metadata/90\n",
      "-rw-r--r--   3 dinar.sadykov hdfs        258 2023-03-12 14:01 /tmp/tmp_02.parquet/_spark_metadata/91\n",
      "-rw-r--r--   3 dinar.sadykov hdfs        258 2023-03-12 14:01 /tmp/tmp_02.parquet/_spark_metadata/92\n",
      "-rw-r--r--   3 dinar.sadykov hdfs        258 2023-03-12 14:01 /tmp/tmp_02.parquet/_spark_metadata/93\n",
      "-rw-r--r--   3 dinar.sadykov hdfs        258 2023-03-12 14:01 /tmp/tmp_02.parquet/_spark_metadata/94\n",
      "-rw-r--r--   3 dinar.sadykov hdfs        258 2023-03-12 14:01 /tmp/tmp_02.parquet/_spark_metadata/95\n",
      "-rw-r--r--   3 dinar.sadykov hdfs        258 2023-03-12 14:01 /tmp/tmp_02.parquet/_spark_metadata/96\n",
      "-rw-r--r--   3 dinar.sadykov hdfs        258 2023-03-12 14:01 /tmp/tmp_02.parquet/_spark_metadata/97\n",
      "-rw-r--r--   3 dinar.sadykov hdfs        258 2023-03-12 14:01 /tmp/tmp_02.parquet/_spark_metadata/98\n",
      "-rw-r--r--   3 dinar.sadykov hdfs      25847 2023-03-12 14:01 /tmp/tmp_02.parquet/_spark_metadata/99.compact\n",
      "Found 101 items\n",
      "-rw-r--r--   3 dinar.sadykov hdfs         29 2023-03-12 13:50 /tmp/tmp_02.parquet/commits/1\n",
      "-rw-r--r--   3 dinar.sadykov hdfs         29 2023-03-12 13:50 /tmp/tmp_02.parquet/commits/10\n",
      "-rw-r--r--   3 dinar.sadykov hdfs         29 2023-03-12 14:02 /tmp/tmp_02.parquet/commits/100\n",
      "-rw-r--r--   3 dinar.sadykov hdfs         29 2023-03-12 14:02 /tmp/tmp_02.parquet/commits/101\n",
      "-rw-r--r--   3 dinar.sadykov hdfs         29 2023-03-12 13:50 /tmp/tmp_02.parquet/commits/11\n",
      "-rw-r--r--   3 dinar.sadykov hdfs         29 2023-03-12 13:50 /tmp/tmp_02.parquet/commits/12\n",
      "-rw-r--r--   3 dinar.sadykov hdfs         29 2023-03-12 13:50 /tmp/tmp_02.parquet/commits/13\n",
      "-rw-r--r--   3 dinar.sadykov hdfs         29 2023-03-12 13:50 /tmp/tmp_02.parquet/commits/14\n",
      "-rw-r--r--   3 dinar.sadykov hdfs         29 2023-03-12 13:50 /tmp/tmp_02.parquet/commits/15\n",
      "-rw-r--r--   3 dinar.sadykov hdfs         29 2023-03-12 13:50 /tmp/tmp_02.parquet/commits/16\n",
      "-rw-r--r--   3 dinar.sadykov hdfs         29 2023-03-12 13:50 /tmp/tmp_02.parquet/commits/17\n",
      "-rw-r--r--   3 dinar.sadykov hdfs         29 2023-03-12 13:50 /tmp/tmp_02.parquet/commits/18\n",
      "-rw-r--r--   3 dinar.sadykov hdfs         29 2023-03-12 13:50 /tmp/tmp_02.parquet/commits/19\n",
      "-rw-r--r--   3 dinar.sadykov hdfs         29 2023-03-12 13:50 /tmp/tmp_02.parquet/commits/2\n",
      "-rw-r--r--   3 dinar.sadykov hdfs         29 2023-03-12 13:50 /tmp/tmp_02.parquet/commits/20\n",
      "-rw-r--r--   3 dinar.sadykov hdfs         29 2023-03-12 13:50 /tmp/tmp_02.parquet/commits/21\n",
      "-rw-r--r--   3 dinar.sadykov hdfs         29 2023-03-12 13:50 /tmp/tmp_02.parquet/commits/22\n",
      "-rw-r--r--   3 dinar.sadykov hdfs         29 2023-03-12 13:50 /tmp/tmp_02.parquet/commits/23\n",
      "-rw-r--r--   3 dinar.sadykov hdfs         29 2023-03-12 13:50 /tmp/tmp_02.parquet/commits/24\n",
      "-rw-r--r--   3 dinar.sadykov hdfs         29 2023-03-12 13:50 /tmp/tmp_02.parquet/commits/25\n",
      "-rw-r--r--   3 dinar.sadykov hdfs         29 2023-03-12 13:50 /tmp/tmp_02.parquet/commits/26\n",
      "-rw-r--r--   3 dinar.sadykov hdfs         29 2023-03-12 13:50 /tmp/tmp_02.parquet/commits/27\n",
      "-rw-r--r--   3 dinar.sadykov hdfs         29 2023-03-12 13:50 /tmp/tmp_02.parquet/commits/28\n",
      "-rw-r--r--   3 dinar.sadykov hdfs         29 2023-03-12 13:50 /tmp/tmp_02.parquet/commits/29\n",
      "-rw-r--r--   3 dinar.sadykov hdfs         29 2023-03-12 13:50 /tmp/tmp_02.parquet/commits/3\n",
      "-rw-r--r--   3 dinar.sadykov hdfs         29 2023-03-12 13:50 /tmp/tmp_02.parquet/commits/30\n",
      "-rw-r--r--   3 dinar.sadykov hdfs         29 2023-03-12 13:50 /tmp/tmp_02.parquet/commits/31\n",
      "-rw-r--r--   3 dinar.sadykov hdfs         29 2023-03-12 13:50 /tmp/tmp_02.parquet/commits/32\n",
      "-rw-r--r--   3 dinar.sadykov hdfs         29 2023-03-12 13:50 /tmp/tmp_02.parquet/commits/33\n",
      "-rw-r--r--   3 dinar.sadykov hdfs         29 2023-03-12 13:50 /tmp/tmp_02.parquet/commits/34\n",
      "-rw-r--r--   3 dinar.sadykov hdfs         29 2023-03-12 13:50 /tmp/tmp_02.parquet/commits/35\n",
      "-rw-r--r--   3 dinar.sadykov hdfs         29 2023-03-12 13:50 /tmp/tmp_02.parquet/commits/36\n",
      "-rw-r--r--   3 dinar.sadykov hdfs         29 2023-03-12 13:50 /tmp/tmp_02.parquet/commits/37\n",
      "-rw-r--r--   3 dinar.sadykov hdfs         29 2023-03-12 13:50 /tmp/tmp_02.parquet/commits/38\n",
      "-rw-r--r--   3 dinar.sadykov hdfs         29 2023-03-12 13:51 /tmp/tmp_02.parquet/commits/39\n",
      "-rw-r--r--   3 dinar.sadykov hdfs         29 2023-03-12 13:50 /tmp/tmp_02.parquet/commits/4\n",
      "-rw-r--r--   3 dinar.sadykov hdfs         29 2023-03-12 13:51 /tmp/tmp_02.parquet/commits/40\n",
      "-rw-r--r--   3 dinar.sadykov hdfs         29 2023-03-12 14:01 /tmp/tmp_02.parquet/commits/41\n",
      "-rw-r--r--   3 dinar.sadykov hdfs         29 2023-03-12 14:01 /tmp/tmp_02.parquet/commits/42\n",
      "-rw-r--r--   3 dinar.sadykov hdfs         29 2023-03-12 14:01 /tmp/tmp_02.parquet/commits/43\n",
      "-rw-r--r--   3 dinar.sadykov hdfs         29 2023-03-12 14:01 /tmp/tmp_02.parquet/commits/44\n",
      "-rw-r--r--   3 dinar.sadykov hdfs         29 2023-03-12 14:01 /tmp/tmp_02.parquet/commits/45\n",
      "-rw-r--r--   3 dinar.sadykov hdfs         29 2023-03-12 14:01 /tmp/tmp_02.parquet/commits/46\n",
      "-rw-r--r--   3 dinar.sadykov hdfs         29 2023-03-12 14:01 /tmp/tmp_02.parquet/commits/47\n",
      "-rw-r--r--   3 dinar.sadykov hdfs         29 2023-03-12 14:01 /tmp/tmp_02.parquet/commits/48\n",
      "-rw-r--r--   3 dinar.sadykov hdfs         29 2023-03-12 14:01 /tmp/tmp_02.parquet/commits/49\n",
      "-rw-r--r--   3 dinar.sadykov hdfs         29 2023-03-12 13:50 /tmp/tmp_02.parquet/commits/5\n",
      "-rw-r--r--   3 dinar.sadykov hdfs         29 2023-03-12 14:01 /tmp/tmp_02.parquet/commits/50\n",
      "-rw-r--r--   3 dinar.sadykov hdfs         29 2023-03-12 14:01 /tmp/tmp_02.parquet/commits/51\n",
      "-rw-r--r--   3 dinar.sadykov hdfs         29 2023-03-12 14:01 /tmp/tmp_02.parquet/commits/52\n",
      "-rw-r--r--   3 dinar.sadykov hdfs         29 2023-03-12 14:01 /tmp/tmp_02.parquet/commits/53\n",
      "-rw-r--r--   3 dinar.sadykov hdfs         29 2023-03-12 14:01 /tmp/tmp_02.parquet/commits/54\n",
      "-rw-r--r--   3 dinar.sadykov hdfs         29 2023-03-12 14:01 /tmp/tmp_02.parquet/commits/55\n",
      "-rw-r--r--   3 dinar.sadykov hdfs         29 2023-03-12 14:01 /tmp/tmp_02.parquet/commits/56\n",
      "-rw-r--r--   3 dinar.sadykov hdfs         29 2023-03-12 14:01 /tmp/tmp_02.parquet/commits/57\n",
      "-rw-r--r--   3 dinar.sadykov hdfs         29 2023-03-12 14:01 /tmp/tmp_02.parquet/commits/58\n",
      "-rw-r--r--   3 dinar.sadykov hdfs         29 2023-03-12 14:01 /tmp/tmp_02.parquet/commits/59\n",
      "-rw-r--r--   3 dinar.sadykov hdfs         29 2023-03-12 13:50 /tmp/tmp_02.parquet/commits/6\n",
      "-rw-r--r--   3 dinar.sadykov hdfs         29 2023-03-12 14:01 /tmp/tmp_02.parquet/commits/60\n",
      "-rw-r--r--   3 dinar.sadykov hdfs         29 2023-03-12 14:01 /tmp/tmp_02.parquet/commits/61\n",
      "-rw-r--r--   3 dinar.sadykov hdfs         29 2023-03-12 14:01 /tmp/tmp_02.parquet/commits/62\n",
      "-rw-r--r--   3 dinar.sadykov hdfs         29 2023-03-12 14:01 /tmp/tmp_02.parquet/commits/63\n",
      "-rw-r--r--   3 dinar.sadykov hdfs         29 2023-03-12 14:01 /tmp/tmp_02.parquet/commits/64\n",
      "-rw-r--r--   3 dinar.sadykov hdfs         29 2023-03-12 14:01 /tmp/tmp_02.parquet/commits/65\n",
      "-rw-r--r--   3 dinar.sadykov hdfs         29 2023-03-12 14:01 /tmp/tmp_02.parquet/commits/66\n",
      "-rw-r--r--   3 dinar.sadykov hdfs         29 2023-03-12 14:01 /tmp/tmp_02.parquet/commits/67\n",
      "-rw-r--r--   3 dinar.sadykov hdfs         29 2023-03-12 14:01 /tmp/tmp_02.parquet/commits/68\n",
      "-rw-r--r--   3 dinar.sadykov hdfs         29 2023-03-12 14:01 /tmp/tmp_02.parquet/commits/69\n",
      "-rw-r--r--   3 dinar.sadykov hdfs         29 2023-03-12 13:50 /tmp/tmp_02.parquet/commits/7\n",
      "-rw-r--r--   3 dinar.sadykov hdfs         29 2023-03-12 14:01 /tmp/tmp_02.parquet/commits/70\n",
      "-rw-r--r--   3 dinar.sadykov hdfs         29 2023-03-12 14:01 /tmp/tmp_02.parquet/commits/71\n",
      "-rw-r--r--   3 dinar.sadykov hdfs         29 2023-03-12 14:01 /tmp/tmp_02.parquet/commits/72\n",
      "-rw-r--r--   3 dinar.sadykov hdfs         29 2023-03-12 14:01 /tmp/tmp_02.parquet/commits/73\n",
      "-rw-r--r--   3 dinar.sadykov hdfs         29 2023-03-12 14:01 /tmp/tmp_02.parquet/commits/74\n",
      "-rw-r--r--   3 dinar.sadykov hdfs         29 2023-03-12 14:01 /tmp/tmp_02.parquet/commits/75\n",
      "-rw-r--r--   3 dinar.sadykov hdfs         29 2023-03-12 14:01 /tmp/tmp_02.parquet/commits/76\n",
      "-rw-r--r--   3 dinar.sadykov hdfs         29 2023-03-12 14:01 /tmp/tmp_02.parquet/commits/77\n",
      "-rw-r--r--   3 dinar.sadykov hdfs         29 2023-03-12 14:01 /tmp/tmp_02.parquet/commits/78\n",
      "-rw-r--r--   3 dinar.sadykov hdfs         29 2023-03-12 14:01 /tmp/tmp_02.parquet/commits/79\n",
      "-rw-r--r--   3 dinar.sadykov hdfs         29 2023-03-12 13:50 /tmp/tmp_02.parquet/commits/8\n",
      "-rw-r--r--   3 dinar.sadykov hdfs         29 2023-03-12 14:01 /tmp/tmp_02.parquet/commits/80\n",
      "-rw-r--r--   3 dinar.sadykov hdfs         29 2023-03-12 14:01 /tmp/tmp_02.parquet/commits/81\n",
      "-rw-r--r--   3 dinar.sadykov hdfs         29 2023-03-12 14:01 /tmp/tmp_02.parquet/commits/82\n",
      "-rw-r--r--   3 dinar.sadykov hdfs         29 2023-03-12 14:01 /tmp/tmp_02.parquet/commits/83\n",
      "-rw-r--r--   3 dinar.sadykov hdfs         29 2023-03-12 14:01 /tmp/tmp_02.parquet/commits/84\n",
      "-rw-r--r--   3 dinar.sadykov hdfs         29 2023-03-12 14:01 /tmp/tmp_02.parquet/commits/85\n",
      "-rw-r--r--   3 dinar.sadykov hdfs         29 2023-03-12 14:01 /tmp/tmp_02.parquet/commits/86\n",
      "-rw-r--r--   3 dinar.sadykov hdfs         29 2023-03-12 14:01 /tmp/tmp_02.parquet/commits/87\n",
      "-rw-r--r--   3 dinar.sadykov hdfs         29 2023-03-12 14:01 /tmp/tmp_02.parquet/commits/88\n",
      "-rw-r--r--   3 dinar.sadykov hdfs         29 2023-03-12 14:01 /tmp/tmp_02.parquet/commits/89\n",
      "-rw-r--r--   3 dinar.sadykov hdfs         29 2023-03-12 13:50 /tmp/tmp_02.parquet/commits/9\n",
      "-rw-r--r--   3 dinar.sadykov hdfs         29 2023-03-12 14:01 /tmp/tmp_02.parquet/commits/90\n",
      "-rw-r--r--   3 dinar.sadykov hdfs         29 2023-03-12 14:01 /tmp/tmp_02.parquet/commits/91\n",
      "-rw-r--r--   3 dinar.sadykov hdfs         29 2023-03-12 14:01 /tmp/tmp_02.parquet/commits/92\n",
      "-rw-r--r--   3 dinar.sadykov hdfs         29 2023-03-12 14:01 /tmp/tmp_02.parquet/commits/93\n",
      "-rw-r--r--   3 dinar.sadykov hdfs         29 2023-03-12 14:01 /tmp/tmp_02.parquet/commits/94\n",
      "-rw-r--r--   3 dinar.sadykov hdfs         29 2023-03-12 14:01 /tmp/tmp_02.parquet/commits/95\n",
      "-rw-r--r--   3 dinar.sadykov hdfs         29 2023-03-12 14:01 /tmp/tmp_02.parquet/commits/96\n",
      "-rw-r--r--   3 dinar.sadykov hdfs         29 2023-03-12 14:01 /tmp/tmp_02.parquet/commits/97\n",
      "-rw-r--r--   3 dinar.sadykov hdfs         29 2023-03-12 14:01 /tmp/tmp_02.parquet/commits/98\n",
      "-rw-r--r--   3 dinar.sadykov hdfs         29 2023-03-12 14:01 /tmp/tmp_02.parquet/commits/99\n",
      "-rw-r--r--   3 dinar.sadykov hdfs         45 2023-03-12 13:50 /tmp/tmp_02.parquet/metadata\n",
      "Found 101 items\n",
      "-rw-r--r--   3 dinar.sadykov hdfs        408 2023-03-12 13:50 /tmp/tmp_02.parquet/offsets/1\n",
      "-rw-r--r--   3 dinar.sadykov hdfs        409 2023-03-12 13:50 /tmp/tmp_02.parquet/offsets/10\n",
      "-rw-r--r--   3 dinar.sadykov hdfs        410 2023-03-12 14:02 /tmp/tmp_02.parquet/offsets/100\n",
      "-rw-r--r--   3 dinar.sadykov hdfs        410 2023-03-12 14:02 /tmp/tmp_02.parquet/offsets/101\n",
      "-rw-r--r--   3 dinar.sadykov hdfs        409 2023-03-12 13:50 /tmp/tmp_02.parquet/offsets/11\n",
      "-rw-r--r--   3 dinar.sadykov hdfs        409 2023-03-12 13:50 /tmp/tmp_02.parquet/offsets/12\n",
      "-rw-r--r--   3 dinar.sadykov hdfs        409 2023-03-12 13:50 /tmp/tmp_02.parquet/offsets/13\n",
      "-rw-r--r--   3 dinar.sadykov hdfs        409 2023-03-12 13:50 /tmp/tmp_02.parquet/offsets/14\n",
      "-rw-r--r--   3 dinar.sadykov hdfs        409 2023-03-12 13:50 /tmp/tmp_02.parquet/offsets/15\n",
      "-rw-r--r--   3 dinar.sadykov hdfs        409 2023-03-12 13:50 /tmp/tmp_02.parquet/offsets/16\n",
      "-rw-r--r--   3 dinar.sadykov hdfs        409 2023-03-12 13:50 /tmp/tmp_02.parquet/offsets/17\n",
      "-rw-r--r--   3 dinar.sadykov hdfs        409 2023-03-12 13:50 /tmp/tmp_02.parquet/offsets/18\n",
      "-rw-r--r--   3 dinar.sadykov hdfs        409 2023-03-12 13:50 /tmp/tmp_02.parquet/offsets/19\n",
      "-rw-r--r--   3 dinar.sadykov hdfs        408 2023-03-12 13:50 /tmp/tmp_02.parquet/offsets/2\n",
      "-rw-r--r--   3 dinar.sadykov hdfs        409 2023-03-12 13:50 /tmp/tmp_02.parquet/offsets/20\n",
      "-rw-r--r--   3 dinar.sadykov hdfs        409 2023-03-12 13:50 /tmp/tmp_02.parquet/offsets/21\n",
      "-rw-r--r--   3 dinar.sadykov hdfs        409 2023-03-12 13:50 /tmp/tmp_02.parquet/offsets/22\n",
      "-rw-r--r--   3 dinar.sadykov hdfs        409 2023-03-12 13:50 /tmp/tmp_02.parquet/offsets/23\n",
      "-rw-r--r--   3 dinar.sadykov hdfs        409 2023-03-12 13:50 /tmp/tmp_02.parquet/offsets/24\n",
      "-rw-r--r--   3 dinar.sadykov hdfs        409 2023-03-12 13:50 /tmp/tmp_02.parquet/offsets/25\n",
      "-rw-r--r--   3 dinar.sadykov hdfs        409 2023-03-12 13:50 /tmp/tmp_02.parquet/offsets/26\n",
      "-rw-r--r--   3 dinar.sadykov hdfs        409 2023-03-12 13:50 /tmp/tmp_02.parquet/offsets/27\n",
      "-rw-r--r--   3 dinar.sadykov hdfs        409 2023-03-12 13:50 /tmp/tmp_02.parquet/offsets/28\n",
      "-rw-r--r--   3 dinar.sadykov hdfs        409 2023-03-12 13:50 /tmp/tmp_02.parquet/offsets/29\n",
      "-rw-r--r--   3 dinar.sadykov hdfs        408 2023-03-12 13:50 /tmp/tmp_02.parquet/offsets/3\n",
      "-rw-r--r--   3 dinar.sadykov hdfs        409 2023-03-12 13:50 /tmp/tmp_02.parquet/offsets/30\n",
      "-rw-r--r--   3 dinar.sadykov hdfs        409 2023-03-12 13:50 /tmp/tmp_02.parquet/offsets/31\n",
      "-rw-r--r--   3 dinar.sadykov hdfs        409 2023-03-12 13:50 /tmp/tmp_02.parquet/offsets/32\n",
      "-rw-r--r--   3 dinar.sadykov hdfs        409 2023-03-12 13:50 /tmp/tmp_02.parquet/offsets/33\n",
      "-rw-r--r--   3 dinar.sadykov hdfs        409 2023-03-12 13:50 /tmp/tmp_02.parquet/offsets/34\n",
      "-rw-r--r--   3 dinar.sadykov hdfs        409 2023-03-12 13:50 /tmp/tmp_02.parquet/offsets/35\n",
      "-rw-r--r--   3 dinar.sadykov hdfs        409 2023-03-12 13:50 /tmp/tmp_02.parquet/offsets/36\n",
      "-rw-r--r--   3 dinar.sadykov hdfs        409 2023-03-12 13:50 /tmp/tmp_02.parquet/offsets/37\n",
      "-rw-r--r--   3 dinar.sadykov hdfs        409 2023-03-12 13:50 /tmp/tmp_02.parquet/offsets/38\n",
      "-rw-r--r--   3 dinar.sadykov hdfs        409 2023-03-12 13:51 /tmp/tmp_02.parquet/offsets/39\n",
      "-rw-r--r--   3 dinar.sadykov hdfs        408 2023-03-12 13:50 /tmp/tmp_02.parquet/offsets/4\n",
      "-rw-r--r--   3 dinar.sadykov hdfs        409 2023-03-12 13:51 /tmp/tmp_02.parquet/offsets/40\n",
      "-rw-r--r--   3 dinar.sadykov hdfs        410 2023-03-12 14:01 /tmp/tmp_02.parquet/offsets/41\n",
      "-rw-r--r--   3 dinar.sadykov hdfs        410 2023-03-12 14:01 /tmp/tmp_02.parquet/offsets/42\n",
      "-rw-r--r--   3 dinar.sadykov hdfs        410 2023-03-12 14:01 /tmp/tmp_02.parquet/offsets/43\n",
      "-rw-r--r--   3 dinar.sadykov hdfs        410 2023-03-12 14:01 /tmp/tmp_02.parquet/offsets/44\n",
      "-rw-r--r--   3 dinar.sadykov hdfs        410 2023-03-12 14:01 /tmp/tmp_02.parquet/offsets/45\n",
      "-rw-r--r--   3 dinar.sadykov hdfs        410 2023-03-12 14:01 /tmp/tmp_02.parquet/offsets/46\n",
      "-rw-r--r--   3 dinar.sadykov hdfs        410 2023-03-12 14:01 /tmp/tmp_02.parquet/offsets/47\n",
      "-rw-r--r--   3 dinar.sadykov hdfs        410 2023-03-12 14:01 /tmp/tmp_02.parquet/offsets/48\n",
      "-rw-r--r--   3 dinar.sadykov hdfs        410 2023-03-12 14:01 /tmp/tmp_02.parquet/offsets/49\n",
      "-rw-r--r--   3 dinar.sadykov hdfs        408 2023-03-12 13:50 /tmp/tmp_02.parquet/offsets/5\n",
      "-rw-r--r--   3 dinar.sadykov hdfs        410 2023-03-12 14:01 /tmp/tmp_02.parquet/offsets/50\n",
      "-rw-r--r--   3 dinar.sadykov hdfs        410 2023-03-12 14:01 /tmp/tmp_02.parquet/offsets/51\n",
      "-rw-r--r--   3 dinar.sadykov hdfs        410 2023-03-12 14:01 /tmp/tmp_02.parquet/offsets/52\n",
      "-rw-r--r--   3 dinar.sadykov hdfs        410 2023-03-12 14:01 /tmp/tmp_02.parquet/offsets/53\n",
      "-rw-r--r--   3 dinar.sadykov hdfs        410 2023-03-12 14:01 /tmp/tmp_02.parquet/offsets/54\n",
      "-rw-r--r--   3 dinar.sadykov hdfs        410 2023-03-12 14:01 /tmp/tmp_02.parquet/offsets/55\n",
      "-rw-r--r--   3 dinar.sadykov hdfs        410 2023-03-12 14:01 /tmp/tmp_02.parquet/offsets/56\n",
      "-rw-r--r--   3 dinar.sadykov hdfs        410 2023-03-12 14:01 /tmp/tmp_02.parquet/offsets/57\n",
      "-rw-r--r--   3 dinar.sadykov hdfs        410 2023-03-12 14:01 /tmp/tmp_02.parquet/offsets/58\n",
      "-rw-r--r--   3 dinar.sadykov hdfs        410 2023-03-12 14:01 /tmp/tmp_02.parquet/offsets/59\n",
      "-rw-r--r--   3 dinar.sadykov hdfs        408 2023-03-12 13:50 /tmp/tmp_02.parquet/offsets/6\n",
      "-rw-r--r--   3 dinar.sadykov hdfs        410 2023-03-12 14:01 /tmp/tmp_02.parquet/offsets/60\n",
      "-rw-r--r--   3 dinar.sadykov hdfs        410 2023-03-12 14:01 /tmp/tmp_02.parquet/offsets/61\n",
      "-rw-r--r--   3 dinar.sadykov hdfs        410 2023-03-12 14:01 /tmp/tmp_02.parquet/offsets/62\n",
      "-rw-r--r--   3 dinar.sadykov hdfs        410 2023-03-12 14:01 /tmp/tmp_02.parquet/offsets/63\n",
      "-rw-r--r--   3 dinar.sadykov hdfs        410 2023-03-12 14:01 /tmp/tmp_02.parquet/offsets/64\n",
      "-rw-r--r--   3 dinar.sadykov hdfs        410 2023-03-12 14:01 /tmp/tmp_02.parquet/offsets/65\n",
      "-rw-r--r--   3 dinar.sadykov hdfs        410 2023-03-12 14:01 /tmp/tmp_02.parquet/offsets/66\n",
      "-rw-r--r--   3 dinar.sadykov hdfs        410 2023-03-12 14:01 /tmp/tmp_02.parquet/offsets/67\n",
      "-rw-r--r--   3 dinar.sadykov hdfs        410 2023-03-12 14:01 /tmp/tmp_02.parquet/offsets/68\n",
      "-rw-r--r--   3 dinar.sadykov hdfs        410 2023-03-12 14:01 /tmp/tmp_02.parquet/offsets/69\n",
      "-rw-r--r--   3 dinar.sadykov hdfs        408 2023-03-12 13:50 /tmp/tmp_02.parquet/offsets/7\n",
      "-rw-r--r--   3 dinar.sadykov hdfs        410 2023-03-12 14:01 /tmp/tmp_02.parquet/offsets/70\n",
      "-rw-r--r--   3 dinar.sadykov hdfs        410 2023-03-12 14:01 /tmp/tmp_02.parquet/offsets/71\n",
      "-rw-r--r--   3 dinar.sadykov hdfs        410 2023-03-12 14:01 /tmp/tmp_02.parquet/offsets/72\n",
      "-rw-r--r--   3 dinar.sadykov hdfs        410 2023-03-12 14:01 /tmp/tmp_02.parquet/offsets/73\n",
      "-rw-r--r--   3 dinar.sadykov hdfs        410 2023-03-12 14:01 /tmp/tmp_02.parquet/offsets/74\n",
      "-rw-r--r--   3 dinar.sadykov hdfs        410 2023-03-12 14:01 /tmp/tmp_02.parquet/offsets/75\n",
      "-rw-r--r--   3 dinar.sadykov hdfs        410 2023-03-12 14:01 /tmp/tmp_02.parquet/offsets/76\n",
      "-rw-r--r--   3 dinar.sadykov hdfs        410 2023-03-12 14:01 /tmp/tmp_02.parquet/offsets/77\n",
      "-rw-r--r--   3 dinar.sadykov hdfs        410 2023-03-12 14:01 /tmp/tmp_02.parquet/offsets/78\n",
      "-rw-r--r--   3 dinar.sadykov hdfs        410 2023-03-12 14:01 /tmp/tmp_02.parquet/offsets/79\n",
      "-rw-r--r--   3 dinar.sadykov hdfs        408 2023-03-12 13:50 /tmp/tmp_02.parquet/offsets/8\n",
      "-rw-r--r--   3 dinar.sadykov hdfs        410 2023-03-12 14:01 /tmp/tmp_02.parquet/offsets/80\n",
      "-rw-r--r--   3 dinar.sadykov hdfs        410 2023-03-12 14:01 /tmp/tmp_02.parquet/offsets/81\n",
      "-rw-r--r--   3 dinar.sadykov hdfs        410 2023-03-12 14:01 /tmp/tmp_02.parquet/offsets/82\n",
      "-rw-r--r--   3 dinar.sadykov hdfs        410 2023-03-12 14:01 /tmp/tmp_02.parquet/offsets/83\n",
      "-rw-r--r--   3 dinar.sadykov hdfs        410 2023-03-12 14:01 /tmp/tmp_02.parquet/offsets/84\n",
      "-rw-r--r--   3 dinar.sadykov hdfs        410 2023-03-12 14:01 /tmp/tmp_02.parquet/offsets/85\n",
      "-rw-r--r--   3 dinar.sadykov hdfs        410 2023-03-12 14:01 /tmp/tmp_02.parquet/offsets/86\n",
      "-rw-r--r--   3 dinar.sadykov hdfs        410 2023-03-12 14:01 /tmp/tmp_02.parquet/offsets/87\n",
      "-rw-r--r--   3 dinar.sadykov hdfs        410 2023-03-12 14:01 /tmp/tmp_02.parquet/offsets/88\n",
      "-rw-r--r--   3 dinar.sadykov hdfs        410 2023-03-12 14:01 /tmp/tmp_02.parquet/offsets/89\n",
      "-rw-r--r--   3 dinar.sadykov hdfs        408 2023-03-12 13:50 /tmp/tmp_02.parquet/offsets/9\n",
      "-rw-r--r--   3 dinar.sadykov hdfs        410 2023-03-12 14:01 /tmp/tmp_02.parquet/offsets/90\n",
      "-rw-r--r--   3 dinar.sadykov hdfs        410 2023-03-12 14:01 /tmp/tmp_02.parquet/offsets/91\n",
      "-rw-r--r--   3 dinar.sadykov hdfs        410 2023-03-12 14:01 /tmp/tmp_02.parquet/offsets/92\n",
      "-rw-r--r--   3 dinar.sadykov hdfs        410 2023-03-12 14:01 /tmp/tmp_02.parquet/offsets/93\n",
      "-rw-r--r--   3 dinar.sadykov hdfs        410 2023-03-12 14:01 /tmp/tmp_02.parquet/offsets/94\n",
      "-rw-r--r--   3 dinar.sadykov hdfs        410 2023-03-12 14:01 /tmp/tmp_02.parquet/offsets/95\n",
      "-rw-r--r--   3 dinar.sadykov hdfs        410 2023-03-12 14:01 /tmp/tmp_02.parquet/offsets/96\n",
      "-rw-r--r--   3 dinar.sadykov hdfs        410 2023-03-12 14:01 /tmp/tmp_02.parquet/offsets/97\n",
      "-rw-r--r--   3 dinar.sadykov hdfs        410 2023-03-12 14:01 /tmp/tmp_02.parquet/offsets/98\n",
      "-rw-r--r--   3 dinar.sadykov hdfs        410 2023-03-12 14:01 /tmp/tmp_02.parquet/offsets/99\n",
      "-rw-r--r--   3 dinar.sadykov hdfs       1000 2023-03-12 14:01 /tmp/tmp_02.parquet/part-00000-01408689-bc5e-44ca-b0e0-31f18bd4d7fe-c000.snappy.parquet\n",
      "-rw-r--r--   3 dinar.sadykov hdfs       1000 2023-03-12 14:01 /tmp/tmp_02.parquet/part-00000-01b99b60-a748-42a1-bdc6-5664c3ef593d-c000.snappy.parquet\n",
      "-rw-r--r--   3 dinar.sadykov hdfs       1000 2023-03-12 13:50 /tmp/tmp_02.parquet/part-00000-0437819d-2cc5-41da-b4a2-cbb494fc676d-c000.snappy.parquet\n",
      "-rw-r--r--   3 dinar.sadykov hdfs       1000 2023-03-12 14:01 /tmp/tmp_02.parquet/part-00000-05d0366f-cfb3-4ca2-a3f8-50985ac9eccb-c000.snappy.parquet\n",
      "-rw-r--r--   3 dinar.sadykov hdfs       1000 2023-03-12 13:50 /tmp/tmp_02.parquet/part-00000-08526465-b8a1-4ec6-ab3b-3ecbdf80dea6-c000.snappy.parquet\n",
      "-rw-r--r--   3 dinar.sadykov hdfs        991 2023-03-12 13:50 /tmp/tmp_02.parquet/part-00000-0bcbefad-d90b-4589-a718-032a66982d41-c000.snappy.parquet\n",
      "-rw-r--r--   3 dinar.sadykov hdfs       1000 2023-03-12 14:01 /tmp/tmp_02.parquet/part-00000-0d5f63c0-9db6-49f2-8abd-956ab10f2fee-c000.snappy.parquet\n",
      "-rw-r--r--   3 dinar.sadykov hdfs        991 2023-03-12 14:01 /tmp/tmp_02.parquet/part-00000-0e568aee-0836-4f9c-a6ef-f4d57fb4720c-c000.snappy.parquet\n",
      "-rw-r--r--   3 dinar.sadykov hdfs       1000 2023-03-12 14:01 /tmp/tmp_02.parquet/part-00000-0f2492b3-1f74-4f4b-9347-6a48668b0284-c000.snappy.parquet\n",
      "-rw-r--r--   3 dinar.sadykov hdfs       1000 2023-03-12 14:02 /tmp/tmp_02.parquet/part-00000-11078cbf-ee23-410c-b5ce-d80b55960a73-c000.snappy.parquet\n",
      "-rw-r--r--   3 dinar.sadykov hdfs       1000 2023-03-12 14:01 /tmp/tmp_02.parquet/part-00000-13e8a0b8-52d0-4016-bea8-d1bceabfa494-c000.snappy.parquet\n",
      "-rw-r--r--   3 dinar.sadykov hdfs       1000 2023-03-12 13:50 /tmp/tmp_02.parquet/part-00000-14d02148-9c9d-4247-ae1a-a1e35529f53a-c000.snappy.parquet\n",
      "-rw-r--r--   3 dinar.sadykov hdfs       1000 2023-03-12 13:50 /tmp/tmp_02.parquet/part-00000-16a708ae-3d8f-47fc-8389-cdc1991917df-c000.snappy.parquet\n",
      "-rw-r--r--   3 dinar.sadykov hdfs       1000 2023-03-12 14:01 /tmp/tmp_02.parquet/part-00000-1aa2bc4e-5aed-42d7-bc57-aaa7c6ef21df-c000.snappy.parquet\n",
      "-rw-r--r--   3 dinar.sadykov hdfs       1000 2023-03-12 14:01 /tmp/tmp_02.parquet/part-00000-23675c63-07f7-4291-a8ff-32f4d5a9fcaa-c000.snappy.parquet\n",
      "-rw-r--r--   3 dinar.sadykov hdfs       1000 2023-03-12 13:50 /tmp/tmp_02.parquet/part-00000-246d5062-9a8c-4cd4-ad45-f643a6182f10-c000.snappy.parquet\n",
      "-rw-r--r--   3 dinar.sadykov hdfs       1000 2023-03-12 14:01 /tmp/tmp_02.parquet/part-00000-2523a52b-1c74-4a9d-bb39-a42c9f083069-c000.snappy.parquet\n",
      "-rw-r--r--   3 dinar.sadykov hdfs       1000 2023-03-12 14:01 /tmp/tmp_02.parquet/part-00000-2a162ff1-c262-45c0-bc8b-c40fd4674bf9-c000.snappy.parquet\n",
      "-rw-r--r--   3 dinar.sadykov hdfs       1000 2023-03-12 14:01 /tmp/tmp_02.parquet/part-00000-2c7ef3eb-36db-4915-8ba5-c3568d21dc2c-c000.snappy.parquet\n",
      "-rw-r--r--   3 dinar.sadykov hdfs       1000 2023-03-12 14:01 /tmp/tmp_02.parquet/part-00000-2e3ac880-1671-468d-b8a3-03f5f6a4d294-c000.snappy.parquet\n",
      "-rw-r--r--   3 dinar.sadykov hdfs       1000 2023-03-12 14:02 /tmp/tmp_02.parquet/part-00000-323b43ca-9088-477b-bb54-9bbfdb5eb3cd-c000.snappy.parquet\n",
      "-rw-r--r--   3 dinar.sadykov hdfs       1000 2023-03-12 14:01 /tmp/tmp_02.parquet/part-00000-34f6b246-3bee-4b49-a386-6f6492ff45a5-c000.snappy.parquet\n",
      "-rw-r--r--   3 dinar.sadykov hdfs       1000 2023-03-12 13:50 /tmp/tmp_02.parquet/part-00000-3734443c-1917-4e57-b909-010f9f7f9647-c000.snappy.parquet\n",
      "-rw-r--r--   3 dinar.sadykov hdfs       1000 2023-03-12 14:01 /tmp/tmp_02.parquet/part-00000-3b2722d2-fa28-4cef-985b-52af42ba48ac-c000.snappy.parquet\n",
      "-rw-r--r--   3 dinar.sadykov hdfs       1000 2023-03-12 13:50 /tmp/tmp_02.parquet/part-00000-3be98237-0a08-40bc-8958-56abecb9a8c5-c000.snappy.parquet\n",
      "-rw-r--r--   3 dinar.sadykov hdfs       1000 2023-03-12 13:50 /tmp/tmp_02.parquet/part-00000-3d1226c6-ed74-49c3-9236-5d88ca0cc2ff-c000.snappy.parquet\n",
      "-rw-r--r--   3 dinar.sadykov hdfs       1000 2023-03-12 14:01 /tmp/tmp_02.parquet/part-00000-3f3b5d79-2e26-4a33-9a98-06ba71c547d6-c000.snappy.parquet\n",
      "-rw-r--r--   3 dinar.sadykov hdfs       1000 2023-03-12 13:50 /tmp/tmp_02.parquet/part-00000-4167658b-345f-4626-8ddb-c249aad4617d-c000.snappy.parquet\n",
      "-rw-r--r--   3 dinar.sadykov hdfs       1000 2023-03-12 14:01 /tmp/tmp_02.parquet/part-00000-438470b9-bdbd-4a9a-af6f-719bd5367a6e-c000.snappy.parquet\n",
      "-rw-r--r--   3 dinar.sadykov hdfs       1000 2023-03-12 14:01 /tmp/tmp_02.parquet/part-00000-453acbcf-f627-43fb-a6ae-817167e0b028-c000.snappy.parquet\n",
      "-rw-r--r--   3 dinar.sadykov hdfs       1000 2023-03-12 13:50 /tmp/tmp_02.parquet/part-00000-45c888b5-69e6-4cc9-98d4-df3d3c190de7-c000.snappy.parquet\n",
      "-rw-r--r--   3 dinar.sadykov hdfs       1000 2023-03-12 14:01 /tmp/tmp_02.parquet/part-00000-47b7a19d-3f91-4d77-a5ff-ad182fb8df95-c000.snappy.parquet\n",
      "-rw-r--r--   3 dinar.sadykov hdfs       1000 2023-03-12 13:50 /tmp/tmp_02.parquet/part-00000-4b595a3a-45d9-4474-885c-624a6e0fe41b-c000.snappy.parquet\n",
      "-rw-r--r--   3 dinar.sadykov hdfs        991 2023-03-12 14:01 /tmp/tmp_02.parquet/part-00000-4c87febc-6250-4c80-9138-d0f72af70c4e-c000.snappy.parquet\n",
      "-rw-r--r--   3 dinar.sadykov hdfs       1000 2023-03-12 13:50 /tmp/tmp_02.parquet/part-00000-4e341814-d007-4249-9d39-11119ac482ec-c000.snappy.parquet\n",
      "-rw-r--r--   3 dinar.sadykov hdfs       1000 2023-03-12 14:01 /tmp/tmp_02.parquet/part-00000-4ef5f0c8-94cc-4ebc-9346-923a91f56ec4-c000.snappy.parquet\n",
      "-rw-r--r--   3 dinar.sadykov hdfs        991 2023-03-12 14:01 /tmp/tmp_02.parquet/part-00000-4f6ad3f7-bff0-4903-b8de-a1941d28c51b-c000.snappy.parquet\n",
      "-rw-r--r--   3 dinar.sadykov hdfs       1000 2023-03-12 14:01 /tmp/tmp_02.parquet/part-00000-567e9db6-2ff6-47c6-8e07-4e2bdf51b459-c000.snappy.parquet\n",
      "-rw-r--r--   3 dinar.sadykov hdfs       1000 2023-03-12 13:50 /tmp/tmp_02.parquet/part-00000-58237e35-208d-4db7-9967-4f8d084211ed-c000.snappy.parquet\n",
      "-rw-r--r--   3 dinar.sadykov hdfs       1000 2023-03-12 13:50 /tmp/tmp_02.parquet/part-00000-5aaaf28f-b2fd-47ea-9427-078c0357a9b7-c000.snappy.parquet\n",
      "-rw-r--r--   3 dinar.sadykov hdfs       1000 2023-03-12 14:01 /tmp/tmp_02.parquet/part-00000-5b2311c0-eab1-4d66-ba19-6861a055ce95-c000.snappy.parquet\n",
      "-rw-r--r--   3 dinar.sadykov hdfs       1000 2023-03-12 14:01 /tmp/tmp_02.parquet/part-00000-5d27271a-68fa-4978-ad30-36deb8cec8dd-c000.snappy.parquet\n",
      "-rw-r--r--   3 dinar.sadykov hdfs       1000 2023-03-12 14:01 /tmp/tmp_02.parquet/part-00000-6028c19a-ab35-4a9e-acd8-91d1de6158bf-c000.snappy.parquet\n",
      "-rw-r--r--   3 dinar.sadykov hdfs       1000 2023-03-12 13:50 /tmp/tmp_02.parquet/part-00000-655d00e5-02e2-48a3-afcd-3d4b02732c82-c000.snappy.parquet\n",
      "-rw-r--r--   3 dinar.sadykov hdfs       1000 2023-03-12 14:01 /tmp/tmp_02.parquet/part-00000-6610d8c3-0e17-456f-95b6-28d12221969a-c000.snappy.parquet\n",
      "-rw-r--r--   3 dinar.sadykov hdfs       1000 2023-03-12 14:01 /tmp/tmp_02.parquet/part-00000-662f331d-dd50-4ffb-af4b-0a14bf16e7c0-c000.snappy.parquet\n",
      "-rw-r--r--   3 dinar.sadykov hdfs       1000 2023-03-12 14:01 /tmp/tmp_02.parquet/part-00000-67b7ecc8-4cb6-45a2-a533-d2c12620d20f-c000.snappy.parquet\n",
      "-rw-r--r--   3 dinar.sadykov hdfs        991 2023-03-12 13:51 /tmp/tmp_02.parquet/part-00000-68176d93-314d-4b60-9d97-ced043178059-c000.snappy.parquet\n",
      "-rw-r--r--   3 dinar.sadykov hdfs       1000 2023-03-12 14:01 /tmp/tmp_02.parquet/part-00000-6fc9c60d-b4ed-4d4a-b8f8-fd39a549dcc6-c000.snappy.parquet\n",
      "-rw-r--r--   3 dinar.sadykov hdfs       1000 2023-03-12 14:01 /tmp/tmp_02.parquet/part-00000-734d96a9-2d47-4cc4-9f6f-ddb10ae9f7f1-c000.snappy.parquet\n",
      "-rw-r--r--   3 dinar.sadykov hdfs       1000 2023-03-12 13:50 /tmp/tmp_02.parquet/part-00000-7a96274b-5c95-4102-b747-e2e132627426-c000.snappy.parquet\n",
      "-rw-r--r--   3 dinar.sadykov hdfs        991 2023-03-12 14:01 /tmp/tmp_02.parquet/part-00000-82e6477e-c74b-4f1c-9101-83de72c7d998-c000.snappy.parquet\n",
      "-rw-r--r--   3 dinar.sadykov hdfs        472 2023-03-12 13:50 /tmp/tmp_02.parquet/part-00000-84728cf7-dae0-4b5e-a4fd-130866a288a6-c000.snappy.parquet\n",
      "-rw-r--r--   3 dinar.sadykov hdfs       1000 2023-03-12 13:50 /tmp/tmp_02.parquet/part-00000-8549404c-f048-4188-977c-ea8d657da52c-c000.snappy.parquet\n",
      "-rw-r--r--   3 dinar.sadykov hdfs       1000 2023-03-12 14:01 /tmp/tmp_02.parquet/part-00000-88a8f62c-6af1-4d26-9ce3-73ece006223e-c000.snappy.parquet\n",
      "-rw-r--r--   3 dinar.sadykov hdfs       5389 2023-03-12 14:01 /tmp/tmp_02.parquet/part-00000-8b84cd90-76fb-492d-8c3f-578369b9b86a-c000.snappy.parquet\n",
      "-rw-r--r--   3 dinar.sadykov hdfs       1000 2023-03-12 14:01 /tmp/tmp_02.parquet/part-00000-8bb987d5-03ba-43c8-b0e6-349baf6f1950-c000.snappy.parquet\n",
      "-rw-r--r--   3 dinar.sadykov hdfs        991 2023-03-12 13:50 /tmp/tmp_02.parquet/part-00000-8ec2223f-c705-45bc-ad9b-15413d7c52c8-c000.snappy.parquet\n",
      "-rw-r--r--   3 dinar.sadykov hdfs       1000 2023-03-12 13:51 /tmp/tmp_02.parquet/part-00000-914599d2-2175-4833-94cc-6c65b740c1ae-c000.snappy.parquet\n",
      "-rw-r--r--   3 dinar.sadykov hdfs       1000 2023-03-12 14:01 /tmp/tmp_02.parquet/part-00000-9492248a-2ec6-4572-959c-bb5b3cb51358-c000.snappy.parquet\n",
      "-rw-r--r--   3 dinar.sadykov hdfs       1000 2023-03-12 13:50 /tmp/tmp_02.parquet/part-00000-9a0923ca-e464-4b48-b3d4-d531086d5eb8-c000.snappy.parquet\n",
      "-rw-r--r--   3 dinar.sadykov hdfs       1000 2023-03-12 14:01 /tmp/tmp_02.parquet/part-00000-9db0bc6b-33e8-4a02-b642-0fac71c30d97-c000.snappy.parquet\n",
      "-rw-r--r--   3 dinar.sadykov hdfs       1000 2023-03-12 14:01 /tmp/tmp_02.parquet/part-00000-a2258bbb-46d7-4e73-9d60-a166557cfd06-c000.snappy.parquet\n",
      "-rw-r--r--   3 dinar.sadykov hdfs       1000 2023-03-12 14:01 /tmp/tmp_02.parquet/part-00000-a671edbf-8ca7-4d24-b79d-b88754956923-c000.snappy.parquet\n",
      "-rw-r--r--   3 dinar.sadykov hdfs       1000 2023-03-12 14:01 /tmp/tmp_02.parquet/part-00000-a9371359-0041-47a3-948a-d33e132a0cfd-c000.snappy.parquet\n",
      "-rw-r--r--   3 dinar.sadykov hdfs       1000 2023-03-12 14:01 /tmp/tmp_02.parquet/part-00000-ab8a430d-a441-4046-a467-79631c797474-c000.snappy.parquet\n",
      "-rw-r--r--   3 dinar.sadykov hdfs       1000 2023-03-12 13:50 /tmp/tmp_02.parquet/part-00000-adef75e7-b9bf-4981-b85b-3643db9dee42-c000.snappy.parquet\n",
      "-rw-r--r--   3 dinar.sadykov hdfs       1000 2023-03-12 14:01 /tmp/tmp_02.parquet/part-00000-b12adeca-1368-49fe-b6bc-37c16cecea30-c000.snappy.parquet\n",
      "-rw-r--r--   3 dinar.sadykov hdfs       1000 2023-03-12 13:50 /tmp/tmp_02.parquet/part-00000-b59055c9-f1a1-4e1b-93c2-34fbb482d5aa-c000.snappy.parquet\n",
      "-rw-r--r--   3 dinar.sadykov hdfs       1000 2023-03-12 14:01 /tmp/tmp_02.parquet/part-00000-b798837a-15b6-4503-8d4e-320dc59b9ddb-c000.snappy.parquet\n",
      "-rw-r--r--   3 dinar.sadykov hdfs       1000 2023-03-12 13:50 /tmp/tmp_02.parquet/part-00000-be68968c-d07f-44aa-9a52-4a8e842aa5c9-c000.snappy.parquet\n",
      "-rw-r--r--   3 dinar.sadykov hdfs       1000 2023-03-12 13:50 /tmp/tmp_02.parquet/part-00000-bebe4568-18bd-4475-b239-3316f4525b86-c000.snappy.parquet\n",
      "-rw-r--r--   3 dinar.sadykov hdfs       1000 2023-03-12 13:50 /tmp/tmp_02.parquet/part-00000-c34e0036-8297-42e9-9541-39b01c474efa-c000.snappy.parquet\n",
      "-rw-r--r--   3 dinar.sadykov hdfs       1000 2023-03-12 14:01 /tmp/tmp_02.parquet/part-00000-c4ebf7d1-a5c4-4e79-8200-6fcf8b5d48d2-c000.snappy.parquet\n",
      "-rw-r--r--   3 dinar.sadykov hdfs       1000 2023-03-12 14:01 /tmp/tmp_02.parquet/part-00000-c90bb4d0-ff25-450c-9032-e36b3003573f-c000.snappy.parquet\n",
      "-rw-r--r--   3 dinar.sadykov hdfs       1000 2023-03-12 14:01 /tmp/tmp_02.parquet/part-00000-ca7e6b93-a0a3-45c6-b4f1-54b737eac8a5-c000.snappy.parquet\n",
      "-rw-r--r--   3 dinar.sadykov hdfs       1000 2023-03-12 13:50 /tmp/tmp_02.parquet/part-00000-cadb1973-7234-4b6c-aaf9-d24137587921-c000.snappy.parquet\n",
      "-rw-r--r--   3 dinar.sadykov hdfs        991 2023-03-12 13:50 /tmp/tmp_02.parquet/part-00000-cb0e26a5-03c0-4254-a22d-6f9733d3a8cb-c000.snappy.parquet\n",
      "-rw-r--r--   3 dinar.sadykov hdfs        991 2023-03-12 14:01 /tmp/tmp_02.parquet/part-00000-cb9b8413-7084-4685-90cb-8e1b87c5ad6f-c000.snappy.parquet\n",
      "-rw-r--r--   3 dinar.sadykov hdfs       1000 2023-03-12 14:01 /tmp/tmp_02.parquet/part-00000-cf8ba90e-8657-4984-83d4-9b21ca515715-c000.snappy.parquet\n",
      "-rw-r--r--   3 dinar.sadykov hdfs       1000 2023-03-12 14:01 /tmp/tmp_02.parquet/part-00000-d88c7156-7df8-4f4d-8965-2e308082a6c5-c000.snappy.parquet\n",
      "-rw-r--r--   3 dinar.sadykov hdfs       1000 2023-03-12 13:50 /tmp/tmp_02.parquet/part-00000-d906f5dc-d1b5-4875-9a4a-a85f49b15283-c000.snappy.parquet\n",
      "-rw-r--r--   3 dinar.sadykov hdfs       1000 2023-03-12 13:50 /tmp/tmp_02.parquet/part-00000-d9d10e71-ec8c-4042-b414-a4d201bb5a2c-c000.snappy.parquet\n",
      "-rw-r--r--   3 dinar.sadykov hdfs       1000 2023-03-12 13:50 /tmp/tmp_02.parquet/part-00000-db7246ce-e3ce-431c-ab8b-ac392e9383e3-c000.snappy.parquet\n",
      "-rw-r--r--   3 dinar.sadykov hdfs       1000 2023-03-12 14:01 /tmp/tmp_02.parquet/part-00000-dea344b8-63f6-4f8d-b0bd-4d2ca146aba0-c000.snappy.parquet\n",
      "-rw-r--r--   3 dinar.sadykov hdfs       1000 2023-03-12 14:01 /tmp/tmp_02.parquet/part-00000-e23ed337-03e6-449d-b285-2c4c445604f8-c000.snappy.parquet\n",
      "-rw-r--r--   3 dinar.sadykov hdfs       1000 2023-03-12 13:50 /tmp/tmp_02.parquet/part-00000-e945cfc1-9271-4167-8ce4-66c5cae7b3b8-c000.snappy.parquet\n",
      "-rw-r--r--   3 dinar.sadykov hdfs       1000 2023-03-12 13:50 /tmp/tmp_02.parquet/part-00000-ebe7b464-933e-474d-9a2b-1a30407195a5-c000.snappy.parquet\n",
      "-rw-r--r--   3 dinar.sadykov hdfs       1000 2023-03-12 13:50 /tmp/tmp_02.parquet/part-00000-eccc5576-893d-4188-8b71-7cff1ba42c0f-c000.snappy.parquet\n",
      "-rw-r--r--   3 dinar.sadykov hdfs       1000 2023-03-12 14:01 /tmp/tmp_02.parquet/part-00000-ed8a3e74-7424-426d-9aae-a2a909dc8aad-c000.snappy.parquet\n",
      "-rw-r--r--   3 dinar.sadykov hdfs       1000 2023-03-12 13:50 /tmp/tmp_02.parquet/part-00000-eda55d8a-e96c-4852-b78f-ae8c99db27c3-c000.snappy.parquet\n",
      "-rw-r--r--   3 dinar.sadykov hdfs       1000 2023-03-12 13:50 /tmp/tmp_02.parquet/part-00000-f47642f4-23a8-4ab3-9957-8aba5a035151-c000.snappy.parquet\n",
      "-rw-r--r--   3 dinar.sadykov hdfs       1000 2023-03-12 14:01 /tmp/tmp_02.parquet/part-00000-f4cd1609-c86f-4ff9-9d02-c0f05b2d1d98-c000.snappy.parquet\n",
      "-rw-r--r--   3 dinar.sadykov hdfs       1000 2023-03-12 14:01 /tmp/tmp_02.parquet/part-00000-f4d463ca-1cb3-42dd-83b5-0d8feaed60c7-c000.snappy.parquet\n",
      "-rw-r--r--   3 dinar.sadykov hdfs       1000 2023-03-12 13:50 /tmp/tmp_02.parquet/part-00000-f4fc5de7-e5e2-4616-85c3-49d07b3d72e0-c000.snappy.parquet\n",
      "-rw-r--r--   3 dinar.sadykov hdfs       1000 2023-03-12 14:01 /tmp/tmp_02.parquet/part-00000-f5100f1b-bfaf-4f73-b9f0-7f1f2fc77d86-c000.snappy.parquet\n",
      "-rw-r--r--   3 dinar.sadykov hdfs       1000 2023-03-12 14:01 /tmp/tmp_02.parquet/part-00000-f587a2dc-6363-4018-802a-a3c842c80163-c000.snappy.parquet\n",
      "-rw-r--r--   3 dinar.sadykov hdfs        991 2023-03-12 14:01 /tmp/tmp_02.parquet/part-00000-f6c65b90-4a69-4e62-9d83-39ff0431b704-c000.snappy.parquet\n",
      "-rw-r--r--   3 dinar.sadykov hdfs       1000 2023-03-12 14:01 /tmp/tmp_02.parquet/part-00000-f9467057-0993-4c04-aa31-df868033fbdb-c000.snappy.parquet\n",
      "-rw-r--r--   3 dinar.sadykov hdfs       1000 2023-03-12 13:50 /tmp/tmp_02.parquet/part-00000-fcbe206b-74ed-4c1e-91ba-b612641393ba-c000.snappy.parquet\n",
      "-rw-r--r--   3 dinar.sadykov hdfs       1000 2023-03-12 14:01 /tmp/tmp_02.parquet/part-00000-fe87e5cb-00f3-4a3c-a8b3-151e0cf453b0-c000.snappy.parquet\n",
      "-rw-r--r--   3 dinar.sadykov hdfs       1000 2023-03-12 13:50 /tmp/tmp_02.parquet/part-00000-fef0f79a-5240-4a8c-9e54-7d7dd374a129-c000.snappy.parquet\n",
      "-rw-r--r--   3 dinar.sadykov hdfs       5345 2023-03-12 14:01 /tmp/tmp_02.parquet/part-00001-d761dcf5-677f-43e1-b405-d37d56547eb0-c000.snappy.parquet\n",
      "Found 1 items\n",
      "drwxr-xr-x   - dinar.sadykov hdfs          0 2023-03-12 13:50 /tmp/tmp_02.parquet/sources/0\n",
      "\n"
     ]
    }
   ],
   "source": [
    "println(\"hadoop fs -ls /tmp/tmp_02.parquet/*\".!!)"
   ]
  },
  {
   "cell_type": "code",
   "execution_count": null,
   "metadata": {},
   "outputs": [],
   "source": []
  },
  {
   "cell_type": "code",
   "execution_count": 21,
   "metadata": {},
   "outputs": [
    {
     "name": "stdout",
     "output_type": "stream",
     "text": [
      "1\n",
      "root\n",
      " |-- timestamp: timestamp (nullable = true)\n",
      " |-- value: long (nullable = true)\n",
      " |-- ident: string (nullable = true)\n",
      "\n",
      "+-----------------------+-----+-----+\n",
      "|timestamp              |value|ident|\n",
      "+-----------------------+-----+-----+\n",
      "|2023-03-12 14:01:58.601|697  |00AL |\n",
      "+-----------------------+-----+-----+\n",
      "\n"
     ]
    },
    {
     "data": {
      "text/plain": [
       "ident_pq = [timestamp: timestamp, value: bigint ... 1 more field]\n"
      ]
     },
     "metadata": {},
     "output_type": "display_data"
    },
    {
     "data": {
      "text/plain": [
       "[timestamp: timestamp, value: bigint ... 1 more field]"
      ]
     },
     "execution_count": 21,
     "metadata": {},
     "output_type": "execute_result"
    }
   ],
   "source": [
    "val ident_pq = spark.read\n",
    "    .parquet(\"/tmp/tmp_02.parquet/part-00000-01408689-bc5e-44ca-b0e0-31f18bd4d7fe-c000.snappy.parquet\")\n",
    "\n",
    "println(ident_pq.count)\n",
    "ident_pq.printSchema\n",
    "ident_pq.show(5, false)"
   ]
  },
  {
   "cell_type": "code",
   "execution_count": null,
   "metadata": {},
   "outputs": [],
   "source": []
  },
  {
   "cell_type": "markdown",
   "metadata": {},
   "source": [
    "# 6. Работа с Kafka с помощь Static Dataframe"
   ]
  },
  {
   "cell_type": "code",
   "execution_count": 22,
   "metadata": {},
   "outputs": [
    {
     "name": "stdout",
     "output_type": "stream",
     "text": [
      "700\n",
      "root\n",
      " |-- timestamp: timestamp (nullable = true)\n",
      " |-- value: long (nullable = true)\n",
      " |-- ident: string (nullable = true)\n",
      "\n",
      "+-----------------------+-----+-----+\n",
      "|timestamp              |value|ident|\n",
      "+-----------------------+-----+-----+\n",
      "|2023-03-12 13:51:01.601|40   |01NC |\n",
      "|2023-03-12 13:51:03.601|42   |01XA |\n",
      "|2023-03-12 13:51:05.601|44   |00TA |\n",
      "|2023-03-12 13:51:07.601|46   |00VI |\n",
      "|2023-03-12 13:51:09.601|48   |00NY |\n",
      "+-----------------------+-----+-----+\n",
      "only showing top 5 rows\n",
      "\n"
     ]
    },
    {
     "data": {
      "text/plain": [
       "ident_pq = [timestamp: timestamp, value: bigint ... 1 more field]\n"
      ]
     },
     "metadata": {},
     "output_type": "display_data"
    },
    {
     "data": {
      "text/plain": [
       "[timestamp: timestamp, value: bigint ... 1 more field]"
      ]
     },
     "execution_count": 22,
     "metadata": {},
     "output_type": "execute_result"
    }
   ],
   "source": [
    "val ident_pq = spark.read\n",
    "    .parquet(\"/tmp/tmp_02.parquet/\")\n",
    "\n",
    "println(ident_pq.count)\n",
    "ident_pq.printSchema\n",
    "ident_pq.show(5, false)"
   ]
  },
  {
   "cell_type": "code",
   "execution_count": null,
   "metadata": {},
   "outputs": [],
   "source": [
    "// def writeKafka[T](topic: String, data: Dataset[T]): Unit = {\n",
    "//     val kafkaParams = Map(\n",
    "//         \"kafka.bootstrap.servers\" -> \"spark-master-1.newprolab.com:6667\"\n",
    "//     )\n",
    "    \n",
    "//     data\n",
    "//         .toJSON\n",
    "//         .withColumn(\"topic\", lit(topic))\n",
    "//         .write\n",
    "//         .format(\"kafka\")\n",
    "//         .options(kafkaParams)\n",
    "//         .save\n",
    "// }\n",
    "\n",
    "// writeKafka(\"test_topic0\", ident_pq)"
   ]
  },
  {
   "cell_type": "code",
   "execution_count": 25,
   "metadata": {},
   "outputs": [
    {
     "name": "stdout",
     "output_type": "stream",
     "text": [
      "root\n",
      " |-- key: binary (nullable = true)\n",
      " |-- value: binary (nullable = true)\n",
      " |-- topic: string (nullable = true)\n",
      " |-- partition: integer (nullable = true)\n",
      " |-- offset: long (nullable = true)\n",
      " |-- timestamp: timestamp (nullable = true)\n",
      " |-- timestampType: integer (nullable = true)\n",
      "\n",
      "+----+--------------------+-----------+---------+------+--------------------+-------------+\n",
      "| key|               value|      topic|partition|offset|           timestamp|timestampType|\n",
      "+----+--------------------+-----------+---------+------+--------------------+-------------+\n",
      "|null|[7B 22 74 69 6D 6...|test_topic0|        0|   310|2023-03-08 23:48:...|            0|\n",
      "|null|[7B 22 74 69 6D 6...|test_topic0|        0|   311|2023-03-08 23:48:...|            0|\n",
      "|null|[7B 22 74 69 6D 6...|test_topic0|        0|   312|2023-03-08 23:48:...|            0|\n",
      "+----+--------------------+-----------+---------+------+--------------------+-------------+\n",
      "only showing top 3 rows\n",
      "\n"
     ]
    },
    {
     "data": {
      "text/plain": [
       "kafkaParams = Map(kafka.bootstrap.servers -> spark-master-1.newprolab.com:6667, subscribe -> test_topic0)\n",
       "sdf_kafka0 = [key: binary, value: binary ... 5 more fields]\n"
      ]
     },
     "metadata": {},
     "output_type": "display_data"
    },
    {
     "data": {
      "text/plain": [
       "81"
      ]
     },
     "execution_count": 25,
     "metadata": {},
     "output_type": "execute_result"
    }
   ],
   "source": [
    "val kafkaParams = Map(\n",
    "        \"kafka.bootstrap.servers\" -> \"spark-master-1.newprolab.com:6667\",\n",
    "        \"subscribe\" -> \"test_topic0\"\n",
    "    )\n",
    "\n",
    "\n",
    "val sdf_kafka0 = spark.read\n",
    "    .format(\"kafka\")\n",
    "    .options(kafkaParams)\n",
    "    .load\n",
    "\n",
    "sdf_kafka0.printSchema\n",
    "sdf_kafka0.show(3)\n",
    "sdf_kafka0.count"
   ]
  },
  {
   "cell_type": "markdown",
   "metadata": {},
   "source": [
    "Чтение из Kafka имеет несколько особенностей:\n",
    "- по умолчанию читается все содержимое топика. Поскольку обычно в нем много данных, эта операция может создать большую нагрузку на кластер Kafka и Spark приложение\n",
    "- колонки `value` и `key` имеют тип `binary`, который необходимо десереализовать\n",
    "\n",
    "Чтобы прочитать только определенную часть топика, нам необходимо задать минимальный и максимальный оффсет для чтения с помощью параметров `startingOffsets` , `endingOffsets`. Возьмем два случайных события:"
   ]
  },
  {
   "cell_type": "code",
   "execution_count": 27,
   "metadata": {},
   "outputs": [
    {
     "name": "stdout",
     "output_type": "stream",
     "text": [
      "+-----------+---------+------+\n",
      "|      topic|partition|offset|\n",
      "+-----------+---------+------+\n",
      "|test_topic0|        0|   316|\n",
      "|test_topic0|        0|   329|\n",
      "|test_topic0|        0|   340|\n",
      "|test_topic0|        0|   356|\n",
      "|test_topic0|        0|   360|\n",
      "|test_topic0|        0|   366|\n",
      "|test_topic0|        0|   371|\n",
      "|test_topic0|        0|   385|\n",
      "+-----------+---------+------+\n",
      "\n"
     ]
    }
   ],
   "source": [
    "// На основании этих событий подготовим параметры startingOffsets и endingOffsets\n",
    "\n",
    "sdf_kafka0\n",
    "    .sample(0.1)\n",
    "    .limit(10)\n",
    "    .select('topic, 'partition, 'offset)\n",
    "    .show"
   ]
  },
  {
   "cell_type": "code",
   "execution_count": 28,
   "metadata": {},
   "outputs": [
    {
     "name": "stdout",
     "output_type": "stream",
     "text": [
      "root\n",
      " |-- key: binary (nullable = true)\n",
      " |-- value: binary (nullable = true)\n",
      " |-- topic: string (nullable = true)\n",
      " |-- partition: integer (nullable = true)\n",
      " |-- offset: long (nullable = true)\n",
      " |-- timestamp: timestamp (nullable = true)\n",
      " |-- timestampType: integer (nullable = true)\n",
      "\n",
      "+----+--------------------+-----------+---------+------+--------------------+-------------+\n",
      "| key|               value|      topic|partition|offset|           timestamp|timestampType|\n",
      "+----+--------------------+-----------+---------+------+--------------------+-------------+\n",
      "|null|[7B 22 74 69 6D 6...|test_topic0|        0|   316|2023-03-08 23:48:...|            0|\n",
      "|null|[7B 22 74 69 6D 6...|test_topic0|        0|   317| 2023-03-08 23:48:04|            0|\n",
      "|null|[7B 22 74 69 6D 6...|test_topic0|        0|   318| 2023-03-08 23:48:04|            0|\n",
      "|null|[7B 22 74 69 6D 6...|test_topic0|        0|   319| 2023-03-08 23:48:04|            0|\n",
      "|null|[7B 22 74 69 6D 6...|test_topic0|        0|   320|2023-03-08 23:48:...|            0|\n",
      "|null|[7B 22 74 69 6D 6...|test_topic0|        0|   321|2023-03-08 23:48:...|            0|\n",
      "|null|[7B 22 74 69 6D 6...|test_topic0|        0|   322|2023-03-08 23:48:...|            0|\n",
      "|null|[7B 22 74 69 6D 6...|test_topic0|        0|   323|2023-03-08 23:48:...|            0|\n",
      "|null|[7B 22 74 69 6D 6...|test_topic0|        0|   324|2023-03-08 23:48:...|            0|\n",
      "|null|[7B 22 74 69 6D 6...|test_topic0|        0|   325|2023-03-08 23:48:...|            0|\n",
      "|null|[7B 22 74 69 6D 6...|test_topic0|        0|   326|2023-03-08 23:48:...|            0|\n",
      "|null|[7B 22 74 69 6D 6...|test_topic0|        0|   327|2023-03-08 23:48:...|            0|\n",
      "|null|[7B 22 74 69 6D 6...|test_topic0|        0|   328|2023-03-08 23:48:...|            0|\n",
      "|null|[7B 22 74 69 6D 6...|test_topic0|        0|   329|2023-03-08 23:48:...|            0|\n",
      "|null|[7B 22 74 69 6D 6...|test_topic0|        0|   330|2023-03-08 23:48:...|            0|\n",
      "|null|[7B 22 74 69 6D 6...|test_topic0|        0|   331|2023-03-08 23:48:...|            0|\n",
      "|null|[7B 22 74 69 6D 6...|test_topic0|        0|   332|2023-03-08 23:48:...|            0|\n",
      "|null|[7B 22 74 69 6D 6...|test_topic0|        0|   333|2023-03-08 23:48:...|            0|\n",
      "|null|[7B 22 74 69 6D 6...|test_topic0|        0|   334|2023-03-08 23:48:...|            0|\n",
      "|null|[7B 22 74 69 6D 6...|test_topic0|        0|   335|2023-03-08 23:48:...|            0|\n",
      "+----+--------------------+-----------+---------+------+--------------------+-------------+\n",
      "only showing top 20 rows\n",
      "\n"
     ]
    },
    {
     "data": {
      "text/plain": [
       "kafkaParams = Map(kafka.bootstrap.servers -> spark-master-1.newprolab.com:6667, subscribe -> test_topic0, startingOffsets -> \" { \"test_topic0\": { \"0\": 316 } } \", endingOffsets -> \" { \"test_topic0\": { \"0\": 385 } }  \")\n",
       "sdf_kafka1 = [key: binary, value: binary ... 5 more fields]\n"
      ]
     },
     "metadata": {},
     "output_type": "display_data"
    },
    {
     "data": {
      "text/plain": [
       "[key: binary, value: binary ... 5 more fields]"
      ]
     },
     "execution_count": 28,
     "metadata": {},
     "output_type": "execute_result"
    }
   ],
   "source": [
    "val kafkaParams = Map(\n",
    "        \"kafka.bootstrap.servers\" -> \"spark-master-1.newprolab.com:6667\",\n",
    "        \"subscribe\" -> \"test_topic0\",\n",
    "        \"startingOffsets\" -> \"\"\" { \"test_topic0\": { \"0\": 316 } } \"\"\",\n",
    "        \"endingOffsets\" -> \"\"\" { \"test_topic0\": { \"0\": 385 } }  \"\"\"//,\n",
    "        //\"failOnDataLoss\" -> \"false\"\n",
    "    )\n",
    "\n",
    "\n",
    "val sdf_kafka1 = spark\n",
    "    .read\n",
    "    .format(\"kafka\")\n",
    "    .options(kafkaParams)\n",
    "    .load\n",
    "\n",
    "sdf_kafka1.printSchema\n",
    "sdf_kafka1.show(20)"
   ]
  },
  {
   "cell_type": "markdown",
   "metadata": {},
   "source": [
    "По умолчанию параметр `startingOffsets` имеет значение `earliest`, а `endingOffsets` - `latest`. Поэтому, когда мы не указывали эти параметры, Spark прочитал содержимое всего топика\n",
    "\n",
    "Чтобы получить наши данные, которые мы записали в топик, нам необходимо их десереализовать. В нашем случае достаточно использовать `.cast(\"string\")`, однако это работает не всегда, т.к. формат данных может быть произвольным."
   ]
  },
  {
   "cell_type": "code",
   "execution_count": 30,
   "metadata": {},
   "outputs": [
    {
     "name": "stdout",
     "output_type": "stream",
     "text": [
      "+-----------------------------------------------------------------------+\n",
      "|value                                                                  |\n",
      "+-----------------------------------------------------------------------+\n",
      "|{\"timestamp\":\"2022-10-31T19:53:49.336+03:00\",\"value\":11,\"ident\":\"02II\"}|\n",
      "|{\"timestamp\":\"2022-10-31T19:53:51.336+03:00\",\"value\":13,\"ident\":\"01IA\"}|\n",
      "|{\"timestamp\":\"2022-10-31T19:53:53.336+03:00\",\"value\":15,\"ident\":\"00S\"} |\n",
      "+-----------------------------------------------------------------------+\n",
      "only showing top 3 rows\n",
      "\n",
      "root\n",
      " |-- ident: string (nullable = true)\n",
      " |-- timestamp: string (nullable = true)\n",
      " |-- value: long (nullable = true)\n",
      "\n",
      "+-----+-----------------------------+-----+\n",
      "|ident|timestamp                    |value|\n",
      "+-----+-----------------------------+-----+\n",
      "|02II |2022-10-31T19:53:49.336+03:00|11   |\n",
      "|01IA |2022-10-31T19:53:51.336+03:00|13   |\n",
      "|00S  |2022-10-31T19:53:53.336+03:00|15   |\n",
      "+-----+-----------------------------+-----+\n",
      "only showing top 3 rows\n",
      "\n"
     ]
    },
    {
     "data": {
      "text/plain": [
       "sdf_kafka1_json = [value: string]\n",
       "sdf_kafka1_json_parsed = [ident: string, timestamp: string ... 1 more field]\n"
      ]
     },
     "metadata": {},
     "output_type": "display_data"
    },
    {
     "data": {
      "text/plain": [
       "[ident: string, timestamp: string ... 1 more field]"
      ]
     },
     "execution_count": 30,
     "metadata": {},
     "output_type": "execute_result"
    }
   ],
   "source": [
    "val sdf_kafka1_json = sdf_kafka1\n",
    "    .select('value.cast(\"string\"))\n",
    "    .as[String]\n",
    "\n",
    "sdf_kafka1_json.show(3, false)\n",
    "\n",
    "val sdf_kafka1_json_parsed = spark.read\n",
    "    .json(sdf_kafka1_json)\n",
    "\n",
    "sdf_kafka1_json_parsed.printSchema\n",
    "sdf_kafka1_json_parsed.show(3, false)"
   ]
  },
  {
   "cell_type": "code",
   "execution_count": null,
   "metadata": {},
   "outputs": [],
   "source": []
  },
  {
   "cell_type": "markdown",
   "metadata": {},
   "source": [
    "# 7. Работа с Kafka с помощью Streaming DF"
   ]
  },
  {
   "cell_type": "markdown",
   "metadata": {},
   "source": [
    "При создании SDF из Kafka необходимо помнить, что:\n",
    "- `startingOffsets` по умолчанию имеет значение `latest`\n",
    "- `endingOffsets` использовать нельзя\n",
    "- количество сообщений за батч можно (и нужно) ограничить параметром `maxOffsetPerTrigger` (по умолчанию он не задан и первый батч будет содержать данные всего топика"
   ]
  },
  {
   "cell_type": "code",
   "execution_count": 34,
   "metadata": {
    "scrolled": true
   },
   "outputs": [
    {
     "data": {
      "text/plain": [
       "kafkaParams = Map(kafka.bootstrap.servers -> spark-master-1.newprolab.com:6667, subscribe -> test_topic0, startingOffsets -> earliest, maxOffsetsPerTrigger -> 2)\n",
       "sdf_kafka2 = [key: binary, value: binary ... 5 more fields]\n",
       "sdf_kafka2_parsed = [value: string, topic: string ... 2 more fields]\n",
       "sdf_kafka2_sink = org.apache.spark.sql.streaming.DataStreamWriter@52fe6256\n",
       "sdf_kafka2_sq = org.apache.spark.sql.execution.streaming.StreamingQueryWrapper@20d8d7d5\n"
      ]
     },
     "metadata": {},
     "output_type": "display_data"
    },
    {
     "data": {
      "text/plain": [
       "org.apache.spark.sql.execution.streaming.StreamingQueryWrapper@20d8d7d5"
      ]
     },
     "execution_count": 34,
     "metadata": {},
     "output_type": "execute_result"
    },
    {
     "name": "stdout",
     "output_type": "stream",
     "text": [
      "-------------------------------------------\n",
      "Batch: 0\n",
      "-------------------------------------------\n",
      "+----------------------------------------------------------------------+-----------+---------+------+\n",
      "|value                                                                 |topic      |partition|offset|\n",
      "+----------------------------------------------------------------------+-----------+---------+------+\n",
      "|{\"timestamp\":\"2022-10-31T19:53:38.336+03:00\",\"value\":0,\"ident\":\"00KS\"}|test_topic0|0        |310   |\n",
      "|{\"timestamp\":\"2022-10-31T19:53:40.336+03:00\",\"value\":2,\"ident\":\"00MO\"}|test_topic0|0        |311   |\n",
      "+----------------------------------------------------------------------+-----------+---------+------+\n",
      "\n",
      "-------------------------------------------\n",
      "Batch: 1\n",
      "-------------------------------------------\n",
      "+----------------------------------------------------------------------+-----------+---------+------+\n",
      "|value                                                                 |topic      |partition|offset|\n",
      "+----------------------------------------------------------------------+-----------+---------+------+\n",
      "|{\"timestamp\":\"2022-10-31T19:53:42.336+03:00\",\"value\":4,\"ident\":\"01K\"} |test_topic0|0        |312   |\n",
      "|{\"timestamp\":\"2022-10-31T19:53:44.336+03:00\",\"value\":6,\"ident\":\"00AS\"}|test_topic0|0        |313   |\n",
      "+----------------------------------------------------------------------+-----------+---------+------+\n",
      "\n",
      "-------------------------------------------\n",
      "Batch: 2\n",
      "-------------------------------------------\n",
      "+-----------------------------------------------------------------------+-----------+---------+------+\n",
      "|value                                                                  |topic      |partition|offset|\n",
      "+-----------------------------------------------------------------------+-----------+---------+------+\n",
      "|{\"timestamp\":\"2022-10-31T19:53:46.336+03:00\",\"value\":8,\"ident\":\"01ID\"} |test_topic0|0        |314   |\n",
      "|{\"timestamp\":\"2022-10-31T19:53:48.336+03:00\",\"value\":10,\"ident\":\"00II\"}|test_topic0|0        |315   |\n",
      "+-----------------------------------------------------------------------+-----------+---------+------+\n",
      "\n",
      "-------------------------------------------\n",
      "Batch: 3\n",
      "-------------------------------------------\n",
      "+-----------------------------------------------------------------------+-----------+---------+------+\n",
      "|value                                                                  |topic      |partition|offset|\n",
      "+-----------------------------------------------------------------------+-----------+---------+------+\n",
      "|{\"timestamp\":\"2022-10-31T19:53:49.336+03:00\",\"value\":11,\"ident\":\"02II\"}|test_topic0|0        |316   |\n",
      "|{\"timestamp\":\"2022-10-31T19:53:51.336+03:00\",\"value\":13,\"ident\":\"01IA\"}|test_topic0|0        |317   |\n",
      "+-----------------------------------------------------------------------+-----------+---------+------+\n",
      "\n",
      "-------------------------------------------\n",
      "Batch: 4\n",
      "-------------------------------------------\n",
      "+-----------------------------------------------------------------------+-----------+---------+------+\n",
      "|value                                                                  |topic      |partition|offset|\n",
      "+-----------------------------------------------------------------------+-----------+---------+------+\n",
      "|{\"timestamp\":\"2022-10-31T19:53:53.336+03:00\",\"value\":15,\"ident\":\"00S\"} |test_topic0|0        |318   |\n",
      "|{\"timestamp\":\"2022-10-31T19:53:55.336+03:00\",\"value\":17,\"ident\":\"02KT\"}|test_topic0|0        |319   |\n",
      "+-----------------------------------------------------------------------+-----------+---------+------+\n",
      "\n",
      "-------------------------------------------\n",
      "Batch: 5\n",
      "-------------------------------------------\n",
      "+-----------------------------------------------------------------------+-----------+---------+------+\n",
      "|value                                                                  |topic      |partition|offset|\n",
      "+-----------------------------------------------------------------------+-----------+---------+------+\n",
      "|{\"timestamp\":\"2022-10-31T19:53:57.336+03:00\",\"value\":19,\"ident\":\"00OK\"}|test_topic0|0        |320   |\n",
      "|{\"timestamp\":\"2022-10-31T19:53:59.336+03:00\",\"value\":21,\"ident\":\"00OI\"}|test_topic0|0        |321   |\n",
      "+-----------------------------------------------------------------------+-----------+---------+------+\n",
      "\n",
      "-------------------------------------------\n",
      "Batch: 6\n",
      "-------------------------------------------\n",
      "+-----------------------------------------------------------------------+-----------+---------+------+\n",
      "|value                                                                  |topic      |partition|offset|\n",
      "+-----------------------------------------------------------------------+-----------+---------+------+\n",
      "|{\"timestamp\":\"2022-10-31T19:54:01.336+03:00\",\"value\":23,\"ident\":\"01CA\"}|test_topic0|0        |322   |\n",
      "|{\"timestamp\":\"2022-10-31T19:54:03.336+03:00\",\"value\":25,\"ident\":\"00IS\"}|test_topic0|0        |323   |\n",
      "+-----------------------------------------------------------------------+-----------+---------+------+\n",
      "\n",
      "-------------------------------------------\n",
      "Batch: 7\n",
      "-------------------------------------------\n",
      "+-----------------------------------------------------------------------+-----------+---------+------+\n",
      "|value                                                                  |topic      |partition|offset|\n",
      "+-----------------------------------------------------------------------+-----------+---------+------+\n",
      "|{\"timestamp\":\"2022-10-31T19:54:05.336+03:00\",\"value\":27,\"ident\":\"01U\"} |test_topic0|0        |324   |\n",
      "|{\"timestamp\":\"2022-10-31T19:54:07.336+03:00\",\"value\":29,\"ident\":\"01WY\"}|test_topic0|0        |325   |\n",
      "+-----------------------------------------------------------------------+-----------+---------+------+\n",
      "\n",
      "-------------------------------------------\n",
      "Batch: 8\n",
      "-------------------------------------------\n",
      "+----------------------------------------------------------------------+-----------+---------+------+\n",
      "|value                                                                 |topic      |partition|offset|\n",
      "+----------------------------------------------------------------------+-----------+---------+------+\n",
      "|{\"timestamp\":\"2022-10-31T19:53:39.336+03:00\",\"value\":1,\"ident\":\"01IA\"}|test_topic0|0        |326   |\n",
      "|{\"timestamp\":\"2022-10-31T19:53:41.336+03:00\",\"value\":3,\"ident\":\"01C\"} |test_topic0|0        |327   |\n",
      "+----------------------------------------------------------------------+-----------+---------+------+\n",
      "\n",
      "-------------------------------------------\n",
      "Batch: 9\n",
      "-------------------------------------------\n",
      "+----------------------------------------------------------------------+-----------+---------+------+\n",
      "|value                                                                 |topic      |partition|offset|\n",
      "+----------------------------------------------------------------------+-----------+---------+------+\n",
      "|{\"timestamp\":\"2022-10-31T19:53:43.336+03:00\",\"value\":5,\"ident\":\"02HI\"}|test_topic0|0        |328   |\n",
      "|{\"timestamp\":\"2022-10-31T19:53:45.336+03:00\",\"value\":7,\"ident\":\"00VI\"}|test_topic0|0        |329   |\n",
      "+----------------------------------------------------------------------+-----------+---------+------+\n",
      "\n",
      "-------------------------------------------\n",
      "Batch: 10\n",
      "-------------------------------------------\n",
      "+-----------------------------------------------------------------------+-----------+---------+------+\n",
      "|value                                                                  |topic      |partition|offset|\n",
      "+-----------------------------------------------------------------------+-----------+---------+------+\n",
      "|{\"timestamp\":\"2022-10-31T19:53:47.336+03:00\",\"value\":9,\"ident\":\"03CA\"} |test_topic0|0        |330   |\n",
      "|{\"timestamp\":\"2022-10-31T19:54:19.336+03:00\",\"value\":41,\"ident\":\"01WN\"}|test_topic0|0        |331   |\n",
      "+-----------------------------------------------------------------------+-----------+---------+------+\n",
      "\n",
      "-------------------------------------------\n",
      "Batch: 11\n",
      "-------------------------------------------\n",
      "+-----------------------------------------------------------------------+-----------+---------+------+\n",
      "|value                                                                  |topic      |partition|offset|\n",
      "+-----------------------------------------------------------------------+-----------+---------+------+\n",
      "|{\"timestamp\":\"2022-10-31T19:54:21.336+03:00\",\"value\":43,\"ident\":\"00AZ\"}|test_topic0|0        |332   |\n",
      "|{\"timestamp\":\"2022-10-31T19:54:23.336+03:00\",\"value\":45,\"ident\":\"02MO\"}|test_topic0|0        |333   |\n",
      "+-----------------------------------------------------------------------+-----------+---------+------+\n",
      "\n"
     ]
    },
    {
     "name": "stdout",
     "output_type": "stream",
     "text": [
      "-------------------------------------------\n",
      "Batch: 12\n",
      "-------------------------------------------\n",
      "+-----------------------------------------------------------------------+-----------+---------+------+\n",
      "|value                                                                  |topic      |partition|offset|\n",
      "+-----------------------------------------------------------------------+-----------+---------+------+\n",
      "|{\"timestamp\":\"2022-10-31T19:54:25.336+03:00\",\"value\":47,\"ident\":\"02OH\"}|test_topic0|0        |334   |\n",
      "|{\"timestamp\":\"2022-10-31T19:54:27.336+03:00\",\"value\":49,\"ident\":\"00IG\"}|test_topic0|0        |335   |\n",
      "+-----------------------------------------------------------------------+-----------+---------+------+\n",
      "\n",
      "-------------------------------------------\n",
      "Batch: 13\n",
      "-------------------------------------------\n",
      "+-----------------------------------------------------------------------+-----------+---------+------+\n",
      "|value                                                                  |topic      |partition|offset|\n",
      "+-----------------------------------------------------------------------+-----------+---------+------+\n",
      "|{\"timestamp\":\"2022-10-31T19:54:20.336+03:00\",\"value\":42,\"ident\":\"02MI\"}|test_topic0|0        |336   |\n",
      "|{\"timestamp\":\"2022-10-31T19:54:22.336+03:00\",\"value\":44,\"ident\":\"00PS\"}|test_topic0|0        |337   |\n",
      "+-----------------------------------------------------------------------+-----------+---------+------+\n",
      "\n",
      "-------------------------------------------\n",
      "Batch: 14\n",
      "-------------------------------------------\n",
      "+-----------------------------------------------------------------------+-----------+---------+------+\n",
      "|value                                                                  |topic      |partition|offset|\n",
      "+-----------------------------------------------------------------------+-----------+---------+------+\n",
      "|{\"timestamp\":\"2022-10-31T19:54:24.336+03:00\",\"value\":46,\"ident\":\"02PA\"}|test_topic0|0        |338   |\n",
      "|{\"timestamp\":\"2022-10-31T19:54:26.336+03:00\",\"value\":48,\"ident\":\"00II\"}|test_topic0|0        |339   |\n",
      "+-----------------------------------------------------------------------+-----------+---------+------+\n",
      "\n",
      "-------------------------------------------\n",
      "Batch: 15\n",
      "-------------------------------------------\n",
      "+-----------------------------------------------------------------------+-----------+---------+------+\n",
      "|value                                                                  |topic      |partition|offset|\n",
      "+-----------------------------------------------------------------------+-----------+---------+------+\n",
      "|{\"timestamp\":\"2022-10-31T19:54:28.336+03:00\",\"value\":50,\"ident\":\"01UT\"}|test_topic0|0        |340   |\n",
      "|{\"timestamp\":\"2022-10-31T19:54:30.336+03:00\",\"value\":52,\"ident\":\"02TS\"}|test_topic0|0        |341   |\n",
      "+-----------------------------------------------------------------------+-----------+---------+------+\n",
      "\n",
      "-------------------------------------------\n",
      "Batch: 16\n",
      "-------------------------------------------\n",
      "+-----------------------------------------------------------------------+-----------+---------+------+\n",
      "|value                                                                  |topic      |partition|offset|\n",
      "+-----------------------------------------------------------------------+-----------+---------+------+\n",
      "|{\"timestamp\":\"2022-10-31T19:54:32.336+03:00\",\"value\":54,\"ident\":\"01MD\"}|test_topic0|0        |342   |\n",
      "|{\"timestamp\":\"2022-10-31T19:54:34.336+03:00\",\"value\":56,\"ident\":\"02OK\"}|test_topic0|0        |343   |\n",
      "+-----------------------------------------------------------------------+-----------+---------+------+\n",
      "\n"
     ]
    }
   ],
   "source": [
    "val kafkaParams = Map(\n",
    "        \"kafka.bootstrap.servers\" -> \"spark-master-1.newprolab.com:6667\",\n",
    "        \"subscribe\" -> \"test_topic0\",\n",
    "        \"startingOffsets\" -> \"\"\"earliest\"\"\",\n",
    "        \"maxOffsetsPerTrigger\" -> \"2\"\n",
    "    )\n",
    "\n",
    "val sdf_kafka2 = spark\n",
    "    .readStream // <- TOBE, AS IS = .read\n",
    "    .format(\"kafka\")\n",
    "    .options(kafkaParams)\n",
    "    .load\n",
    "\n",
    "val sdf_kafka2_parsed = sdf_kafka2\n",
    "    .select('value.cast(\"string\")\n",
    "            , 'topic\n",
    "            , 'partition\n",
    "            , 'offset)\n",
    "\n",
    "val sdf_kafka2_sink = createConsoleSink(sdf_kafka2_parsed)\n",
    "\n",
    "val sdf_kafka2_sq = sdf_kafka2_sink.start"
   ]
  },
  {
   "cell_type": "markdown",
   "metadata": {},
   "source": [
    "Если мы перезапустим этот стрим, он повторно прочитает все данные. Чтобы обеспечить сохранение состояния стрима после обработки каждого батча, нам необходимо добавить параметр `checkpointLocation` в опции `writeStream`:"
   ]
  },
  {
   "cell_type": "code",
   "execution_count": 35,
   "metadata": {},
   "outputs": [
    {
     "data": {
      "text/plain": [
       "createConsoleSinkWithCheckpoint: (chkName: String, df: org.apache.spark.sql.DataFrame)org.apache.spark.sql.streaming.DataStreamWriter[org.apache.spark.sql.Row]\n"
      ]
     },
     "metadata": {},
     "output_type": "display_data"
    }
   ],
   "source": [
    "def createConsoleSinkWithCheckpoint(chkName: String, df: DataFrame) = {\n",
    "    df\n",
    "    .writeStream\n",
    "    .format(\"console\")\n",
    "    .trigger(Trigger.ProcessingTime(\"10 seconds\"))\n",
    "    .option(\"checkpointLocation\", s\"/tmp/$chkName\")\n",
    "    .option(\"truncate\", \"false\")\n",
    "    .option(\"numRows\", \"20\")\n",
    "}"
   ]
  },
  {
   "cell_type": "code",
   "execution_count": 36,
   "metadata": {
    "scrolled": true
   },
   "outputs": [
    {
     "data": {
      "text/plain": [
       "sdf_kafka2_sink_2 = org.apache.spark.sql.streaming.DataStreamWriter@2eba5948\n",
       "sdf_kafka2_sq_2 = org.apache.spark.sql.execution.streaming.StreamingQueryWrapper@3ed3a585\n"
      ]
     },
     "metadata": {},
     "output_type": "display_data"
    },
    {
     "data": {
      "text/plain": [
       "org.apache.spark.sql.execution.streaming.StreamingQueryWrapper@3ed3a585"
      ]
     },
     "execution_count": 36,
     "metadata": {},
     "output_type": "execute_result"
    },
    {
     "name": "stdout",
     "output_type": "stream",
     "text": [
      "-------------------------------------------\n",
      "Batch: 0\n",
      "-------------------------------------------\n",
      "+----------------------------------------------------------------------+-----------+---------+------+\n",
      "|value                                                                 |topic      |partition|offset|\n",
      "+----------------------------------------------------------------------+-----------+---------+------+\n",
      "|{\"timestamp\":\"2022-10-31T19:53:38.336+03:00\",\"value\":0,\"ident\":\"00KS\"}|test_topic0|0        |310   |\n",
      "|{\"timestamp\":\"2022-10-31T19:53:40.336+03:00\",\"value\":2,\"ident\":\"00MO\"}|test_topic0|0        |311   |\n",
      "+----------------------------------------------------------------------+-----------+---------+------+\n",
      "\n",
      "-------------------------------------------\n",
      "Batch: 1\n",
      "-------------------------------------------\n",
      "+----------------------------------------------------------------------+-----------+---------+------+\n",
      "|value                                                                 |topic      |partition|offset|\n",
      "+----------------------------------------------------------------------+-----------+---------+------+\n",
      "|{\"timestamp\":\"2022-10-31T19:53:42.336+03:00\",\"value\":4,\"ident\":\"01K\"} |test_topic0|0        |312   |\n",
      "|{\"timestamp\":\"2022-10-31T19:53:44.336+03:00\",\"value\":6,\"ident\":\"00AS\"}|test_topic0|0        |313   |\n",
      "+----------------------------------------------------------------------+-----------+---------+------+\n",
      "\n",
      "-------------------------------------------\n",
      "Batch: 2\n",
      "-------------------------------------------\n",
      "+-----------------------------------------------------------------------+-----------+---------+------+\n",
      "|value                                                                  |topic      |partition|offset|\n",
      "+-----------------------------------------------------------------------+-----------+---------+------+\n",
      "|{\"timestamp\":\"2022-10-31T19:53:46.336+03:00\",\"value\":8,\"ident\":\"01ID\"} |test_topic0|0        |314   |\n",
      "|{\"timestamp\":\"2022-10-31T19:53:48.336+03:00\",\"value\":10,\"ident\":\"00II\"}|test_topic0|0        |315   |\n",
      "+-----------------------------------------------------------------------+-----------+---------+------+\n",
      "\n",
      "-------------------------------------------\n",
      "Batch: 3\n",
      "-------------------------------------------\n",
      "+-----------------------------------------------------------------------+-----------+---------+------+\n",
      "|value                                                                  |topic      |partition|offset|\n",
      "+-----------------------------------------------------------------------+-----------+---------+------+\n",
      "|{\"timestamp\":\"2022-10-31T19:53:49.336+03:00\",\"value\":11,\"ident\":\"02II\"}|test_topic0|0        |316   |\n",
      "|{\"timestamp\":\"2022-10-31T19:53:51.336+03:00\",\"value\":13,\"ident\":\"01IA\"}|test_topic0|0        |317   |\n",
      "+-----------------------------------------------------------------------+-----------+---------+------+\n",
      "\n",
      "-------------------------------------------\n",
      "Batch: 4\n",
      "-------------------------------------------\n",
      "+-----------------------------------------------------------------------+-----------+---------+------+\n",
      "|value                                                                  |topic      |partition|offset|\n",
      "+-----------------------------------------------------------------------+-----------+---------+------+\n",
      "|{\"timestamp\":\"2022-10-31T19:53:53.336+03:00\",\"value\":15,\"ident\":\"00S\"} |test_topic0|0        |318   |\n",
      "|{\"timestamp\":\"2022-10-31T19:53:55.336+03:00\",\"value\":17,\"ident\":\"02KT\"}|test_topic0|0        |319   |\n",
      "+-----------------------------------------------------------------------+-----------+---------+------+\n",
      "\n",
      "-------------------------------------------\n",
      "Batch: 5\n",
      "-------------------------------------------\n",
      "+-----------------------------------------------------------------------+-----------+---------+------+\n",
      "|value                                                                  |topic      |partition|offset|\n",
      "+-----------------------------------------------------------------------+-----------+---------+------+\n",
      "|{\"timestamp\":\"2022-10-31T19:53:57.336+03:00\",\"value\":19,\"ident\":\"00OK\"}|test_topic0|0        |320   |\n",
      "|{\"timestamp\":\"2022-10-31T19:53:59.336+03:00\",\"value\":21,\"ident\":\"00OI\"}|test_topic0|0        |321   |\n",
      "+-----------------------------------------------------------------------+-----------+---------+------+\n",
      "\n",
      "-------------------------------------------\n",
      "Batch: 6\n",
      "-------------------------------------------\n",
      "+-----------------------------------------------------------------------+-----------+---------+------+\n",
      "|value                                                                  |topic      |partition|offset|\n",
      "+-----------------------------------------------------------------------+-----------+---------+------+\n",
      "|{\"timestamp\":\"2022-10-31T19:54:01.336+03:00\",\"value\":23,\"ident\":\"01CA\"}|test_topic0|0        |322   |\n",
      "|{\"timestamp\":\"2022-10-31T19:54:03.336+03:00\",\"value\":25,\"ident\":\"00IS\"}|test_topic0|0        |323   |\n",
      "+-----------------------------------------------------------------------+-----------+---------+------+\n",
      "\n",
      "-------------------------------------------\n",
      "Batch: 7\n",
      "-------------------------------------------\n",
      "+-----------------------------------------------------------------------+-----------+---------+------+\n",
      "|value                                                                  |topic      |partition|offset|\n",
      "+-----------------------------------------------------------------------+-----------+---------+------+\n",
      "|{\"timestamp\":\"2022-10-31T19:54:05.336+03:00\",\"value\":27,\"ident\":\"01U\"} |test_topic0|0        |324   |\n",
      "|{\"timestamp\":\"2022-10-31T19:54:07.336+03:00\",\"value\":29,\"ident\":\"01WY\"}|test_topic0|0        |325   |\n",
      "+-----------------------------------------------------------------------+-----------+---------+------+\n",
      "\n",
      "-------------------------------------------\n",
      "Batch: 8\n",
      "-------------------------------------------\n",
      "+----------------------------------------------------------------------+-----------+---------+------+\n",
      "|value                                                                 |topic      |partition|offset|\n",
      "+----------------------------------------------------------------------+-----------+---------+------+\n",
      "|{\"timestamp\":\"2022-10-31T19:53:39.336+03:00\",\"value\":1,\"ident\":\"01IA\"}|test_topic0|0        |326   |\n",
      "|{\"timestamp\":\"2022-10-31T19:53:41.336+03:00\",\"value\":3,\"ident\":\"01C\"} |test_topic0|0        |327   |\n",
      "+----------------------------------------------------------------------+-----------+---------+------+\n",
      "\n",
      "-------------------------------------------\n",
      "Batch: 9\n",
      "-------------------------------------------\n",
      "+----------------------------------------------------------------------+-----------+---------+------+\n",
      "|value                                                                 |topic      |partition|offset|\n",
      "+----------------------------------------------------------------------+-----------+---------+------+\n",
      "|{\"timestamp\":\"2022-10-31T19:53:43.336+03:00\",\"value\":5,\"ident\":\"02HI\"}|test_topic0|0        |328   |\n",
      "|{\"timestamp\":\"2022-10-31T19:53:45.336+03:00\",\"value\":7,\"ident\":\"00VI\"}|test_topic0|0        |329   |\n",
      "+----------------------------------------------------------------------+-----------+---------+------+\n",
      "\n",
      "-------------------------------------------\n",
      "Batch: 10\n",
      "-------------------------------------------\n",
      "+-----------------------------------------------------------------------+-----------+---------+------+\n",
      "|value                                                                  |topic      |partition|offset|\n",
      "+-----------------------------------------------------------------------+-----------+---------+------+\n",
      "|{\"timestamp\":\"2022-10-31T19:53:47.336+03:00\",\"value\":9,\"ident\":\"03CA\"} |test_topic0|0        |330   |\n",
      "|{\"timestamp\":\"2022-10-31T19:54:19.336+03:00\",\"value\":41,\"ident\":\"01WN\"}|test_topic0|0        |331   |\n",
      "+-----------------------------------------------------------------------+-----------+---------+------+\n",
      "\n",
      "-------------------------------------------\n",
      "Batch: 11\n",
      "-------------------------------------------\n",
      "+-----------------------------------------------------------------------+-----------+---------+------+\n",
      "|value                                                                  |topic      |partition|offset|\n",
      "+-----------------------------------------------------------------------+-----------+---------+------+\n",
      "|{\"timestamp\":\"2022-10-31T19:54:21.336+03:00\",\"value\":43,\"ident\":\"00AZ\"}|test_topic0|0        |332   |\n",
      "|{\"timestamp\":\"2022-10-31T19:54:23.336+03:00\",\"value\":45,\"ident\":\"02MO\"}|test_topic0|0        |333   |\n",
      "+-----------------------------------------------------------------------+-----------+---------+------+\n",
      "\n"
     ]
    },
    {
     "name": "stdout",
     "output_type": "stream",
     "text": [
      "-------------------------------------------\n",
      "Batch: 12\n",
      "-------------------------------------------\n",
      "+-----------------------------------------------------------------------+-----------+---------+------+\n",
      "|value                                                                  |topic      |partition|offset|\n",
      "+-----------------------------------------------------------------------+-----------+---------+------+\n",
      "|{\"timestamp\":\"2022-10-31T19:54:25.336+03:00\",\"value\":47,\"ident\":\"02OH\"}|test_topic0|0        |334   |\n",
      "|{\"timestamp\":\"2022-10-31T19:54:27.336+03:00\",\"value\":49,\"ident\":\"00IG\"}|test_topic0|0        |335   |\n",
      "+-----------------------------------------------------------------------+-----------+---------+------+\n",
      "\n",
      "-------------------------------------------\n",
      "Batch: 13\n",
      "-------------------------------------------\n",
      "+-----------------------------------------------------------------------+-----------+---------+------+\n",
      "|value                                                                  |topic      |partition|offset|\n",
      "+-----------------------------------------------------------------------+-----------+---------+------+\n",
      "|{\"timestamp\":\"2022-10-31T19:54:20.336+03:00\",\"value\":42,\"ident\":\"02MI\"}|test_topic0|0        |336   |\n",
      "|{\"timestamp\":\"2022-10-31T19:54:22.336+03:00\",\"value\":44,\"ident\":\"00PS\"}|test_topic0|0        |337   |\n",
      "+-----------------------------------------------------------------------+-----------+---------+------+\n",
      "\n",
      "-------------------------------------------\n",
      "Batch: 14\n",
      "-------------------------------------------\n",
      "+-----------------------------------------------------------------------+-----------+---------+------+\n",
      "|value                                                                  |topic      |partition|offset|\n",
      "+-----------------------------------------------------------------------+-----------+---------+------+\n",
      "|{\"timestamp\":\"2022-10-31T19:54:24.336+03:00\",\"value\":46,\"ident\":\"02PA\"}|test_topic0|0        |338   |\n",
      "|{\"timestamp\":\"2022-10-31T19:54:26.336+03:00\",\"value\":48,\"ident\":\"00II\"}|test_topic0|0        |339   |\n",
      "+-----------------------------------------------------------------------+-----------+---------+------+\n",
      "\n"
     ]
    }
   ],
   "source": [
    "val sdf_kafka2_sink_2 = createConsoleSinkWithCheckpoint(\"tmp_03\", sdf_kafka2_parsed)\n",
    "val sdf_kafka2_sq_2 = sdf_kafka2_sink_2.start"
   ]
  },
  {
   "cell_type": "code",
   "execution_count": 37,
   "metadata": {},
   "outputs": [
    {
     "name": "stdout",
     "output_type": "stream",
     "text": [
      "Stopped KafkaV2[Subscribe[test_topic0]]\n",
      "Stopped KafkaV2[Subscribe[test_topic0]]\n"
     ]
    }
   ],
   "source": [
    "killAll"
   ]
  },
  {
   "cell_type": "code",
   "execution_count": 38,
   "metadata": {},
   "outputs": [
    {
     "name": "stdout",
     "output_type": "stream",
     "text": [
      "Found 4 items\n",
      "drwxr-xr-x   - dinar.sadykov hdfs          0 2023-03-12 14:21 /tmp/tmp_03/commits\n",
      "-rw-r--r--   3 dinar.sadykov hdfs         45 2023-03-12 14:18 /tmp/tmp_03/metadata\n",
      "drwxr-xr-x   - dinar.sadykov hdfs          0 2023-03-12 14:21 /tmp/tmp_03/offsets\n",
      "drwxr-xr-x   - dinar.sadykov hdfs          0 2023-03-12 14:18 /tmp/tmp_03/sources\n",
      "\n"
     ]
    }
   ],
   "source": [
    "println(\"hadoop fs -ls /tmp/tmp_03/\".!!)"
   ]
  },
  {
   "cell_type": "code",
   "execution_count": 39,
   "metadata": {},
   "outputs": [
    {
     "name": "stdout",
     "output_type": "stream",
     "text": [
      "Found 15 items\n",
      "-rw-r--r--   3 dinar.sadykov hdfs        432 2023-03-12 14:18 /tmp/tmp_03/offsets/0\n",
      "-rw-r--r--   3 dinar.sadykov hdfs        432 2023-03-12 14:18 /tmp/tmp_03/offsets/1\n",
      "-rw-r--r--   3 dinar.sadykov hdfs        432 2023-03-12 14:20 /tmp/tmp_03/offsets/10\n",
      "-rw-r--r--   3 dinar.sadykov hdfs        432 2023-03-12 14:20 /tmp/tmp_03/offsets/11\n",
      "-rw-r--r--   3 dinar.sadykov hdfs        432 2023-03-12 14:20 /tmp/tmp_03/offsets/12\n",
      "-rw-r--r--   3 dinar.sadykov hdfs        432 2023-03-12 14:20 /tmp/tmp_03/offsets/13\n",
      "-rw-r--r--   3 dinar.sadykov hdfs        432 2023-03-12 14:21 /tmp/tmp_03/offsets/14\n",
      "-rw-r--r--   3 dinar.sadykov hdfs        432 2023-03-12 14:19 /tmp/tmp_03/offsets/2\n",
      "-rw-r--r--   3 dinar.sadykov hdfs        432 2023-03-12 14:19 /tmp/tmp_03/offsets/3\n",
      "-rw-r--r--   3 dinar.sadykov hdfs        432 2023-03-12 14:19 /tmp/tmp_03/offsets/4\n",
      "-rw-r--r--   3 dinar.sadykov hdfs        432 2023-03-12 14:19 /tmp/tmp_03/offsets/5\n",
      "-rw-r--r--   3 dinar.sadykov hdfs        432 2023-03-12 14:19 /tmp/tmp_03/offsets/6\n",
      "-rw-r--r--   3 dinar.sadykov hdfs        432 2023-03-12 14:19 /tmp/tmp_03/offsets/7\n",
      "-rw-r--r--   3 dinar.sadykov hdfs        432 2023-03-12 14:20 /tmp/tmp_03/offsets/8\n",
      "-rw-r--r--   3 dinar.sadykov hdfs        432 2023-03-12 14:20 /tmp/tmp_03/offsets/9\n",
      "\n"
     ]
    }
   ],
   "source": [
    "println(\"hadoop fs -ls /tmp/tmp_03/offsets/\".!!)"
   ]
  },
  {
   "cell_type": "code",
   "execution_count": 41,
   "metadata": {},
   "outputs": [
    {
     "name": "stdout",
     "output_type": "stream",
     "text": [
      "v1\n",
      "{\"batchWatermarkMs\":0,\"batchTimestampMs\":1678619960002,\"conf\":{\"spark.sql.streaming.stateStore.providerClass\":\"org.apache.spark.sql.execution.streaming.state.HDFSBackedStateStoreProvider\",\"spark.sql.streaming.flatMapGroupsWithState.stateFormatVersion\":\"2\",\"spark.sql.streaming.multipleWatermarkPolicy\":\"min\",\"spark.sql.streaming.aggregation.stateFormatVersion\":\"2\",\"spark.sql.shuffle.partitions\":\"200\"}}\n",
      "{\"test_topic0\":{\"0\":320}}\n",
      "\n"
     ]
    }
   ],
   "source": [
    "println(\"hadoop fs -head /tmp/tmp_03/offsets/4/\".!!)"
   ]
  },
  {
   "cell_type": "markdown",
   "metadata": {},
   "source": [
    "# 8. Выводы:\n",
    "\n",
    "- Работать с Kafka можно как с использованием Static DF, так и с помощью Streaming DF\n",
    "- Чтобы стрим запоминал свое состояние после остановки, необходимо использовать checkpoint - директорию на HDFS (или локальной ФС), в которую будет сохранятся состояние стрима после каждого батча\n",
    "- Apache Kafka - распределенная система, обеспечивающая передачу потока данных в слабосвязанных системах"
   ]
  },
  {
   "cell_type": "code",
   "execution_count": null,
   "metadata": {},
   "outputs": [],
   "source": []
  },
  {
   "cell_type": "code",
   "execution_count": null,
   "metadata": {},
   "outputs": [],
   "source": []
  },
  {
   "cell_type": "code",
   "execution_count": null,
   "metadata": {},
   "outputs": [],
   "source": []
  },
  {
   "cell_type": "code",
   "execution_count": null,
   "metadata": {},
   "outputs": [],
   "source": []
  },
  {
   "cell_type": "code",
   "execution_count": null,
   "metadata": {},
   "outputs": [],
   "source": []
  },
  {
   "cell_type": "code",
   "execution_count": null,
   "metadata": {},
   "outputs": [],
   "source": []
  }
 ],
 "metadata": {
  "kernelspec": {
   "display_name": "Apache Toree - Scala",
   "language": "scala",
   "name": "apache_toree_scala"
  },
  "language_info": {
   "codemirror_mode": "text/x-scala",
   "file_extension": ".scala",
   "mimetype": "text/x-scala",
   "name": "scala",
   "pygments_lexer": "scala",
   "version": "2.11.12"
  }
 },
 "nbformat": 4,
 "nbformat_minor": 2
}
