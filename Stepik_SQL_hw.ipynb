{
  "cells": [
    {
      "cell_type": "markdown",
      "source": [
        "# SQL stepik\n",
        "https://stepik.org/course/63054?auth=login"
      ],
      "metadata": {
        "id": "lEbyONOwh9u8"
      }
    },
    {
      "cell_type": "code",
      "source": [
        "%%capture\n",
        "\n",
        "import json\n",
        "\n",
        "# ------------------------------------------------------\n",
        "# pySpark Tutorial from https://towardsdatascience.com/pyspark-on-google-colab-101-d31830b238be\n",
        "\n",
        "!apt-get install openjdk-11-jdk-headless -qq > /dev/null\n",
        "!wget -q https://archive.apache.org/dist/spark/spark-3.1.2/spark-3.1.2-bin-hadoop2.7.tgz\n",
        "!tar xf spark-3.1.2-bin-hadoop2.7.tgz\n",
        "!pip install -q findspark\n",
        "\n",
        "!pip install pickle5\n",
        "!pip install pyspark_dist_explore\n",
        "\n",
        "import os\n",
        "os.environ[\"JAVA_HOME\"] = \"/usr/lib/jvm/java-11-openjdk-amd64\"\n",
        "os.environ[\"SPARK_HOME\"] = \"/content/spark-3.1.2-bin-hadoop2.7\"\n",
        "os.environ[\"PYSPARK_SUBMIT_ARGS\"]='--num-executors 4 --executor-memory 4g --driver-memory 3g pyspark-shell'\n",
        "\n",
        "import findspark\n",
        "findspark.init()\n",
        "\n",
        "from pyspark.sql import SparkSession\n",
        "from pyspark.sql.types import StructType, StructField, IntegerType, LongType\n",
        "\n",
        "spark = (\n",
        "      SparkSession.builder\\\n",
        "        .master(\"local\")\\\n",
        "        .appName(\"sdr\")\\\n",
        "        .config('spark.ui.port', '4050')\\\n",
        "        .config(\"spark.driver.maxResultSize\", \"4g\")\\\n",
        "        #.config(\"spark.sql.crossJoin.enabled\", \"true\")\\\n",
        "         .config(\"spark.sql.catalogImplementation\",\"hive\")\n",
        "         .config(\"spark.sql.hive.convertMetastoreParquet\",\"false\")\n",
        "        .getOrCreate()\n",
        "      )\n",
        "\n",
        "from pyspark.ml.feature import Tokenizer, HashingTF, IDF\n",
        "\n",
        "from pyspark.ml import Pipeline\n",
        "import pyspark.sql.functions as F\n",
        "import pyspark.sql.types as T\n",
        "\n",
        "from pyspark.ml.linalg import DenseVector\n",
        "from pyspark.ml.linalg import Vectors\n",
        "from pyspark.ml.linalg import VectorUDT\n",
        "\n",
        "from pyspark.ml.feature import StringIndexer\n",
        "from pyspark.ml.feature import OneHotEncoder\n",
        "from pyspark.ml.feature import CountVectorizer\n",
        "from pyspark.ml.feature import VectorAssembler\n",
        "from pyspark.ml import Pipeline\n",
        "from pyspark.ml.evaluation import BinaryClassificationEvaluator\n",
        "from pyspark.ml.classification import LogisticRegression\n",
        "from pyspark.ml.classification import RandomForestClassifier\n",
        "from pyspark.ml.classification import GBTClassifier\n",
        "\n",
        "import gc\n",
        "import re\n",
        "from datetime import datetime\n",
        "\n",
        "import pickle5 as pickle\n",
        "import json\n",
        "\n",
        "from pyspark_dist_explore import hist\n",
        "import matplotlib.pyplot as plt\n",
        "\n",
        "spark"
      ],
      "metadata": {
        "id": "gp0ERCI8XDrY"
      },
      "execution_count": 1,
      "outputs": []
    },
    {
      "cell_type": "code",
      "source": [],
      "metadata": {
        "id": "OzQoKC8ubE8V"
      },
      "execution_count": 13,
      "outputs": []
    },
    {
      "cell_type": "code",
      "source": [
        "import pandas as pd\n",
        "\n",
        "t = \"\"\"('Баранов П.Е.','Москва',700 , '2020-01-12', '2020-01-17'),\n",
        "('Абрамова К.А.','Владивосток',450 , '2020-01-14', '2020-01-27'),\n",
        "('Семенов И.В.','Москва',700 , '2020-01-23', '2020-01-31'),\n",
        "('Ильиных Г.Р.','Владивосток', 450, '2020-01-12', '2020-02-02'),\n",
        "('Колесов С.П.','Москва',700 , '2020-02-01', '2020-02-06'),\n",
        "('Баранов П.Е.','Москва', 700, '2020-02-14', '2020-02-22'),\n",
        "('Абрамова К.А.','Москва', 700, '2020-02-23', '2020-03-01'),\n",
        "('Лебедев Т.К.','Москва', 700, '2020-03-03', '2020-03-06'),\n",
        "('Колесов С.П.','Новосибирск',450 , '2020-02-27', '2020-03-12'),\n",
        "('Семенов И.В.','Санкт-Петербург',700 , '2020-03-29', '2020-04-05'),\n",
        "('Абрамова К.А.','Москва',700 , '2020-04-06', '2020-04-14'),\n",
        "('Баранов П.Е.','Новосибирск',450 , '2020-04-18', '2020-05-04'),\n",
        "('Лебедев Т.К.','Томск',450 , '2020-05-20', '2020-05-31'),\n",
        "('Семенов И.В.','Санкт-Петербург',700 , '2020-06-01', '2020-06-03'),\n",
        "('Абрамова К.А.','Санкт-Петербург', 700, '2020-05-28', '2020-06-04'),\n",
        "('Федорова А.Ю.','Новосибирск',450 , '2020-05-25', '2020-06-04'),\n",
        "('Колесов С.П.','Новосибирск', 450, '2020-06-03', '2020-06-12'),\n",
        "('Федорова А.Ю.','Томск', 450, '2020-06-20', '2020-06-26'),\n",
        "('Абрамова К.А.','Владивосток', 450, '2020-07-02', '2020-07-13'),\n",
        "('Баранов П.Е.','Воронеж', 450, '2020-07-19', '2020-07-25')\"\"\"\n",
        "\n",
        "df_pd = pd.DataFrame( [ x \\\n",
        "                .replace(')','') \\\n",
        "                .replace('(','') \\\n",
        "                .replace(\"'\",'') \\\n",
        "                .split(',') for x in t.split('\\n')] ).drop(5,axis=1)\n",
        "df_pd.columns = ['name','city','per_diem','date_first','date_last']\n",
        "df_pd['per_diem'] = df_pd['per_diem'].astype('int32')\n",
        "\n",
        "df_pd['date_first'] = pd.to_datetime( df_pd['date_first'].map(lambda x: x.strip() )\n",
        "                                    ,format='%Y-%m-%d'\n",
        "                                    , errors='ignore')\n",
        "df_pd['date_last'] = pd.to_datetime( df_pd['date_last'].map(lambda x: x.strip() )\n",
        "                                    ,format='%Y-%m-%d'\n",
        "                                    , errors='ignore')\n",
        "\n",
        "# df_pd\n",
        "\n",
        "\n",
        "mySchema = StructType([\n",
        "                       StructField(\"name\", T.StringType(), True)\\\n",
        "                       ,StructField(\"city\", T.StringType(), True)\\\n",
        "                       ,StructField(\"per_diem\", T.IntegerType(), True)\\\n",
        "                       ,StructField(\"date_first\", T.TimestampType(), True)\\\n",
        "                       ,StructField(\"date_last\", T.TimestampType(), True)\n",
        "                       ])\n",
        "\n",
        "df_sp = spark \\\n",
        "      .createDataFrame(df_pd ,schema=mySchema ) \\\n",
        "      .withColumn('date_first', F.to_date(F.col('date_first')) ) \\\n",
        "      .withColumn('date_last', F.to_date(F.col('date_last')) )\n",
        "\n",
        "df_sp.createOrReplaceTempView(\"trip\")\n",
        "\n",
        "df_sp.printSchema()\n",
        "df_sp.show()"
      ],
      "metadata": {
        "colab": {
          "base_uri": "https://localhost:8080/"
        },
        "id": "ovgYkhvPXDwb",
        "outputId": "ab778b95-5194-4387-a9f3-615095bc53be"
      },
      "execution_count": 40,
      "outputs": [
        {
          "output_type": "stream",
          "name": "stdout",
          "text": [
            "root\n",
            " |-- name: string (nullable = true)\n",
            " |-- city: string (nullable = true)\n",
            " |-- per_diem: integer (nullable = true)\n",
            " |-- date_first: date (nullable = true)\n",
            " |-- date_last: date (nullable = true)\n",
            "\n",
            "+-------------+---------------+--------+----------+----------+\n",
            "|         name|           city|per_diem|date_first| date_last|\n",
            "+-------------+---------------+--------+----------+----------+\n",
            "| Баранов П.Е.|         Москва|     700|2020-01-12|2020-01-17|\n",
            "|Абрамова К.А.|    Владивосток|     450|2020-01-14|2020-01-27|\n",
            "| Семенов И.В.|         Москва|     700|2020-01-23|2020-01-31|\n",
            "| Ильиных Г.Р.|    Владивосток|     450|2020-01-12|2020-02-02|\n",
            "| Колесов С.П.|         Москва|     700|2020-02-01|2020-02-06|\n",
            "| Баранов П.Е.|         Москва|     700|2020-02-14|2020-02-22|\n",
            "|Абрамова К.А.|         Москва|     700|2020-02-23|2020-03-01|\n",
            "| Лебедев Т.К.|         Москва|     700|2020-03-03|2020-03-06|\n",
            "| Колесов С.П.|    Новосибирск|     450|2020-02-27|2020-03-12|\n",
            "| Семенов И.В.|Санкт-Петербург|     700|2020-03-29|2020-04-05|\n",
            "|Абрамова К.А.|         Москва|     700|2020-04-06|2020-04-14|\n",
            "| Баранов П.Е.|    Новосибирск|     450|2020-04-18|2020-05-04|\n",
            "| Лебедев Т.К.|          Томск|     450|2020-05-20|2020-05-31|\n",
            "| Семенов И.В.|Санкт-Петербург|     700|2020-06-01|2020-06-03|\n",
            "|Абрамова К.А.|Санкт-Петербург|     700|2020-05-28|2020-06-04|\n",
            "|Федорова А.Ю.|    Новосибирск|     450|2020-05-25|2020-06-04|\n",
            "| Колесов С.П.|    Новосибирск|     450|2020-06-03|2020-06-12|\n",
            "|Федорова А.Ю.|          Томск|     450|2020-06-20|2020-06-26|\n",
            "|Абрамова К.А.|    Владивосток|     450|2020-07-02|2020-07-13|\n",
            "| Баранов П.Е.|        Воронеж|     450|2020-07-19|2020-07-25|\n",
            "+-------------+---------------+--------+----------+----------+\n",
            "\n"
          ]
        }
      ]
    },
    {
      "cell_type": "code",
      "source": [
        "sql_str = \"\"\"\n",
        "\n",
        "select * from trip\n",
        "\n",
        "\"\"\"\n",
        "\n",
        "spark.sql(sql_str).show()"
      ],
      "metadata": {
        "colab": {
          "base_uri": "https://localhost:8080/"
        },
        "id": "6s89uWUzXDy5",
        "outputId": "fc03322e-a47f-4daa-9aaa-fe9c882d5153"
      },
      "execution_count": 41,
      "outputs": [
        {
          "output_type": "stream",
          "name": "stdout",
          "text": [
            "+-------------+---------------+--------+----------+----------+\n",
            "|         name|           city|per_diem|date_first| date_last|\n",
            "+-------------+---------------+--------+----------+----------+\n",
            "| Баранов П.Е.|         Москва|     700|2020-01-12|2020-01-17|\n",
            "|Абрамова К.А.|    Владивосток|     450|2020-01-14|2020-01-27|\n",
            "| Семенов И.В.|         Москва|     700|2020-01-23|2020-01-31|\n",
            "| Ильиных Г.Р.|    Владивосток|     450|2020-01-12|2020-02-02|\n",
            "| Колесов С.П.|         Москва|     700|2020-02-01|2020-02-06|\n",
            "| Баранов П.Е.|         Москва|     700|2020-02-14|2020-02-22|\n",
            "|Абрамова К.А.|         Москва|     700|2020-02-23|2020-03-01|\n",
            "| Лебедев Т.К.|         Москва|     700|2020-03-03|2020-03-06|\n",
            "| Колесов С.П.|    Новосибирск|     450|2020-02-27|2020-03-12|\n",
            "| Семенов И.В.|Санкт-Петербург|     700|2020-03-29|2020-04-05|\n",
            "|Абрамова К.А.|         Москва|     700|2020-04-06|2020-04-14|\n",
            "| Баранов П.Е.|    Новосибирск|     450|2020-04-18|2020-05-04|\n",
            "| Лебедев Т.К.|          Томск|     450|2020-05-20|2020-05-31|\n",
            "| Семенов И.В.|Санкт-Петербург|     700|2020-06-01|2020-06-03|\n",
            "|Абрамова К.А.|Санкт-Петербург|     700|2020-05-28|2020-06-04|\n",
            "|Федорова А.Ю.|    Новосибирск|     450|2020-05-25|2020-06-04|\n",
            "| Колесов С.П.|    Новосибирск|     450|2020-06-03|2020-06-12|\n",
            "|Федорова А.Ю.|          Томск|     450|2020-06-20|2020-06-26|\n",
            "|Абрамова К.А.|    Владивосток|     450|2020-07-02|2020-07-13|\n",
            "| Баранов П.Е.|        Воронеж|     450|2020-07-19|2020-07-25|\n",
            "+-------------+---------------+--------+----------+----------+\n",
            "\n"
          ]
        }
      ]
    },
    {
      "cell_type": "code",
      "source": [],
      "metadata": {
        "id": "0HMme5iZXD1Q"
      },
      "execution_count": null,
      "outputs": []
    }
  ],
  "metadata": {
    "colab": {
      "name": "Добро пожаловать в Colaboratory!",
      "provenance": []
    },
    "kernelspec": {
      "display_name": "Python 3",
      "name": "python3"
    }
  },
  "nbformat": 4,
  "nbformat_minor": 0
}