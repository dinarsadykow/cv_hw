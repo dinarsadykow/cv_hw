{
 "cells": [
  {
   "cell_type": "code",
   "execution_count": 1,
   "metadata": {},
   "outputs": [
    {
     "data": {
      "text/html": [
       "\n",
       "            <div>\n",
       "                <p><b>SparkSession - in-memory</b></p>\n",
       "                \n",
       "        <div>\n",
       "            <p><b>SparkContext</b></p>\n",
       "\n",
       "            <p><a href=\"http://spark-master-2.newprolab.com:4046\">Spark UI</a></p>\n",
       "\n",
       "            <dl>\n",
       "              <dt>Version</dt>\n",
       "                <dd><code>v2.4.7</code></dd>\n",
       "              <dt>Master</dt>\n",
       "                <dd><code>yarn</code></dd>\n",
       "              <dt>AppName</dt>\n",
       "                <dd><code>example_spark</code></dd>\n",
       "            </dl>\n",
       "        </div>\n",
       "        \n",
       "            </div>\n",
       "        "
      ],
      "text/plain": [
       "<pyspark.sql.session.SparkSession at 0x7fc950b691d0>"
      ]
     },
     "execution_count": 1,
     "metadata": {},
     "output_type": "execute_result"
    }
   ],
   "source": [
    "import os\n",
    "import sys\n",
    "os.environ[\"PYSPARK_SUBMIT_ARGS\"]='--num-executors 5 --executor-memory 4g --driver-memory 3g pyspark-shell'\n",
    "os.environ[\"PYSPARK_PYTHON\"]='/opt/anaconda/envs/bd9/bin/python'\n",
    "os.environ[\"SPARK_HOME\"]='/usr/hdp/current/spark2-client'\n",
    "\n",
    "spark_home = os.environ.get('SPARK_HOME', None)\n",
    "if not spark_home:\n",
    "    raise ValueError('SPARK_HOME environment variable is not set')\n",
    "sys.path.insert(0, os.path.join(spark_home, 'python'))\n",
    "sys.path.insert(0, os.path.join(spark_home, 'python/lib/py4j-0.10.7-src.zip'))\n",
    "\n",
    "from pyspark import SparkConf\n",
    "from pyspark.sql import SparkSession\n",
    "import pyspark.sql.functions as F\n",
    "import pyspark.sql.types as T\n",
    "\n",
    "conf = SparkConf()\n",
    "conf.set(\"spark.app.name\", f\"\"\"example_spark\"\"\") \n",
    "\n",
    "spark = SparkSession.builder.config(conf=conf).getOrCreate()\n",
    "spark"
   ]
  },
  {
   "cell_type": "code",
   "execution_count": 2,
   "metadata": {},
   "outputs": [
    {
     "name": "stdout",
     "output_type": "stream",
     "text": [
      "{\"lvl1\":[{\"col1\":\"BLOCKED\",\"col2\":123,\"col3\":null,\"col4\":456,\"col5\":\"Text2 (Text3)\"},{\"col1\":\"ACTIVE\",\"col2\":321,\"col3\":654,\"col4\":null,\"col5\":\"Text4 (Text5)\"}]}\n"
     ]
    }
   ],
   "source": [
    "# Example JSON value in Column (two JSON rows)\n",
    "t = \"\"\"{\"lvl1\":[{\"col1\":\"BLOCKED\",\"col2\":123,\"col3\":null,\"col4\":456,\"col5\":\"Text2 (Text3)\"},{\"col1\":\"ACTIVE\",\"col2\":321,\"col3\":654,\"col4\":null,\"col5\":\"Text4 (Text5)\"}]}\"\"\"\n",
    "print(t)"
   ]
  },
  {
   "cell_type": "code",
   "execution_count": 3,
   "metadata": {},
   "outputs": [
    {
     "name": "stdout",
     "output_type": "stream",
     "text": [
      "root\n",
      " |-- js: string (nullable = true)\n",
      "\n"
     ]
    }
   ],
   "source": [
    "import pandas as pd\n",
    "sdf=spark.createDataFrame(pd.DataFrame([t], columns=['js']))\n",
    "sdf.printSchema()"
   ]
  },
  {
   "cell_type": "code",
   "execution_count": 4,
   "metadata": {},
   "outputs": [
    {
     "name": "stdout",
     "output_type": "stream",
     "text": [
      "-RECORD 0---------------------------------------------------------------------------------------------------\n",
      " js  | {\"lvl1\":[{\"col1\":\"BLOCKED\",\"col2\":123,\"col3\":null,\"col4\":456,\"col5\":\"Text2 (Text3)\"},{\"col1\":\"ACT... \n",
      "\n"
     ]
    }
   ],
   "source": [
    "sdf.show(1,100,True)"
   ]
  },
  {
   "cell_type": "code",
   "execution_count": 5,
   "metadata": {},
   "outputs": [
    {
     "data": {
      "text/plain": [
       "StructType(List(StructField(lvl1,ArrayType(StructType(List(StructField(col1,StringType,true),StructField(col2,LongType,true),StructField(col3,LongType,true),StructField(col4,LongType,true),StructField(col5,StringType,true))),true),true)))"
      ]
     },
     "execution_count": 5,
     "metadata": {},
     "output_type": "execute_result"
    }
   ],
   "source": [
    "# Magic create schema JSON\n",
    "params_list = sdf.select(\"js\").rdd.flatMap(lambda x: x).collect()\n",
    "params_rdd = spark.sparkContext.parallelize(params_list)\n",
    "schema = spark.read.json(params_rdd).schema\n",
    "schema"
   ]
  },
  {
   "cell_type": "code",
   "execution_count": 6,
   "metadata": {},
   "outputs": [
    {
     "name": "stdout",
     "output_type": "stream",
     "text": [
      "root\n",
      " |-- js: string (nullable = true)\n",
      " |-- lvl2: struct (nullable = true)\n",
      " |    |-- lvl1: array (nullable = true)\n",
      " |    |    |-- element: struct (containsNull = true)\n",
      " |    |    |    |-- col1: string (nullable = true)\n",
      " |    |    |    |-- col2: long (nullable = true)\n",
      " |    |    |    |-- col3: long (nullable = true)\n",
      " |    |    |    |-- col4: long (nullable = true)\n",
      " |    |    |    |-- col5: string (nullable = true)\n",
      "\n"
     ]
    }
   ],
   "source": [
    "# Use new schema for JSON\n",
    "sdf2 = sdf.withColumn( \"lvl2\", F.from_json( F.col(\"js\"), schema ) )\n",
    "sdf2.printSchema()"
   ]
  },
  {
   "cell_type": "code",
   "execution_count": 7,
   "metadata": {},
   "outputs": [
    {
     "name": "stdout",
     "output_type": "stream",
     "text": [
      "root\n",
      " |-- js: string (nullable = true)\n",
      " |-- lvl2: struct (nullable = true)\n",
      " |    |-- col1: string (nullable = true)\n",
      " |    |-- col2: long (nullable = true)\n",
      " |    |-- col3: long (nullable = true)\n",
      " |    |-- col4: long (nullable = true)\n",
      " |    |-- col5: string (nullable = true)\n",
      "\n"
     ]
    }
   ],
   "source": [
    "sdf3 = (sdf\n",
    "    .withColumn( \"lvl2\", F.from_json( F.col(\"js\"), schema ) )\n",
    "    .withColumn( \"lvl2\", F.explode( F.col(\"lvl2.lvl1\") ) )\n",
    ")\n",
    "sdf3.printSchema()"
   ]
  },
  {
   "cell_type": "code",
   "execution_count": 8,
   "metadata": {},
   "outputs": [
    {
     "name": "stdout",
     "output_type": "stream",
     "text": [
      "-RECORD 0-----------------------------------------------------------------------------------------------------------------------------------------------------------------\n",
      " js   | {\"lvl1\":[{\"col1\":\"BLOCKED\",\"col2\":123,\"col3\":null,\"col4\":456,\"col5\":\"Text2 (Text3)\"},{\"col1\":\"ACTIVE\",\"col2\":321,\"col3\":654,\"col4\":null,\"col5\":\"Text4 (Text5)\"}]} \n",
      " lvl2 | [BLOCKED, 123,, 456, Text2 (Text3)]                                                                                                                               \n",
      "only showing top 1 row\n",
      "\n"
     ]
    }
   ],
   "source": [
    "sdf3.show(1,False,True)"
   ]
  },
  {
   "cell_type": "code",
   "execution_count": 9,
   "metadata": {},
   "outputs": [
    {
     "name": "stdout",
     "output_type": "stream",
     "text": [
      "root\n",
      " |-- col1: string (nullable = true)\n",
      " |-- col2: long (nullable = true)\n",
      " |-- col3: long (nullable = true)\n",
      " |-- col4: long (nullable = true)\n",
      " |-- col5: string (nullable = true)\n",
      "\n"
     ]
    }
   ],
   "source": [
    "sdf4 = sdf3.select(\"lvl2.*\")\n",
    "sdf4.printSchema()"
   ]
  },
  {
   "cell_type": "code",
   "execution_count": 10,
   "metadata": {},
   "outputs": [
    {
     "name": "stdout",
     "output_type": "stream",
     "text": [
      "+-------+----+----+----+-------------+\n",
      "|   col1|col2|col3|col4|         col5|\n",
      "+-------+----+----+----+-------------+\n",
      "|BLOCKED| 123|null| 456|Text2 (Text3)|\n",
      "| ACTIVE| 321| 654|null|Text4 (Text5)|\n",
      "+-------+----+----+----+-------------+\n",
      "\n"
     ]
    }
   ],
   "source": [
    "sdf4.show()"
   ]
  }
 ],
 "metadata": {
  "kernelspec": {
   "display_name": "Python 3",
   "language": "python",
   "name": "python3"
  },
  "language_info": {
   "codemirror_mode": {
    "name": "ipython",
    "version": 3
   },
   "file_extension": ".py",
   "mimetype": "text/x-python",
   "name": "python",
   "nbconvert_exporter": "python",
   "pygments_lexer": "ipython3",
   "version": "3.6.5"
  }
 },
 "nbformat": 4,
 "nbformat_minor": 2
}
